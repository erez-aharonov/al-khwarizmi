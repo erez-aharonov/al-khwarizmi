{
 "cells": [
  {
   "cell_type": "code",
   "execution_count": 176,
   "id": "38bd49d8",
   "metadata": {},
   "outputs": [],
   "source": [
    "from typing import *\n",
    "import libcst as cst\n",
    "import networkx as nx\n",
    "import pandas as pd\n",
    "import numpy as np"
   ]
  },
  {
   "cell_type": "code",
   "execution_count": 177,
   "id": "c0c638b8",
   "metadata": {},
   "outputs": [],
   "source": [
    "from alkh import cst_utils"
   ]
  },
  {
   "cell_type": "code",
   "execution_count": 178,
   "id": "811a1b17",
   "metadata": {},
   "outputs": [],
   "source": [
    "# file_path = 'play.py'\n",
    "file_path = 'play2.py'\n",
    "# file_path = '/mnt/dev/azure_projects/ATool/core/aoi_defects_clustering/aoi_defect_clustering.py'"
   ]
  },
  {
   "cell_type": "code",
   "execution_count": 179,
   "id": "1b77ce01",
   "metadata": {},
   "outputs": [],
   "source": [
    "file_lines = open(file_path, 'r').readlines()\n",
    "file_content = open(file_path, 'r').read()\n",
    "wrapper = cst.metadata.MetadataWrapper(cst.parse_module(file_content))\n",
    "scopes = set(wrapper.resolve(cst.metadata.ScopeProvider).values())\n",
    "ranges = wrapper.resolve(cst.metadata.PositionProvider)\n",
    "file_number_of_lines = len(file_lines)"
   ]
  },
  {
   "cell_type": "code",
   "execution_count": 180,
   "id": "b9f9d7a0",
   "metadata": {},
   "outputs": [
    {
     "data": {
      "text/plain": [
       "{<libcst.metadata.scope_provider.GlobalScope at 0x7f388de331f0>}"
      ]
     },
     "execution_count": 180,
     "metadata": {},
     "output_type": "execute_result"
    }
   ],
   "source": [
    "scopes"
   ]
  },
  {
   "cell_type": "code",
   "execution_count": 181,
   "id": "6a2b8391",
   "metadata": {},
   "outputs": [
    {
     "data": {
      "text/plain": [
       "While(\n",
       "    test=Integer(\n",
       "        value='1',\n",
       "        lpar=[],\n",
       "        rpar=[],\n",
       "    ),\n",
       "    body=IndentedBlock(\n",
       "        body=[\n",
       "            SimpleStatementLine(\n",
       "                body=[\n",
       "                    Pass(\n",
       "                        semicolon=MaybeSentinel.DEFAULT,\n",
       "                    ),\n",
       "                ],\n",
       "                leading_lines=[],\n",
       "                trailing_whitespace=TrailingWhitespace(\n",
       "                    whitespace=SimpleWhitespace(\n",
       "                        value='',\n",
       "                    ),\n",
       "                    comment=None,\n",
       "                    newline=Newline(\n",
       "                        value=None,\n",
       "                    ),\n",
       "                ),\n",
       "            ),\n",
       "        ],\n",
       "        header=TrailingWhitespace(\n",
       "            whitespace=SimpleWhitespace(\n",
       "                value='',\n",
       "            ),\n",
       "            comment=None,\n",
       "            newline=Newline(\n",
       "                value=None,\n",
       "            ),\n",
       "        ),\n",
       "        indent=None,\n",
       "        footer=[],\n",
       "    ),\n",
       "    orelse=None,\n",
       "    leading_lines=[],\n",
       "    whitespace_after_while=SimpleWhitespace(\n",
       "        value=' ',\n",
       "    ),\n",
       "    whitespace_before_colon=SimpleWhitespace(\n",
       "        value='\\\\\\n        ',\n",
       "    ),\n",
       ")"
      ]
     },
     "execution_count": 181,
     "metadata": {},
     "output_type": "execute_result"
    }
   ],
   "source": [
    "k = wrapper.module.body[0]\n",
    "k"
   ]
  },
  {
   "cell_type": "code",
   "execution_count": 182,
   "id": "2b6d180e",
   "metadata": {},
   "outputs": [
    {
     "data": {
      "text/plain": [
       "libcst._nodes.statement.While"
      ]
     },
     "execution_count": 182,
     "metadata": {},
     "output_type": "execute_result"
    }
   ],
   "source": [
    "type(k)"
   ]
  },
  {
   "cell_type": "code",
   "execution_count": 183,
   "id": "1efc8570",
   "metadata": {},
   "outputs": [
    {
     "data": {
      "text/plain": [
       "CodeRange(start=CodePosition(line=1, column=0), end=CodePosition(line=3, column=8))"
      ]
     },
     "execution_count": 183,
     "metadata": {},
     "output_type": "execute_result"
    }
   ],
   "source": [
    "ranges[k]"
   ]
  },
  {
   "cell_type": "code",
   "execution_count": 184,
   "id": "744facb8",
   "metadata": {},
   "outputs": [
    {
     "data": {
      "text/plain": [
       "Integer(\n",
       "    value='1',\n",
       "    lpar=[],\n",
       "    rpar=[],\n",
       ")"
      ]
     },
     "execution_count": 184,
     "metadata": {},
     "output_type": "execute_result"
    }
   ],
   "source": [
    "k.test"
   ]
  },
  {
   "cell_type": "code",
   "execution_count": 185,
   "id": "e26917ff",
   "metadata": {},
   "outputs": [
    {
     "data": {
      "text/plain": [
       "CodeRange(start=CodePosition(line=1, column=6), end=CodePosition(line=1, column=7))"
      ]
     },
     "execution_count": 185,
     "metadata": {},
     "output_type": "execute_result"
    }
   ],
   "source": [
    "ranges[k.test]"
   ]
  },
  {
   "cell_type": "code",
   "execution_count": 186,
   "id": "4e36c91f",
   "metadata": {},
   "outputs": [
    {
     "data": {
      "text/plain": [
       "1"
      ]
     },
     "execution_count": 186,
     "metadata": {},
     "output_type": "execute_result"
    }
   ],
   "source": [
    "ranges[k.test].end.line"
   ]
  },
  {
   "cell_type": "code",
   "execution_count": 174,
   "id": "589bcbff",
   "metadata": {},
   "outputs": [
    {
     "data": {
      "text/plain": [
       "CodeRange(start=CodePosition(line=1, column=0), end=CodePosition(line=2, column=22))"
      ]
     },
     "execution_count": 174,
     "metadata": {},
     "output_type": "execute_result"
    }
   ],
   "source": [
    "ranges[k]"
   ]
  },
  {
   "cell_type": "code",
   "execution_count": 187,
   "id": "33ffaef5",
   "metadata": {},
   "outputs": [
    {
     "data": {
      "text/plain": [
       "While(\n",
       "    test=Integer(\n",
       "        value='1',\n",
       "        lpar=[],\n",
       "        rpar=[],\n",
       "    ),\n",
       "    body=IndentedBlock(\n",
       "        body=[\n",
       "            SimpleStatementLine(\n",
       "                body=[\n",
       "                    Pass(\n",
       "                        semicolon=MaybeSentinel.DEFAULT,\n",
       "                    ),\n",
       "                ],\n",
       "                leading_lines=[],\n",
       "                trailing_whitespace=TrailingWhitespace(\n",
       "                    whitespace=SimpleWhitespace(\n",
       "                        value='',\n",
       "                    ),\n",
       "                    comment=None,\n",
       "                    newline=Newline(\n",
       "                        value=None,\n",
       "                    ),\n",
       "                ),\n",
       "            ),\n",
       "        ],\n",
       "        header=TrailingWhitespace(\n",
       "            whitespace=SimpleWhitespace(\n",
       "                value='',\n",
       "            ),\n",
       "            comment=None,\n",
       "            newline=Newline(\n",
       "                value=None,\n",
       "            ),\n",
       "        ),\n",
       "        indent=None,\n",
       "        footer=[],\n",
       "    ),\n",
       "    orelse=None,\n",
       "    leading_lines=[],\n",
       "    whitespace_after_while=SimpleWhitespace(\n",
       "        value=' ',\n",
       "    ),\n",
       "    whitespace_before_colon=SimpleWhitespace(\n",
       "        value='\\\\\\n        ',\n",
       "    ),\n",
       ")"
      ]
     },
     "execution_count": 187,
     "metadata": {},
     "output_type": "execute_result"
    }
   ],
   "source": [
    "k"
   ]
  },
  {
   "cell_type": "code",
   "execution_count": 189,
   "id": "bd3346f4",
   "metadata": {},
   "outputs": [],
   "source": [
    "class IfElseScopeCollector(cst.CSTVisitor):\n",
    "    def __init__(self, ranges):\n",
    "        super().__init__()\n",
    "        self._ranges = ranges\n",
    "        self.scopes: List[Tuple] = []\n",
    "\n",
    "    def visit_If(self, node: cst.If) -> None:\n",
    "        node_range = ranges[node]\n",
    "        start_line = node_range.start.line\n",
    "        head_end_line = ranges[node.whitespace_after_test].end.line\n",
    "        end_line = node_range.end.line\n",
    "        self.scopes.append((start_line, head_end_line, end_line))\n",
    "        \n",
    "    def visit_Else(self, node: cst.If) -> None:\n",
    "        node_range = self._ranges[node]\n",
    "        start_line = node_range.start.line\n",
    "        head_end_line = self._ranges[node.whitespace_before_colon].end.line\n",
    "        end_line = node_range.end.line\n",
    "        self.scopes.append((start_line, head_end_line, end_line))\n",
    "        \n",
    "    def visit_With(self, node: cst.If) -> None:\n",
    "        node_range = self._ranges[node]\n",
    "        start_line = node_range.start.line\n",
    "        head_end_line = self._ranges[node.whitespace_before_colon].end.line\n",
    "        end_line = node_range.end.line\n",
    "        self.scopes.append((start_line, head_end_line, end_line))\n",
    "        \n",
    "    def visit_Try(self, node: cst.If) -> None:\n",
    "        node_range = self._ranges[node]\n",
    "        start_line = node_range.start.line\n",
    "        head_end_line = self._ranges[node.whitespace_before_colon].end.line\n",
    "        end_line = node_range.end.line\n",
    "        self.scopes.append((start_line, head_end_line, end_line))\n",
    "        \n",
    "    def visit_ExceptHandler(self, node: cst.If) -> None:\n",
    "        node_range = self._ranges[node]\n",
    "        start_line = node_range.start.line\n",
    "        head_end_line = self._ranges[node.whitespace_before_colon].end.line\n",
    "        end_line = node_range.end.line\n",
    "        self.scopes.append((start_line, head_end_line, end_line))\n",
    "        \n",
    "    def visit_Finally(self, node: cst.If) -> None:\n",
    "        node_range = self._ranges[node]\n",
    "        start_line = node_range.start.line\n",
    "        head_end_line = self._ranges[node.whitespace_before_colon].end.line\n",
    "        end_line = node_range.end.line\n",
    "        self.scopes.append((start_line, head_end_line, end_line))\n",
    "        \n",
    "    def visit_While(self, node: cst.While) -> None:\n",
    "        node_range = self._ranges[node]\n",
    "        start_line = node_range.start.line\n",
    "        head_end_line = self._ranges[node.whitespace_before_colon].end.line\n",
    "        end_line = node_range.end.line\n",
    "        self.scopes.append((start_line, head_end_line, end_line))  "
   ]
  },
  {
   "cell_type": "code",
   "execution_count": 190,
   "id": "f03ad91b",
   "metadata": {},
   "outputs": [],
   "source": [
    "collector = IfElseScopeCollector(ranges)\n",
    "m = wrapper.visit(collector)"
   ]
  },
  {
   "cell_type": "code",
   "execution_count": 191,
   "id": "e53f6fa4",
   "metadata": {},
   "outputs": [
    {
     "data": {
      "text/plain": [
       "[(1, 2, 3)]"
      ]
     },
     "execution_count": 191,
     "metadata": {},
     "output_type": "execute_result"
    }
   ],
   "source": [
    "collector.scopes"
   ]
  },
  {
   "cell_type": "code",
   "execution_count": 98,
   "id": "7d94985e",
   "metadata": {},
   "outputs": [
    {
     "data": {
      "text/html": [
       "<div>\n",
       "<style scoped>\n",
       "    .dataframe tbody tr th:only-of-type {\n",
       "        vertical-align: middle;\n",
       "    }\n",
       "\n",
       "    .dataframe tbody tr th {\n",
       "        vertical-align: top;\n",
       "    }\n",
       "\n",
       "    .dataframe thead th {\n",
       "        text-align: right;\n",
       "    }\n",
       "</style>\n",
       "<table border=\"1\" class=\"dataframe\">\n",
       "  <thead>\n",
       "    <tr style=\"text-align: right;\">\n",
       "      <th></th>\n",
       "      <th>start_line_number</th>\n",
       "      <th>header_end_line_number</th>\n",
       "      <th>end_line_number</th>\n",
       "    </tr>\n",
       "  </thead>\n",
       "  <tbody>\n",
       "    <tr>\n",
       "      <th>0</th>\n",
       "      <td>1</td>\n",
       "      <td>2</td>\n",
       "      <td>11</td>\n",
       "    </tr>\n",
       "    <tr>\n",
       "      <th>1</th>\n",
       "      <td>4</td>\n",
       "      <td>4</td>\n",
       "      <td>11</td>\n",
       "    </tr>\n",
       "    <tr>\n",
       "      <th>2</th>\n",
       "      <td>6</td>\n",
       "      <td>7</td>\n",
       "      <td>11</td>\n",
       "    </tr>\n",
       "    <tr>\n",
       "      <th>3</th>\n",
       "      <td>9</td>\n",
       "      <td>10</td>\n",
       "      <td>11</td>\n",
       "    </tr>\n",
       "  </tbody>\n",
       "</table>\n",
       "</div>"
      ],
      "text/plain": [
       "   start_line_number  header_end_line_number  end_line_number\n",
       "0                  1                       2               11\n",
       "1                  4                       4               11\n",
       "2                  6                       7               11\n",
       "3                  9                      10               11"
      ]
     },
     "execution_count": 98,
     "metadata": {},
     "output_type": "execute_result"
    }
   ],
   "source": [
    "extended_scopes_df = pd.DataFrame(collector.scopes, columns=[\"start_line_number\", \"header_end_line_number\", \"end_line_number\"])"
   ]
  },
  {
   "cell_type": "code",
   "execution_count": 118,
   "id": "8af24424",
   "metadata": {},
   "outputs": [],
   "source": [
    "j = k.body.body[0]"
   ]
  },
  {
   "cell_type": "code",
   "execution_count": 119,
   "id": "0b1cfcb7",
   "metadata": {},
   "outputs": [
    {
     "data": {
      "text/plain": [
       "CodeRange(start=CodePosition(line=3, column=4), end=CodePosition(line=5, column=12))"
      ]
     },
     "execution_count": 119,
     "metadata": {},
     "output_type": "execute_result"
    }
   ],
   "source": [
    "ranges[j]"
   ]
  },
  {
   "cell_type": "code",
   "execution_count": 120,
   "id": "ce0ed1c2",
   "metadata": {},
   "outputs": [
    {
     "data": {
      "text/plain": [
       "With(\n",
       "    items=[\n",
       "        WithItem(\n",
       "            item=Integer(\n",
       "                value='1',\n",
       "                lpar=[],\n",
       "                rpar=[],\n",
       "            ),\n",
       "            asname=AsName(\n",
       "                name=Name(\n",
       "                    value='t',\n",
       "                    lpar=[],\n",
       "                    rpar=[],\n",
       "                ),\n",
       "                whitespace_before_as=SimpleWhitespace(\n",
       "                    value=' ',\n",
       "                ),\n",
       "                whitespace_after_as=SimpleWhitespace(\n",
       "                    value=' ',\n",
       "                ),\n",
       "            ),\n",
       "            comma=MaybeSentinel.DEFAULT,\n",
       "        ),\n",
       "    ],\n",
       "    body=IndentedBlock(\n",
       "        body=[\n",
       "            SimpleStatementLine(\n",
       "                body=[\n",
       "                    Pass(\n",
       "                        semicolon=MaybeSentinel.DEFAULT,\n",
       "                    ),\n",
       "                ],\n",
       "                leading_lines=[],\n",
       "                trailing_whitespace=TrailingWhitespace(\n",
       "                    whitespace=SimpleWhitespace(\n",
       "                        value='',\n",
       "                    ),\n",
       "                    comment=None,\n",
       "                    newline=Newline(\n",
       "                        value=None,\n",
       "                    ),\n",
       "                ),\n",
       "            ),\n",
       "        ],\n",
       "        header=TrailingWhitespace(\n",
       "            whitespace=SimpleWhitespace(\n",
       "                value='',\n",
       "            ),\n",
       "            comment=None,\n",
       "            newline=Newline(\n",
       "                value=None,\n",
       "            ),\n",
       "        ),\n",
       "        indent=None,\n",
       "        footer=[],\n",
       "    ),\n",
       "    asynchronous=None,\n",
       "    leading_lines=[],\n",
       "    lpar=MaybeSentinel.DEFAULT,\n",
       "    rpar=MaybeSentinel.DEFAULT,\n",
       "    whitespace_after_with=SimpleWhitespace(\n",
       "        value=' ',\n",
       "    ),\n",
       "    whitespace_before_colon=SimpleWhitespace(\n",
       "        value='\\\\\\n            ',\n",
       "    ),\n",
       ")"
      ]
     },
     "execution_count": 120,
     "metadata": {},
     "output_type": "execute_result"
    }
   ],
   "source": [
    "j"
   ]
  },
  {
   "cell_type": "code",
   "execution_count": 122,
   "id": "04c6e877",
   "metadata": {},
   "outputs": [
    {
     "data": {
      "text/plain": [
       "CodeRange(start=CodePosition(line=3, column=15), end=CodePosition(line=4, column=12))"
      ]
     },
     "execution_count": 122,
     "metadata": {},
     "output_type": "execute_result"
    }
   ],
   "source": [
    "ranges[j.whitespace_before_colon]"
   ]
  },
  {
   "cell_type": "code",
   "execution_count": 156,
   "id": "7e48eeea",
   "metadata": {},
   "outputs": [
    {
     "data": {
      "text/plain": [
       "Try(\n",
       "    body=IndentedBlock(\n",
       "        body=[\n",
       "            SimpleStatementLine(\n",
       "                body=[\n",
       "                    Pass(\n",
       "                        semicolon=MaybeSentinel.DEFAULT,\n",
       "                    ),\n",
       "                ],\n",
       "                leading_lines=[],\n",
       "                trailing_whitespace=TrailingWhitespace(\n",
       "                    whitespace=SimpleWhitespace(\n",
       "                        value='',\n",
       "                    ),\n",
       "                    comment=None,\n",
       "                    newline=Newline(\n",
       "                        value=None,\n",
       "                    ),\n",
       "                ),\n",
       "            ),\n",
       "        ],\n",
       "        header=TrailingWhitespace(\n",
       "            whitespace=SimpleWhitespace(\n",
       "                value='',\n",
       "            ),\n",
       "            comment=None,\n",
       "            newline=Newline(\n",
       "                value=None,\n",
       "            ),\n",
       "        ),\n",
       "        indent=None,\n",
       "        footer=[],\n",
       "    ),\n",
       "    handlers=[\n",
       "        ExceptHandler(\n",
       "            body=IndentedBlock(\n",
       "                body=[\n",
       "                    SimpleStatementLine(\n",
       "                        body=[\n",
       "                            Pass(\n",
       "                                semicolon=MaybeSentinel.DEFAULT,\n",
       "                            ),\n",
       "                        ],\n",
       "                        leading_lines=[],\n",
       "                        trailing_whitespace=TrailingWhitespace(\n",
       "                            whitespace=SimpleWhitespace(\n",
       "                                value='',\n",
       "                            ),\n",
       "                            comment=None,\n",
       "                            newline=Newline(\n",
       "                                value=None,\n",
       "                            ),\n",
       "                        ),\n",
       "                    ),\n",
       "                ],\n",
       "                header=TrailingWhitespace(\n",
       "                    whitespace=SimpleWhitespace(\n",
       "                        value='',\n",
       "                    ),\n",
       "                    comment=None,\n",
       "                    newline=Newline(\n",
       "                        value=None,\n",
       "                    ),\n",
       "                ),\n",
       "                indent=None,\n",
       "                footer=[],\n",
       "            ),\n",
       "            type=None,\n",
       "            name=None,\n",
       "            leading_lines=[],\n",
       "            whitespace_after_except=SimpleWhitespace(\n",
       "                value='',\n",
       "            ),\n",
       "            whitespace_before_colon=SimpleWhitespace(\n",
       "                value='',\n",
       "            ),\n",
       "        ),\n",
       "    ],\n",
       "    orelse=None,\n",
       "    finalbody=Finally(\n",
       "        body=IndentedBlock(\n",
       "            body=[\n",
       "                SimpleStatementLine(\n",
       "                    body=[\n",
       "                        Pass(\n",
       "                            semicolon=MaybeSentinel.DEFAULT,\n",
       "                        ),\n",
       "                    ],\n",
       "                    leading_lines=[],\n",
       "                    trailing_whitespace=TrailingWhitespace(\n",
       "                        whitespace=SimpleWhitespace(\n",
       "                            value='',\n",
       "                        ),\n",
       "                        comment=None,\n",
       "                        newline=Newline(\n",
       "                            value=None,\n",
       "                        ),\n",
       "                    ),\n",
       "                ),\n",
       "            ],\n",
       "            header=TrailingWhitespace(\n",
       "                whitespace=SimpleWhitespace(\n",
       "                    value='',\n",
       "                ),\n",
       "                comment=None,\n",
       "                newline=Newline(\n",
       "                    value=None,\n",
       "                ),\n",
       "            ),\n",
       "            indent=None,\n",
       "            footer=[],\n",
       "        ),\n",
       "        leading_lines=[],\n",
       "        whitespace_before_colon=SimpleWhitespace(\n",
       "            value='',\n",
       "        ),\n",
       "    ),\n",
       "    leading_lines=[],\n",
       "    whitespace_before_colon=SimpleWhitespace(\n",
       "        value='\\\\\\n                ',\n",
       "    ),\n",
       ")"
      ]
     },
     "execution_count": 156,
     "metadata": {},
     "output_type": "execute_result"
    }
   ],
   "source": [
    "h = k.body.body[0].body.body[0]\n",
    "h"
   ]
  },
  {
   "cell_type": "code",
   "execution_count": 157,
   "id": "ffb52ea7",
   "metadata": {},
   "outputs": [
    {
     "data": {
      "text/plain": [
       "CodeRange(start=CodePosition(line=5, column=8), end=CodePosition(line=11, column=16))"
      ]
     },
     "execution_count": 157,
     "metadata": {},
     "output_type": "execute_result"
    }
   ],
   "source": [
    "ranges[h]"
   ]
  },
  {
   "cell_type": "code",
   "execution_count": 158,
   "id": "15725b7a",
   "metadata": {},
   "outputs": [
    {
     "data": {
      "text/plain": [
       "CodeRange(start=CodePosition(line=5, column=11), end=CodePosition(line=6, column=16))"
      ]
     },
     "execution_count": 158,
     "metadata": {},
     "output_type": "execute_result"
    }
   ],
   "source": [
    "ranges[h.whitespace_before_colon]"
   ]
  },
  {
   "cell_type": "code",
   "execution_count": null,
   "id": "a7c3ea3e",
   "metadata": {},
   "outputs": [],
   "source": []
  },
  {
   "cell_type": "code",
   "execution_count": null,
   "id": "9a829879",
   "metadata": {},
   "outputs": [],
   "source": []
  }
 ],
 "metadata": {
  "kernelspec": {
   "display_name": "Python 3 (ipykernel)",
   "language": "python",
   "name": "python3"
  },
  "language_info": {
   "codemirror_mode": {
    "name": "ipython",
    "version": 3
   },
   "file_extension": ".py",
   "mimetype": "text/x-python",
   "name": "python",
   "nbconvert_exporter": "python",
   "pygments_lexer": "ipython3",
   "version": "3.8.3"
  }
 },
 "nbformat": 4,
 "nbformat_minor": 5
}
