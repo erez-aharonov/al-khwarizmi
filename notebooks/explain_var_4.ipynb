{
 "cells": [
  {
   "cell_type": "code",
   "execution_count": 31,
   "id": "c42ff5a0",
   "metadata": {},
   "outputs": [],
   "source": [
    "from typing import *\n",
    "import libcst as cst\n",
    "import networkx as nx\n",
    "import pandas as pd\n",
    "import numpy as np"
   ]
  },
  {
   "cell_type": "code",
   "execution_count": 32,
   "id": "e3a90ce4",
   "metadata": {},
   "outputs": [],
   "source": [
    "from alkh import cst_utils"
   ]
  },
  {
   "cell_type": "code",
   "execution_count": 33,
   "id": "d1993bce",
   "metadata": {},
   "outputs": [],
   "source": [
    "# file_path = 'play.py'\n",
    "file_path = 'play2.py'\n",
    "# file_path = '/mnt/dev/azure_projects/ATool/core/aoi_defects_clustering/aoi_defect_clustering.py'"
   ]
  },
  {
   "cell_type": "code",
   "execution_count": 34,
   "id": "57884963",
   "metadata": {},
   "outputs": [],
   "source": [
    "file_lines = open(file_path, 'r').readlines()\n",
    "file_content = open(file_path, 'r').read()\n",
    "wrapper = cst.metadata.MetadataWrapper(cst.parse_module(file_content))\n",
    "scopes = set(wrapper.resolve(cst.metadata.ScopeProvider).values())\n",
    "ranges = wrapper.resolve(cst.metadata.PositionProvider)\n",
    "file_number_of_lines = len(file_lines)"
   ]
  },
  {
   "cell_type": "code",
   "execution_count": 35,
   "id": "c10db366",
   "metadata": {},
   "outputs": [],
   "source": [
    "class AssignCollector(cst.CSTVisitor):\n",
    "    def __init__(self, ranges):\n",
    "        super().__init__()\n",
    "        self._ranges = ranges\n",
    "        self._assign_info: List[Tuple] = []\n",
    "\n",
    "    def get_info(self):\n",
    "        return self._assign_info\n",
    "\n",
    "    def visit_Assign(self, node: cst.FunctionDef) -> None:\n",
    "        pos_start = self._ranges[node].start\n",
    "        pos_end = self._ranges[node].end\n",
    "        value_collector = ValueCollector()\n",
    "        node.value.visit(value_collector)\n",
    "        value_dict = {'names': value_collector.names, 'ints': value_collector.ints, 'floats': value_collector.floats}\n",
    "        for target in node.targets:\n",
    "            target_collector = ValueCollector()\n",
    "            target.visit(target_collector)\n",
    "            names_list = target_collector.names\n",
    "            if names_list:\n",
    "                self._assign_info.append((target_collector.names, value_dict, pos_start.line, pos_end.line))\n",
    "\n",
    "\n",
    "class ValueCollector(cst.CSTVisitor):\n",
    "    def __init__(self):\n",
    "        super().__init__()\n",
    "        self.names: List[List] = []\n",
    "        self.ints: List[str] = []\n",
    "        self.floats: List[str] = []\n",
    "        self._attribute_level = 0\n",
    "\n",
    "    def visit_Name(self, node: cst.FunctionDef) -> None:\n",
    "        if self._attribute_level == 0:\n",
    "            self.names.append([node.value])\n",
    "\n",
    "    def visit_Integer(self, node: cst.FunctionDef) -> None:\n",
    "        self.ints.append(node.value)\n",
    "\n",
    "    def visit_Float(self, node: cst.FunctionDef) -> None:\n",
    "        self.floats.append(node.value)\n",
    "\n",
    "    def visit_Attribute(self, node: cst.FunctionDef) -> None:\n",
    "        self._attribute_level += 1\n",
    "        \n",
    "    def visit_Subscript(self, node: cst.FunctionDef) -> None:\n",
    "        self._attribute_level += 1\n",
    "\n",
    "    def leave_Attribute(self, node: cst.FunctionDef) -> None:\n",
    "        if isinstance(node.value, cst.Name):\n",
    "            self.names.append([node.value.value, node.attr.value])\n",
    "        else:\n",
    "            self.names[len(self.names) - 1].append(node.attr.value)\n",
    "        self._attribute_level -= 1\n",
    "        \n",
    "    def leave_Subscript(self, node: cst.FunctionDef) -> None:\n",
    "        if isinstance(node.value, cst.Name):\n",
    "            self.names.append([node.value.value])\n",
    "        self._attribute_level -= 1"
   ]
  },
  {
   "cell_type": "code",
   "execution_count": 36,
   "id": "d82d6376",
   "metadata": {},
   "outputs": [
    {
     "data": {
      "text/plain": [
       "[]"
      ]
     },
     "execution_count": 36,
     "metadata": {},
     "output_type": "execute_result"
    }
   ],
   "source": [
    "assign_collector = AssignCollector(ranges)\n",
    "wrapper.visit(assign_collector)\n",
    "assign_collector.get_info()"
   ]
  },
  {
   "cell_type": "code",
   "execution_count": 37,
   "id": "77f42a4d",
   "metadata": {},
   "outputs": [
    {
     "ename": "TypeError",
     "evalue": "'IndentedBlock' object is not subscriptable",
     "output_type": "error",
     "traceback": [
      "\u001b[0;31m---------------------------------------------------------------------------\u001b[0m",
      "\u001b[0;31mTypeError\u001b[0m                                 Traceback (most recent call last)",
      "Input \u001b[0;32mIn [37]\u001b[0m, in \u001b[0;36m<cell line: 1>\u001b[0;34m()\u001b[0m\n\u001b[0;32m----> 1\u001b[0m \u001b[43mwrapper\u001b[49m\u001b[38;5;241;43m.\u001b[39;49m\u001b[43mmodule\u001b[49m\u001b[38;5;241;43m.\u001b[39;49m\u001b[43mbody\u001b[49m\u001b[43m[\u001b[49m\u001b[38;5;241;43m0\u001b[39;49m\u001b[43m]\u001b[49m\u001b[38;5;241;43m.\u001b[39;49m\u001b[43mbody\u001b[49m\u001b[43m[\u001b[49m\u001b[38;5;241;43m0\u001b[39;49m\u001b[43m]\u001b[49m\n",
      "\u001b[0;31mTypeError\u001b[0m: 'IndentedBlock' object is not subscriptable"
     ]
    }
   ],
   "source": [
    "wrapper.module.body[0].body[0]"
   ]
  },
  {
   "cell_type": "code",
   "execution_count": null,
   "id": "ef30c14c",
   "metadata": {},
   "outputs": [],
   "source": []
  },
  {
   "cell_type": "code",
   "execution_count": 68,
   "id": "7c4184b7",
   "metadata": {},
   "outputs": [],
   "source": [
    "file_lines = open(file_path, 'r').readlines()\n",
    "file_content = open(file_path, 'r').read()\n",
    "wrapper = cst.metadata.MetadataWrapper(cst.parse_module(file_content))\n",
    "scopes = set(wrapper.resolve(cst.metadata.ScopeProvider).values())\n",
    "ranges = wrapper.resolve(cst.metadata.PositionProvider)\n",
    "file_number_of_lines = len(file_lines)"
   ]
  },
  {
   "cell_type": "code",
   "execution_count": 69,
   "id": "81a868dc",
   "metadata": {},
   "outputs": [
    {
     "data": {
      "text/plain": [
       "{<libcst.metadata.scope_provider.GlobalScope at 0x7f388e1c4cd0>}"
      ]
     },
     "execution_count": 69,
     "metadata": {},
     "output_type": "execute_result"
    }
   ],
   "source": [
    "scopes"
   ]
  },
  {
   "cell_type": "code",
   "execution_count": 70,
   "id": "4bd619f8",
   "metadata": {},
   "outputs": [
    {
     "data": {
      "text/plain": [
       "If(\n",
       "    test=Integer(\n",
       "        value='1',\n",
       "        lpar=[],\n",
       "        rpar=[],\n",
       "    ),\n",
       "    body=IndentedBlock(\n",
       "        body=[\n",
       "            SimpleStatementLine(\n",
       "                body=[\n",
       "                    Pass(\n",
       "                        semicolon=MaybeSentinel.DEFAULT,\n",
       "                    ),\n",
       "                ],\n",
       "                leading_lines=[],\n",
       "                trailing_whitespace=TrailingWhitespace(\n",
       "                    whitespace=SimpleWhitespace(\n",
       "                        value='',\n",
       "                    ),\n",
       "                    comment=None,\n",
       "                    newline=Newline(\n",
       "                        value=None,\n",
       "                    ),\n",
       "                ),\n",
       "            ),\n",
       "        ],\n",
       "        header=TrailingWhitespace(\n",
       "            whitespace=SimpleWhitespace(\n",
       "                value='',\n",
       "            ),\n",
       "            comment=None,\n",
       "            newline=Newline(\n",
       "                value=None,\n",
       "            ),\n",
       "        ),\n",
       "        indent=None,\n",
       "        footer=[],\n",
       "    ),\n",
       "    orelse=If(\n",
       "        test=Integer(\n",
       "            value='2',\n",
       "            lpar=[],\n",
       "            rpar=[],\n",
       "        ),\n",
       "        body=IndentedBlock(\n",
       "            body=[\n",
       "                SimpleStatementLine(\n",
       "                    body=[\n",
       "                        Pass(\n",
       "                            semicolon=MaybeSentinel.DEFAULT,\n",
       "                        ),\n",
       "                    ],\n",
       "                    leading_lines=[],\n",
       "                    trailing_whitespace=TrailingWhitespace(\n",
       "                        whitespace=SimpleWhitespace(\n",
       "                            value='',\n",
       "                        ),\n",
       "                        comment=None,\n",
       "                        newline=Newline(\n",
       "                            value=None,\n",
       "                        ),\n",
       "                    ),\n",
       "                ),\n",
       "            ],\n",
       "            header=TrailingWhitespace(\n",
       "                whitespace=SimpleWhitespace(\n",
       "                    value='',\n",
       "                ),\n",
       "                comment=None,\n",
       "                newline=Newline(\n",
       "                    value=None,\n",
       "                ),\n",
       "            ),\n",
       "            indent=None,\n",
       "            footer=[],\n",
       "        ),\n",
       "        orelse=If(\n",
       "            test=Integer(\n",
       "                value='3',\n",
       "                lpar=[],\n",
       "                rpar=[],\n",
       "            ),\n",
       "            body=IndentedBlock(\n",
       "                body=[\n",
       "                    SimpleStatementLine(\n",
       "                        body=[\n",
       "                            Pass(\n",
       "                                semicolon=MaybeSentinel.DEFAULT,\n",
       "                            ),\n",
       "                        ],\n",
       "                        leading_lines=[],\n",
       "                        trailing_whitespace=TrailingWhitespace(\n",
       "                            whitespace=SimpleWhitespace(\n",
       "                                value='',\n",
       "                            ),\n",
       "                            comment=None,\n",
       "                            newline=Newline(\n",
       "                                value=None,\n",
       "                            ),\n",
       "                        ),\n",
       "                    ),\n",
       "                ],\n",
       "                header=TrailingWhitespace(\n",
       "                    whitespace=SimpleWhitespace(\n",
       "                        value='',\n",
       "                    ),\n",
       "                    comment=None,\n",
       "                    newline=Newline(\n",
       "                        value=None,\n",
       "                    ),\n",
       "                ),\n",
       "                indent=None,\n",
       "                footer=[],\n",
       "            ),\n",
       "            orelse=Else(\n",
       "                body=IndentedBlock(\n",
       "                    body=[\n",
       "                        SimpleStatementLine(\n",
       "                            body=[\n",
       "                                Pass(\n",
       "                                    semicolon=MaybeSentinel.DEFAULT,\n",
       "                                ),\n",
       "                            ],\n",
       "                            leading_lines=[],\n",
       "                            trailing_whitespace=TrailingWhitespace(\n",
       "                                whitespace=SimpleWhitespace(\n",
       "                                    value='',\n",
       "                                ),\n",
       "                                comment=None,\n",
       "                                newline=Newline(\n",
       "                                    value=None,\n",
       "                                ),\n",
       "                            ),\n",
       "                        ),\n",
       "                    ],\n",
       "                    header=TrailingWhitespace(\n",
       "                        whitespace=SimpleWhitespace(\n",
       "                            value='',\n",
       "                        ),\n",
       "                        comment=None,\n",
       "                        newline=Newline(\n",
       "                            value=None,\n",
       "                        ),\n",
       "                    ),\n",
       "                    indent=None,\n",
       "                    footer=[],\n",
       "                ),\n",
       "                leading_lines=[],\n",
       "                whitespace_before_colon=SimpleWhitespace(\n",
       "                    value='\\\\\\n        ',\n",
       "                ),\n",
       "            ),\n",
       "            leading_lines=[],\n",
       "            whitespace_before_test=SimpleWhitespace(\n",
       "                value=' ',\n",
       "            ),\n",
       "            whitespace_after_test=SimpleWhitespace(\n",
       "                value='\\\\\\n        ',\n",
       "            ),\n",
       "        ),\n",
       "        leading_lines=[],\n",
       "        whitespace_before_test=SimpleWhitespace(\n",
       "            value=' ',\n",
       "        ),\n",
       "        whitespace_after_test=SimpleWhitespace(\n",
       "            value='',\n",
       "        ),\n",
       "    ),\n",
       "    leading_lines=[],\n",
       "    whitespace_before_test=SimpleWhitespace(\n",
       "        value=' \\\\\\n        ',\n",
       "    ),\n",
       "    whitespace_after_test=SimpleWhitespace(\n",
       "        value='',\n",
       "    ),\n",
       ")"
      ]
     },
     "execution_count": 70,
     "metadata": {},
     "output_type": "execute_result"
    }
   ],
   "source": [
    "k = wrapper.module.body[0]\n",
    "k"
   ]
  },
  {
   "cell_type": "code",
   "execution_count": 71,
   "id": "16975fcc",
   "metadata": {},
   "outputs": [
    {
     "data": {
      "text/plain": [
       "libcst._nodes.statement.If"
      ]
     },
     "execution_count": 71,
     "metadata": {},
     "output_type": "execute_result"
    }
   ],
   "source": [
    "type(k)"
   ]
  },
  {
   "cell_type": "code",
   "execution_count": 72,
   "id": "91d382ec",
   "metadata": {},
   "outputs": [
    {
     "data": {
      "text/plain": [
       "CodeRange(start=CodePosition(line=1, column=0), end=CodePosition(line=11, column=8))"
      ]
     },
     "execution_count": 72,
     "metadata": {},
     "output_type": "execute_result"
    }
   ],
   "source": [
    "ranges[k]"
   ]
  },
  {
   "cell_type": "code",
   "execution_count": 73,
   "id": "f7bc7e9f",
   "metadata": {},
   "outputs": [
    {
     "data": {
      "text/plain": [
       "Integer(\n",
       "    value='1',\n",
       "    lpar=[],\n",
       "    rpar=[],\n",
       ")"
      ]
     },
     "execution_count": 73,
     "metadata": {},
     "output_type": "execute_result"
    }
   ],
   "source": [
    "k.test"
   ]
  },
  {
   "cell_type": "code",
   "execution_count": 74,
   "id": "bf50884b",
   "metadata": {},
   "outputs": [
    {
     "data": {
      "text/plain": [
       "CodeRange(start=CodePosition(line=2, column=8), end=CodePosition(line=2, column=9))"
      ]
     },
     "execution_count": 74,
     "metadata": {},
     "output_type": "execute_result"
    }
   ],
   "source": [
    "ranges[k.test]"
   ]
  },
  {
   "cell_type": "code",
   "execution_count": 75,
   "id": "58681c70",
   "metadata": {},
   "outputs": [
    {
     "data": {
      "text/plain": [
       "2"
      ]
     },
     "execution_count": 75,
     "metadata": {},
     "output_type": "execute_result"
    }
   ],
   "source": [
    "ranges[k.test].end.line"
   ]
  },
  {
   "cell_type": "code",
   "execution_count": 76,
   "id": "54db1a17",
   "metadata": {},
   "outputs": [
    {
     "data": {
      "text/plain": [
       "libcst._nodes.statement.If"
      ]
     },
     "execution_count": 76,
     "metadata": {},
     "output_type": "execute_result"
    }
   ],
   "source": [
    "cst.If"
   ]
  },
  {
   "cell_type": "code",
   "execution_count": 93,
   "id": "ca7d814c",
   "metadata": {},
   "outputs": [],
   "source": [
    "class IfElseScopeCollector(cst.CSTVisitor):\n",
    "    def __init__(self, ranges):\n",
    "        super().__init__()\n",
    "        self._ranges = ranges\n",
    "        self.scopes: List[Tuple] = []\n",
    "\n",
    "    def visit_If(self, node: cst.If) -> None:\n",
    "        node_range = ranges[node]\n",
    "        start_line = node_range.start.line\n",
    "        head_end_line = ranges[node.whitespace_after_test].end.line\n",
    "        end_line = node_range.end.line\n",
    "        self.scopes.append((start_line, head_end_line, end_line))\n",
    "        \n",
    "    def visit_Else(self, node: cst.If) -> None:\n",
    "        node_range = self._ranges[node]\n",
    "        start_line = node_range.start.line\n",
    "        head_end_line = self._ranges[node.whitespace_before_colon].end.line\n",
    "        end_line = node_range.end.line\n",
    "        self.scopes.append((start_line, head_end_line, end_line))"
   ]
  },
  {
   "cell_type": "code",
   "execution_count": 95,
   "id": "e17e86e8",
   "metadata": {},
   "outputs": [],
   "source": [
    "collector = IfElseScopeCollector(ranges)\n",
    "m = wrapper.visit(collector)"
   ]
  },
  {
   "cell_type": "code",
   "execution_count": 96,
   "id": "e2e1e88e",
   "metadata": {},
   "outputs": [
    {
     "data": {
      "text/plain": [
       "[(1, 2, 11), (4, 4, 11), (6, 7, 11), (9, 10, 11)]"
      ]
     },
     "execution_count": 96,
     "metadata": {},
     "output_type": "execute_result"
    }
   ],
   "source": [
    "collector.scopes"
   ]
  },
  {
   "cell_type": "code",
   "execution_count": 98,
   "id": "8f9abf53",
   "metadata": {},
   "outputs": [
    {
     "data": {
      "text/html": [
       "<div>\n",
       "<style scoped>\n",
       "    .dataframe tbody tr th:only-of-type {\n",
       "        vertical-align: middle;\n",
       "    }\n",
       "\n",
       "    .dataframe tbody tr th {\n",
       "        vertical-align: top;\n",
       "    }\n",
       "\n",
       "    .dataframe thead th {\n",
       "        text-align: right;\n",
       "    }\n",
       "</style>\n",
       "<table border=\"1\" class=\"dataframe\">\n",
       "  <thead>\n",
       "    <tr style=\"text-align: right;\">\n",
       "      <th></th>\n",
       "      <th>start_line_number</th>\n",
       "      <th>header_end_line_number</th>\n",
       "      <th>end_line_number</th>\n",
       "    </tr>\n",
       "  </thead>\n",
       "  <tbody>\n",
       "    <tr>\n",
       "      <th>0</th>\n",
       "      <td>1</td>\n",
       "      <td>2</td>\n",
       "      <td>11</td>\n",
       "    </tr>\n",
       "    <tr>\n",
       "      <th>1</th>\n",
       "      <td>4</td>\n",
       "      <td>4</td>\n",
       "      <td>11</td>\n",
       "    </tr>\n",
       "    <tr>\n",
       "      <th>2</th>\n",
       "      <td>6</td>\n",
       "      <td>7</td>\n",
       "      <td>11</td>\n",
       "    </tr>\n",
       "    <tr>\n",
       "      <th>3</th>\n",
       "      <td>9</td>\n",
       "      <td>10</td>\n",
       "      <td>11</td>\n",
       "    </tr>\n",
       "  </tbody>\n",
       "</table>\n",
       "</div>"
      ],
      "text/plain": [
       "   start_line_number  header_end_line_number  end_line_number\n",
       "0                  1                       2               11\n",
       "1                  4                       4               11\n",
       "2                  6                       7               11\n",
       "3                  9                      10               11"
      ]
     },
     "execution_count": 98,
     "metadata": {},
     "output_type": "execute_result"
    }
   ],
   "source": [
    "extended_scopes_df = pd.DataFrame(collector.scopes, columns=[\"start_line_number\", \"header_end_line_number\", \"end_line_number\"])"
   ]
  },
  {
   "cell_type": "code",
   "execution_count": null,
   "id": "f4d2b4a1",
   "metadata": {},
   "outputs": [],
   "source": []
  }
 ],
 "metadata": {
  "kernelspec": {
   "display_name": "Python 3 (ipykernel)",
   "language": "python",
   "name": "python3"
  },
  "language_info": {
   "codemirror_mode": {
    "name": "ipython",
    "version": 3
   },
   "file_extension": ".py",
   "mimetype": "text/x-python",
   "name": "python",
   "nbconvert_exporter": "python",
   "pygments_lexer": "ipython3",
   "version": "3.8.3"
  }
 },
 "nbformat": 4,
 "nbformat_minor": 5
}
