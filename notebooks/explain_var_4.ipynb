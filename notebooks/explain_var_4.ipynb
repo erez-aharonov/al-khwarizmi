{
 "cells": [
  {
   "cell_type": "code",
   "execution_count": 28,
   "id": "b69c3eb5",
   "metadata": {},
   "outputs": [],
   "source": [
    "from typing import *\n",
    "import libcst as cst\n",
    "import networkx as nx\n",
    "import pandas as pd\n",
    "import numpy as np"
   ]
  },
  {
   "cell_type": "code",
   "execution_count": 29,
   "id": "77a19681",
   "metadata": {},
   "outputs": [],
   "source": [
    "from alkh import cst_utils"
   ]
  },
  {
   "cell_type": "code",
   "execution_count": 30,
   "id": "8618ab73",
   "metadata": {},
   "outputs": [],
   "source": [
    "# file_path = 'play.py'\n",
    "file_path = 'play2.py'\n",
    "# file_path = '/mnt/dev/azure_projects/ATool/core/aoi_defects_clustering/aoi_defect_clustering.py'"
   ]
  },
  {
   "cell_type": "code",
   "execution_count": 24,
   "id": "78643e09",
   "metadata": {},
   "outputs": [],
   "source": [
    "file_lines = open(file_path, 'r').readlines()\n",
    "file_content = open(file_path, 'r').read()\n",
    "wrapper = cst.metadata.MetadataWrapper(cst.parse_module(file_content))\n",
    "scopes = set(wrapper.resolve(cst.metadata.ScopeProvider).values())\n",
    "ranges = wrapper.resolve(cst.metadata.PositionProvider)\n",
    "file_number_of_lines = len(file_lines)"
   ]
  },
  {
   "cell_type": "code",
   "execution_count": 15,
   "id": "3ead2708",
   "metadata": {},
   "outputs": [],
   "source": [
    "class AssignCollector(cst.CSTVisitor):\n",
    "    def __init__(self, ranges):\n",
    "        super().__init__()\n",
    "        self._ranges = ranges\n",
    "        self._assign_info: List[Tuple] = []\n",
    "\n",
    "    def get_info(self):\n",
    "        return self._assign_info\n",
    "\n",
    "    def visit_Assign(self, node: cst.FunctionDef) -> None:\n",
    "        pos_start = self._ranges[node].start\n",
    "        pos_end = self._ranges[node].end\n",
    "        value_collector = ValueCollector()\n",
    "        node.value.visit(value_collector)\n",
    "        value_dict = {'names': value_collector.names, 'ints': value_collector.ints, 'floats': value_collector.floats}\n",
    "        for target in node.targets:\n",
    "            target_collector = ValueCollector()\n",
    "            target.visit(target_collector)\n",
    "            names_list = target_collector.names\n",
    "            if names_list:\n",
    "                self._assign_info.append((target_collector.names, value_dict, pos_start.line, pos_end.line))\n",
    "\n",
    "\n",
    "class ValueCollector(cst.CSTVisitor):\n",
    "    def __init__(self):\n",
    "        super().__init__()\n",
    "        self.names: List[List] = []\n",
    "        self.ints: List[str] = []\n",
    "        self.floats: List[str] = []\n",
    "        self._attribute_level = 0\n",
    "\n",
    "    def visit_Name(self, node: cst.FunctionDef) -> None:\n",
    "        if self._attribute_level == 0:\n",
    "            self.names.append([node.value])\n",
    "\n",
    "    def visit_Integer(self, node: cst.FunctionDef) -> None:\n",
    "        self.ints.append(node.value)\n",
    "\n",
    "    def visit_Float(self, node: cst.FunctionDef) -> None:\n",
    "        self.floats.append(node.value)\n",
    "\n",
    "    def visit_Attribute(self, node: cst.FunctionDef) -> None:\n",
    "        self._attribute_level += 1\n",
    "        \n",
    "    def visit_Subscript(self, node: cst.FunctionDef) -> None:\n",
    "        self._attribute_level += 1\n",
    "\n",
    "    def leave_Attribute(self, node: cst.FunctionDef) -> None:\n",
    "        if isinstance(node.value, cst.Name):\n",
    "            self.names.append([node.value.value, node.attr.value])\n",
    "        else:\n",
    "            self.names[len(self.names) - 1].append(node.attr.value)\n",
    "        self._attribute_level -= 1\n",
    "        \n",
    "    def leave_Subscript(self, node: cst.FunctionDef) -> None:\n",
    "        if isinstance(node.value, cst.Name):\n",
    "            self.names.append([node.value.value])\n",
    "        self._attribute_level -= 1"
   ]
  },
  {
   "cell_type": "code",
   "execution_count": 16,
   "id": "5b7c6d89",
   "metadata": {},
   "outputs": [
    {
     "data": {
      "text/plain": [
       "[([['max_kpi']],\n",
       "  {'names': [['scan_summary_df', 'max1', 'max2', 'max3'], ['klj', 'sm']],\n",
       "   'ints': [],\n",
       "   'floats': []},\n",
       "  2,\n",
       "  3)]"
      ]
     },
     "execution_count": 16,
     "metadata": {},
     "output_type": "execute_result"
    }
   ],
   "source": [
    "assign_collector = AssignCollector(ranges)\n",
    "wrapper.visit(assign_collector)\n",
    "assign_collector.get_info()"
   ]
  },
  {
   "cell_type": "code",
   "execution_count": 17,
   "id": "5e6bd9b0",
   "metadata": {},
   "outputs": [
    {
     "ename": "TypeError",
     "evalue": "'IndentedBlock' object is not subscriptable",
     "output_type": "error",
     "traceback": [
      "\u001b[0;31m---------------------------------------------------------------------------\u001b[0m",
      "\u001b[0;31mTypeError\u001b[0m                                 Traceback (most recent call last)",
      "Input \u001b[0;32mIn [17]\u001b[0m, in \u001b[0;36m<cell line: 1>\u001b[0;34m()\u001b[0m\n\u001b[0;32m----> 1\u001b[0m \u001b[43mwrapper\u001b[49m\u001b[38;5;241;43m.\u001b[39;49m\u001b[43mmodule\u001b[49m\u001b[38;5;241;43m.\u001b[39;49m\u001b[43mbody\u001b[49m\u001b[43m[\u001b[49m\u001b[38;5;241;43m0\u001b[39;49m\u001b[43m]\u001b[49m\u001b[38;5;241;43m.\u001b[39;49m\u001b[43mbody\u001b[49m\u001b[43m[\u001b[49m\u001b[38;5;241;43m0\u001b[39;49m\u001b[43m]\u001b[49m\n",
      "\u001b[0;31mTypeError\u001b[0m: 'IndentedBlock' object is not subscriptable"
     ]
    }
   ],
   "source": [
    "wrapper.module.body[0].body[0]"
   ]
  },
  {
   "cell_type": "code",
   "execution_count": null,
   "id": "a692e468",
   "metadata": {},
   "outputs": [],
   "source": []
  },
  {
   "cell_type": "code",
   "execution_count": 31,
   "id": "57b24b0d",
   "metadata": {},
   "outputs": [],
   "source": [
    "file_lines = open(file_path, 'r').readlines()\n",
    "file_content = open(file_path, 'r').read()\n",
    "wrapper = cst.metadata.MetadataWrapper(cst.parse_module(file_content))\n",
    "scopes = set(wrapper.resolve(cst.metadata.ScopeProvider).values())\n",
    "ranges = wrapper.resolve(cst.metadata.PositionProvider)\n",
    "file_number_of_lines = len(file_lines)"
   ]
  },
  {
   "cell_type": "code",
   "execution_count": 32,
   "id": "7c49dceb",
   "metadata": {},
   "outputs": [
    {
     "data": {
      "text/plain": [
       "{<libcst.metadata.scope_provider.GlobalScope at 0x7f38f2342880>}"
      ]
     },
     "execution_count": 32,
     "metadata": {},
     "output_type": "execute_result"
    }
   ],
   "source": [
    "scopes"
   ]
  },
  {
   "cell_type": "code",
   "execution_count": 33,
   "id": "5617d421",
   "metadata": {},
   "outputs": [
    {
     "data": {
      "text/plain": [
       "If(\n",
       "    test=Integer(\n",
       "        value='1',\n",
       "        lpar=[],\n",
       "        rpar=[],\n",
       "    ),\n",
       "    body=IndentedBlock(\n",
       "        body=[\n",
       "            SimpleStatementLine(\n",
       "                body=[\n",
       "                    Pass(\n",
       "                        semicolon=MaybeSentinel.DEFAULT,\n",
       "                    ),\n",
       "                ],\n",
       "                leading_lines=[],\n",
       "                trailing_whitespace=TrailingWhitespace(\n",
       "                    whitespace=SimpleWhitespace(\n",
       "                        value='',\n",
       "                    ),\n",
       "                    comment=None,\n",
       "                    newline=Newline(\n",
       "                        value=None,\n",
       "                    ),\n",
       "                ),\n",
       "            ),\n",
       "        ],\n",
       "        header=TrailingWhitespace(\n",
       "            whitespace=SimpleWhitespace(\n",
       "                value='',\n",
       "            ),\n",
       "            comment=None,\n",
       "            newline=Newline(\n",
       "                value=None,\n",
       "            ),\n",
       "        ),\n",
       "        indent=None,\n",
       "        footer=[],\n",
       "    ),\n",
       "    orelse=If(\n",
       "        test=Integer(\n",
       "            value='2',\n",
       "            lpar=[],\n",
       "            rpar=[],\n",
       "        ),\n",
       "        body=IndentedBlock(\n",
       "            body=[\n",
       "                SimpleStatementLine(\n",
       "                    body=[\n",
       "                        Pass(\n",
       "                            semicolon=MaybeSentinel.DEFAULT,\n",
       "                        ),\n",
       "                    ],\n",
       "                    leading_lines=[],\n",
       "                    trailing_whitespace=TrailingWhitespace(\n",
       "                        whitespace=SimpleWhitespace(\n",
       "                            value='',\n",
       "                        ),\n",
       "                        comment=None,\n",
       "                        newline=Newline(\n",
       "                            value=None,\n",
       "                        ),\n",
       "                    ),\n",
       "                ),\n",
       "            ],\n",
       "            header=TrailingWhitespace(\n",
       "                whitespace=SimpleWhitespace(\n",
       "                    value='',\n",
       "                ),\n",
       "                comment=None,\n",
       "                newline=Newline(\n",
       "                    value=None,\n",
       "                ),\n",
       "            ),\n",
       "            indent=None,\n",
       "            footer=[],\n",
       "        ),\n",
       "        orelse=If(\n",
       "            test=Integer(\n",
       "                value='3',\n",
       "                lpar=[],\n",
       "                rpar=[],\n",
       "            ),\n",
       "            body=IndentedBlock(\n",
       "                body=[\n",
       "                    SimpleStatementLine(\n",
       "                        body=[\n",
       "                            Pass(\n",
       "                                semicolon=MaybeSentinel.DEFAULT,\n",
       "                            ),\n",
       "                        ],\n",
       "                        leading_lines=[],\n",
       "                        trailing_whitespace=TrailingWhitespace(\n",
       "                            whitespace=SimpleWhitespace(\n",
       "                                value='',\n",
       "                            ),\n",
       "                            comment=None,\n",
       "                            newline=Newline(\n",
       "                                value=None,\n",
       "                            ),\n",
       "                        ),\n",
       "                    ),\n",
       "                ],\n",
       "                header=TrailingWhitespace(\n",
       "                    whitespace=SimpleWhitespace(\n",
       "                        value='',\n",
       "                    ),\n",
       "                    comment=None,\n",
       "                    newline=Newline(\n",
       "                        value=None,\n",
       "                    ),\n",
       "                ),\n",
       "                indent=None,\n",
       "                footer=[],\n",
       "            ),\n",
       "            orelse=Else(\n",
       "                body=IndentedBlock(\n",
       "                    body=[\n",
       "                        SimpleStatementLine(\n",
       "                            body=[\n",
       "                                Pass(\n",
       "                                    semicolon=MaybeSentinel.DEFAULT,\n",
       "                                ),\n",
       "                            ],\n",
       "                            leading_lines=[],\n",
       "                            trailing_whitespace=TrailingWhitespace(\n",
       "                                whitespace=SimpleWhitespace(\n",
       "                                    value='',\n",
       "                                ),\n",
       "                                comment=None,\n",
       "                                newline=Newline(\n",
       "                                    value=None,\n",
       "                                ),\n",
       "                            ),\n",
       "                        ),\n",
       "                    ],\n",
       "                    header=TrailingWhitespace(\n",
       "                        whitespace=SimpleWhitespace(\n",
       "                            value='',\n",
       "                        ),\n",
       "                        comment=None,\n",
       "                        newline=Newline(\n",
       "                            value=None,\n",
       "                        ),\n",
       "                    ),\n",
       "                    indent=None,\n",
       "                    footer=[],\n",
       "                ),\n",
       "                leading_lines=[],\n",
       "                whitespace_before_colon=SimpleWhitespace(\n",
       "                    value='',\n",
       "                ),\n",
       "            ),\n",
       "            leading_lines=[],\n",
       "            whitespace_before_test=SimpleWhitespace(\n",
       "                value=' ',\n",
       "            ),\n",
       "            whitespace_after_test=SimpleWhitespace(\n",
       "                value='',\n",
       "            ),\n",
       "        ),\n",
       "        leading_lines=[],\n",
       "        whitespace_before_test=SimpleWhitespace(\n",
       "            value=' ',\n",
       "        ),\n",
       "        whitespace_after_test=SimpleWhitespace(\n",
       "            value='',\n",
       "        ),\n",
       "    ),\n",
       "    leading_lines=[],\n",
       "    whitespace_before_test=SimpleWhitespace(\n",
       "        value=' \\\\\\n        ',\n",
       "    ),\n",
       "    whitespace_after_test=SimpleWhitespace(\n",
       "        value='',\n",
       "    ),\n",
       ")"
      ]
     },
     "execution_count": 33,
     "metadata": {},
     "output_type": "execute_result"
    }
   ],
   "source": [
    "wrapper.module.body[0]"
   ]
  },
  {
   "cell_type": "code",
   "execution_count": null,
   "id": "00d057a7",
   "metadata": {},
   "outputs": [],
   "source": []
  },
  {
   "cell_type": "code",
   "execution_count": null,
   "id": "3ca285d7",
   "metadata": {},
   "outputs": [],
   "source": []
  }
 ],
 "metadata": {
  "kernelspec": {
   "display_name": "Python 3 (ipykernel)",
   "language": "python",
   "name": "python3"
  },
  "language_info": {
   "codemirror_mode": {
    "name": "ipython",
    "version": 3
   },
   "file_extension": ".py",
   "mimetype": "text/x-python",
   "name": "python",
   "nbconvert_exporter": "python",
   "pygments_lexer": "ipython3",
   "version": "3.8.3"
  }
 },
 "nbformat": 4,
 "nbformat_minor": 5
}
