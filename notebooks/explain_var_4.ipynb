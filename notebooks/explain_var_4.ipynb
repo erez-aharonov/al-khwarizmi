{
 "cells": [
  {
   "cell_type": "code",
   "execution_count": 1,
   "id": "f67e16cc",
   "metadata": {},
   "outputs": [],
   "source": [
    "from typing import *\n",
    "import libcst as cst\n",
    "import networkx as nx\n",
    "import pandas as pd\n",
    "import numpy as np"
   ]
  },
  {
   "cell_type": "code",
   "execution_count": 2,
   "id": "bd03db04",
   "metadata": {},
   "outputs": [],
   "source": [
    "from alkh import cst_utils"
   ]
  },
  {
   "cell_type": "code",
   "execution_count": 3,
   "id": "97e5c8d8",
   "metadata": {},
   "outputs": [],
   "source": [
    "# file_path = 'play.py'\n",
    "file_path = 'play2.py'\n",
    "# file_path = '/mnt/dev/azure_projects/ATool/core/aoi_defects_clustering/aoi_defect_clustering.py'"
   ]
  },
  {
   "cell_type": "code",
   "execution_count": null,
   "id": "a7edb735",
   "metadata": {},
   "outputs": [],
   "source": [
    "file_lines = open(file_path, 'r').readlines()\n",
    "file_content = open(file_path, 'r').read()\n",
    "wrapper = cst.metadata.MetadataWrapper(cst.parse_module(file_content))\n",
    "scopes = set(wrapper.resolve(cst.metadata.ScopeProvider).values())\n",
    "ranges = wrapper.resolve(cst.metadata.PositionProvider)\n",
    "file_number_of_lines = len(file_lines)"
   ]
  },
  {
   "cell_type": "code",
   "execution_count": null,
   "id": "6da565cf",
   "metadata": {},
   "outputs": [],
   "source": [
    "scopes"
   ]
  },
  {
   "cell_type": "code",
   "execution_count": null,
   "id": "c893da3b",
   "metadata": {},
   "outputs": [],
   "source": [
    "wrapper"
   ]
  },
  {
   "cell_type": "code",
   "execution_count": null,
   "id": "11871089",
   "metadata": {},
   "outputs": [],
   "source": [
    "k.body[0].value"
   ]
  },
  {
   "cell_type": "code",
   "execution_count": null,
   "id": "c1465697",
   "metadata": {},
   "outputs": [],
   "source": [
    "class ValueCollector(cst.CSTVisitor):\n",
    "    def __init__(self):\n",
    "        super().__init__()\n",
    "        self.names: List[List] = []\n",
    "        self.ints: List[str] = []\n",
    "        self.floats: List[str] = []\n",
    "        self._attribute_level = 0\n",
    "\n",
    "    def visit_Name(self, node: cst.FunctionDef) -> None:\n",
    "        if self._attribute_level == 0:\n",
    "            self.names.append([node.value])\n",
    "\n",
    "    def visit_Integer(self, node: cst.FunctionDef) -> None:\n",
    "        self.ints.append(node.value)\n",
    "\n",
    "    def visit_Float(self, node: cst.FunctionDef) -> None:\n",
    "        self.floats.append(node.value)\n",
    "\n",
    "    def visit_Attribute(self, node: cst.FunctionDef) -> None:\n",
    "        self._attribute_level += 1\n",
    "\n",
    "    def visit_Subscript(self, node: cst.FunctionDef) -> None:\n",
    "        self._attribute_level += 1\n",
    "\n",
    "    def leave_Attribute(self, node: cst.FunctionDef) -> None:\n",
    "        if isinstance(node.value, cst.Name):\n",
    "            self.names.append([node.value.value, node.attr.value])\n",
    "        elif len(self.names) > 0:\n",
    "            self.names[len(self.names) - 1].append(node.attr.value)\n",
    "        self._attribute_level -= 1\n",
    "\n",
    "    def leave_Subscript(self, node: cst.FunctionDef) -> None:\n",
    "        if isinstance(node.value, cst.Name):\n",
    "            self.names.append([node.value.value])\n",
    "        self._attribute_level -= 1"
   ]
  },
  {
   "cell_type": "code",
   "execution_count": null,
   "id": "930e90aa",
   "metadata": {},
   "outputs": [],
   "source": [
    "value_collector = ValueCollector()\n",
    "m = k.body[0].value.visit(value_collector)"
   ]
  },
  {
   "cell_type": "code",
   "execution_count": null,
   "id": "2974dc0e",
   "metadata": {},
   "outputs": [],
   "source": [
    "value_collector.names"
   ]
  },
  {
   "cell_type": "code",
   "execution_count": null,
   "id": "f3118156",
   "metadata": {},
   "outputs": [],
   "source": [
    "type(k)"
   ]
  },
  {
   "cell_type": "code",
   "execution_count": null,
   "id": "4d611e9d",
   "metadata": {},
   "outputs": [],
   "source": [
    "ranges[k]"
   ]
  },
  {
   "cell_type": "code",
   "execution_count": null,
   "id": "e9f6c35c",
   "metadata": {},
   "outputs": [],
   "source": [
    "k.test"
   ]
  },
  {
   "cell_type": "code",
   "execution_count": null,
   "id": "4391225e",
   "metadata": {},
   "outputs": [],
   "source": [
    "ranges[k.test]"
   ]
  },
  {
   "cell_type": "code",
   "execution_count": null,
   "id": "8270cc5b",
   "metadata": {},
   "outputs": [],
   "source": [
    "ranges[k.test].end.line"
   ]
  },
  {
   "cell_type": "code",
   "execution_count": null,
   "id": "652109ab",
   "metadata": {},
   "outputs": [],
   "source": [
    "ranges[k]"
   ]
  },
  {
   "cell_type": "code",
   "execution_count": null,
   "id": "1d8a85d0",
   "metadata": {},
   "outputs": [],
   "source": [
    "k"
   ]
  },
  {
   "cell_type": "code",
   "execution_count": null,
   "id": "2cb528ab",
   "metadata": {},
   "outputs": [],
   "source": []
  },
  {
   "cell_type": "code",
   "execution_count": null,
   "id": "2681f712",
   "metadata": {},
   "outputs": [],
   "source": []
  },
  {
   "cell_type": "code",
   "execution_count": 4,
   "id": "e79790a1",
   "metadata": {},
   "outputs": [],
   "source": [
    "file_path = 'play2.py'\n",
    "manager = cst_utils.CallGraphManager(file_path)"
   ]
  },
  {
   "cell_type": "code",
   "execution_count": 5,
   "id": "2bfbfa57",
   "metadata": {},
   "outputs": [
    {
     "data": {
      "text/plain": [
       "<networkx.classes.digraph.DiGraph at 0x7f4e1148ffa0>"
      ]
     },
     "execution_count": 5,
     "metadata": {},
     "output_type": "execute_result"
    }
   ],
   "source": [
    "manager._dependency_graph"
   ]
  },
  {
   "cell_type": "code",
   "execution_count": 6,
   "id": "8abd4e10",
   "metadata": {},
   "outputs": [
    {
     "data": {
      "image/png": "[encoded data removed]",
      "text/plain": [
       "<Figure size 432x288 with 1 Axes>"
      ]
     },
     "metadata": {},
     "output_type": "display_data"
    }
   ],
   "source": [
    "nx.draw(manager._dependency_graph, with_labels = True)"
   ]
  },
  {
   "cell_type": "code",
   "execution_count": 7,
   "id": "5b821a0a",
   "metadata": {},
   "outputs": [
    {
     "data": {
      "text/html": [
       "<div>\n",
       "<style scoped>\n",
       "    .dataframe tbody tr th:only-of-type {\n",
       "        vertical-align: middle;\n",
       "    }\n",
       "\n",
       "    .dataframe tbody tr th {\n",
       "        vertical-align: top;\n",
       "    }\n",
       "\n",
       "    .dataframe thead th {\n",
       "        text-align: right;\n",
       "    }\n",
       "</style>\n",
       "<table border=\"1\" class=\"dataframe\">\n",
       "  <thead>\n",
       "    <tr style=\"text-align: right;\">\n",
       "      <th></th>\n",
       "      <th>targets</th>\n",
       "      <th>data</th>\n",
       "      <th>start_line</th>\n",
       "      <th>end_line</th>\n",
       "      <th>node_range</th>\n",
       "      <th>sources</th>\n",
       "      <th>scope_index</th>\n",
       "      <th>canonic_targets</th>\n",
       "      <th>canonic_sources</th>\n",
       "      <th>canonic_targets_ids</th>\n",
       "    </tr>\n",
       "  </thead>\n",
       "  <tbody>\n",
       "    <tr>\n",
       "      <th>0</th>\n",
       "      <td>[[lots_list]]</td>\n",
       "      <td>{'names': [], 'ints': [], 'floats': []}</td>\n",
       "      <td>3</td>\n",
       "      <td>3</td>\n",
       "      <td>CodeRange(start=CodePosition(line=3, column=0)...</td>\n",
       "      <td>[]</td>\n",
       "      <td>0</td>\n",
       "      <td>[{'self': False, 'scope_index': 0, 'id': (0, '...</td>\n",
       "      <td>[]</td>\n",
       "      <td>[(0, lots_list)]</td>\n",
       "    </tr>\n",
       "    <tr>\n",
       "      <th>1</th>\n",
       "      <td>[[list_of_lots]]</td>\n",
       "      <td>{'names': [['lot'], ['lot'], ['lots_list']], '...</td>\n",
       "      <td>4</td>\n",
       "      <td>4</td>\n",
       "      <td>CodeRange(start=CodePosition(line=4, column=0)...</td>\n",
       "      <td>[[lot], [lot], [lots_list]]</td>\n",
       "      <td>1</td>\n",
       "      <td>[{'self': False, 'scope_index': 1, 'id': (1, '...</td>\n",
       "      <td>[(0, lots_list)]</td>\n",
       "      <td>[(1, list_of_lots)]</td>\n",
       "    </tr>\n",
       "    <tr>\n",
       "      <th>2</th>\n",
       "      <td>[[query]]</td>\n",
       "      <td>{'names': [['list_of_lots']], 'ints': [], 'flo...</td>\n",
       "      <td>5</td>\n",
       "      <td>5</td>\n",
       "      <td>CodeRange(start=CodePosition(line=5, column=0)...</td>\n",
       "      <td>[[list_of_lots]]</td>\n",
       "      <td>0</td>\n",
       "      <td>[{'self': False, 'scope_index': 0, 'id': (0, '...</td>\n",
       "      <td>[]</td>\n",
       "      <td>[(0, query)]</td>\n",
       "    </tr>\n",
       "  </tbody>\n",
       "</table>\n",
       "</div>"
      ],
      "text/plain": [
       "            targets                                               data  \\\n",
       "0     [[lots_list]]            {'names': [], 'ints': [], 'floats': []}   \n",
       "1  [[list_of_lots]]  {'names': [['lot'], ['lot'], ['lots_list']], '...   \n",
       "2         [[query]]  {'names': [['list_of_lots']], 'ints': [], 'flo...   \n",
       "\n",
       "   start_line  end_line                                         node_range  \\\n",
       "0           3         3  CodeRange(start=CodePosition(line=3, column=0)...   \n",
       "1           4         4  CodeRange(start=CodePosition(line=4, column=0)...   \n",
       "2           5         5  CodeRange(start=CodePosition(line=5, column=0)...   \n",
       "\n",
       "                       sources  scope_index  \\\n",
       "0                           []            0   \n",
       "1  [[lot], [lot], [lots_list]]            1   \n",
       "2             [[list_of_lots]]            0   \n",
       "\n",
       "                                     canonic_targets   canonic_sources  \\\n",
       "0  [{'self': False, 'scope_index': 0, 'id': (0, '...                []   \n",
       "1  [{'self': False, 'scope_index': 1, 'id': (1, '...  [(0, lots_list)]   \n",
       "2  [{'self': False, 'scope_index': 0, 'id': (0, '...                []   \n",
       "\n",
       "   canonic_targets_ids  \n",
       "0     [(0, lots_list)]  \n",
       "1  [(1, list_of_lots)]  \n",
       "2         [(0, query)]  "
      ]
     },
     "execution_count": 7,
     "metadata": {},
     "output_type": "execute_result"
    }
   ],
   "source": [
    "manager._assignment_df"
   ]
  },
  {
   "cell_type": "code",
   "execution_count": 8,
   "id": "5070826c",
   "metadata": {},
   "outputs": [
    {
     "data": {
      "text/html": [
       "<div>\n",
       "<style scoped>\n",
       "    .dataframe tbody tr th:only-of-type {\n",
       "        vertical-align: middle;\n",
       "    }\n",
       "\n",
       "    .dataframe tbody tr th {\n",
       "        vertical-align: top;\n",
       "    }\n",
       "\n",
       "    .dataframe thead th {\n",
       "        text-align: right;\n",
       "    }\n",
       "</style>\n",
       "<table border=\"1\" class=\"dataframe\">\n",
       "  <thead>\n",
       "    <tr style=\"text-align: right;\">\n",
       "      <th></th>\n",
       "      <th>scope</th>\n",
       "      <th>start_line_number</th>\n",
       "      <th>end_line_number</th>\n",
       "      <th>header_end_line_number</th>\n",
       "      <th>length</th>\n",
       "      <th>name</th>\n",
       "      <th>node_range</th>\n",
       "      <th>scope_index</th>\n",
       "    </tr>\n",
       "  </thead>\n",
       "  <tbody>\n",
       "    <tr>\n",
       "      <th>0</th>\n",
       "      <td>&lt;libcst.metadata.scope_provider.GlobalScope ob...</td>\n",
       "      <td>1</td>\n",
       "      <td>5</td>\n",
       "      <td>1</td>\n",
       "      <td>5</td>\n",
       "      <td>global</td>\n",
       "      <td>None</td>\n",
       "      <td>0</td>\n",
       "    </tr>\n",
       "    <tr>\n",
       "      <th>1</th>\n",
       "      <td>&lt;libcst.metadata.scope_provider.ComprehensionS...</td>\n",
       "      <td>4</td>\n",
       "      <td>4</td>\n",
       "      <td>4</td>\n",
       "      <td>1</td>\n",
       "      <td>None</td>\n",
       "      <td>CodeRange(start=CodePosition(line=4, column=30...</td>\n",
       "      <td>1</td>\n",
       "    </tr>\n",
       "  </tbody>\n",
       "</table>\n",
       "</div>"
      ],
      "text/plain": [
       "                                               scope start_line_number  \\\n",
       "0  <libcst.metadata.scope_provider.GlobalScope ob...                 1   \n",
       "1  <libcst.metadata.scope_provider.ComprehensionS...                 4   \n",
       "\n",
       "  end_line_number header_end_line_number length    name  \\\n",
       "0               5                      1      5  global   \n",
       "1               4                      4      1    None   \n",
       "\n",
       "                                          node_range  scope_index  \n",
       "0                                               None            0  \n",
       "1  CodeRange(start=CodePosition(line=4, column=30...            1  "
      ]
     },
     "execution_count": 8,
     "metadata": {},
     "output_type": "execute_result"
    }
   ],
   "source": [
    "manager._scopes_df"
   ]
  },
  {
   "cell_type": "code",
   "execution_count": null,
   "id": "afa461c7",
   "metadata": {},
   "outputs": [],
   "source": [
    "a = manager._scopes_df.iloc[1][\"scope\"]\n",
    "a"
   ]
  },
  {
   "cell_type": "code",
   "execution_count": null,
   "id": "53c904b6",
   "metadata": {},
   "outputs": [],
   "source": [
    "manager._ranges[manager._scopes_df.iloc[1][\"scope\"]]"
   ]
  },
  {
   "cell_type": "code",
   "execution_count": null,
   "id": "4623b755",
   "metadata": {},
   "outputs": [],
   "source": [
    "a.node"
   ]
  },
  {
   "cell_type": "code",
   "execution_count": null,
   "id": "b89820db",
   "metadata": {},
   "outputs": [],
   "source": [
    "manager._ranges[a.node]"
   ]
  },
  {
   "cell_type": "code",
   "execution_count": null,
   "id": "6554652a",
   "metadata": {},
   "outputs": [],
   "source": []
  }
 ],
 "metadata": {
  "kernelspec": {
   "display_name": "Python 3 (ipykernel)",
   "language": "python",
   "name": "python3"
  },
  "language_info": {
   "codemirror_mode": {
    "name": "ipython",
    "version": 3
   },
   "file_extension": ".py",
   "mimetype": "text/x-python",
   "name": "python",
   "nbconvert_exporter": "python",
   "pygments_lexer": "ipython3",
   "version": "3.9.13"
  }
 },
 "nbformat": 4,
 "nbformat_minor": 5
}
