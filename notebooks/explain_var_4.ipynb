{
 "cells": [
  {
   "cell_type": "code",
   "execution_count": 31,
   "id": "056b6b73",
   "metadata": {},
   "outputs": [],
   "source": [
    "from typing import *\n",
    "import libcst as cst\n",
    "import networkx as nx\n",
    "import pandas as pd\n",
    "import numpy as np"
   ]
  },
  {
   "cell_type": "code",
   "execution_count": 32,
   "id": "25799118",
   "metadata": {},
   "outputs": [],
   "source": [
    "from alkh import cst_utils"
   ]
  },
  {
   "cell_type": "code",
   "execution_count": 33,
   "id": "36f71347",
   "metadata": {},
   "outputs": [],
   "source": [
    "# file_path = 'play.py'\n",
    "file_path = 'play2.py'\n",
    "# file_path = '/mnt/dev/azure_projects/ATool/core/aoi_defects_clustering/aoi_defect_clustering.py'"
   ]
  },
  {
   "cell_type": "code",
   "execution_count": 34,
   "id": "47ddf334",
   "metadata": {},
   "outputs": [],
   "source": [
    "file_lines = open(file_path, 'r').readlines()\n",
    "file_content = open(file_path, 'r').read()\n",
    "wrapper = cst.metadata.MetadataWrapper(cst.parse_module(file_content))\n",
    "scopes = set(wrapper.resolve(cst.metadata.ScopeProvider).values())\n",
    "ranges = wrapper.resolve(cst.metadata.PositionProvider)\n",
    "file_number_of_lines = len(file_lines)"
   ]
  },
  {
   "cell_type": "code",
   "execution_count": 35,
   "id": "928beef3",
   "metadata": {},
   "outputs": [],
   "source": [
    "class AssignCollector(cst.CSTVisitor):\n",
    "    def __init__(self, ranges):\n",
    "        super().__init__()\n",
    "        self._ranges = ranges\n",
    "        self._assign_info: List[Tuple] = []\n",
    "\n",
    "    def get_info(self):\n",
    "        return self._assign_info\n",
    "\n",
    "    def visit_Assign(self, node: cst.FunctionDef) -> None:\n",
    "        pos_start = self._ranges[node].start\n",
    "        pos_end = self._ranges[node].end\n",
    "        value_collector = ValueCollector()\n",
    "        node.value.visit(value_collector)\n",
    "        value_dict = {'names': value_collector.names, 'ints': value_collector.ints, 'floats': value_collector.floats}\n",
    "        for target in node.targets:\n",
    "            target_collector = ValueCollector()\n",
    "            target.visit(target_collector)\n",
    "            names_list = target_collector.names\n",
    "            if names_list:\n",
    "                self._assign_info.append((target_collector.names, value_dict, pos_start.line, pos_end.line))\n",
    "\n",
    "\n",
    "class ValueCollector(cst.CSTVisitor):\n",
    "    def __init__(self):\n",
    "        super().__init__()\n",
    "        self.names: List[List] = []\n",
    "        self.ints: List[str] = []\n",
    "        self.floats: List[str] = []\n",
    "        self._attribute_level = 0\n",
    "\n",
    "    def visit_Name(self, node: cst.FunctionDef) -> None:\n",
    "        if self._attribute_level == 0:\n",
    "            self.names.append([node.value])\n",
    "\n",
    "    def visit_Integer(self, node: cst.FunctionDef) -> None:\n",
    "        self.ints.append(node.value)\n",
    "\n",
    "    def visit_Float(self, node: cst.FunctionDef) -> None:\n",
    "        self.floats.append(node.value)\n",
    "\n",
    "    def visit_Attribute(self, node: cst.FunctionDef) -> None:\n",
    "        self._attribute_level += 1\n",
    "        \n",
    "    def visit_Subscript(self, node: cst.FunctionDef) -> None:\n",
    "        self._attribute_level += 1\n",
    "\n",
    "    def leave_Attribute(self, node: cst.FunctionDef) -> None:\n",
    "        if isinstance(node.value, cst.Name):\n",
    "            self.names.append([node.value.value, node.attr.value])\n",
    "        else:\n",
    "            self.names[len(self.names) - 1].append(node.attr.value)\n",
    "        self._attribute_level -= 1\n",
    "        \n",
    "    def leave_Subscript(self, node: cst.FunctionDef) -> None:\n",
    "        if isinstance(node.value, cst.Name):\n",
    "            self.names.append([node.value.value])\n",
    "        self._attribute_level -= 1"
   ]
  },
  {
   "cell_type": "code",
   "execution_count": 36,
   "id": "5be3a6d0",
   "metadata": {},
   "outputs": [
    {
     "data": {
      "text/plain": [
       "[]"
      ]
     },
     "execution_count": 36,
     "metadata": {},
     "output_type": "execute_result"
    }
   ],
   "source": [
    "assign_collector = AssignCollector(ranges)\n",
    "wrapper.visit(assign_collector)\n",
    "assign_collector.get_info()"
   ]
  },
  {
   "cell_type": "code",
   "execution_count": 37,
   "id": "17bb641e",
   "metadata": {},
   "outputs": [
    {
     "ename": "TypeError",
     "evalue": "'IndentedBlock' object is not subscriptable",
     "output_type": "error",
     "traceback": [
      "\u001b[0;31m---------------------------------------------------------------------------\u001b[0m",
      "\u001b[0;31mTypeError\u001b[0m                                 Traceback (most recent call last)",
      "Input \u001b[0;32mIn [37]\u001b[0m, in \u001b[0;36m<cell line: 1>\u001b[0;34m()\u001b[0m\n\u001b[0;32m----> 1\u001b[0m \u001b[43mwrapper\u001b[49m\u001b[38;5;241;43m.\u001b[39;49m\u001b[43mmodule\u001b[49m\u001b[38;5;241;43m.\u001b[39;49m\u001b[43mbody\u001b[49m\u001b[43m[\u001b[49m\u001b[38;5;241;43m0\u001b[39;49m\u001b[43m]\u001b[49m\u001b[38;5;241;43m.\u001b[39;49m\u001b[43mbody\u001b[49m\u001b[43m[\u001b[49m\u001b[38;5;241;43m0\u001b[39;49m\u001b[43m]\u001b[49m\n",
      "\u001b[0;31mTypeError\u001b[0m: 'IndentedBlock' object is not subscriptable"
     ]
    }
   ],
   "source": [
    "wrapper.module.body[0].body[0]"
   ]
  },
  {
   "cell_type": "code",
   "execution_count": null,
   "id": "590774d3",
   "metadata": {},
   "outputs": [],
   "source": []
  },
  {
   "cell_type": "code",
   "execution_count": 68,
   "id": "0579ed22",
   "metadata": {},
   "outputs": [],
   "source": [
    "file_lines = open(file_path, 'r').readlines()\n",
    "file_content = open(file_path, 'r').read()\n",
    "wrapper = cst.metadata.MetadataWrapper(cst.parse_module(file_content))\n",
    "scopes = set(wrapper.resolve(cst.metadata.ScopeProvider).values())\n",
    "ranges = wrapper.resolve(cst.metadata.PositionProvider)\n",
    "file_number_of_lines = len(file_lines)"
   ]
  },
  {
   "cell_type": "code",
   "execution_count": 69,
   "id": "afcf56ac",
   "metadata": {},
   "outputs": [
    {
     "data": {
      "text/plain": [
       "{<libcst.metadata.scope_provider.GlobalScope at 0x7f388e1c4cd0>}"
      ]
     },
     "execution_count": 69,
     "metadata": {},
     "output_type": "execute_result"
    }
   ],
   "source": [
    "scopes"
   ]
  },
  {
   "cell_type": "code",
   "execution_count": 70,
   "id": "05ad2abc",
   "metadata": {},
   "outputs": [
    {
     "data": {
      "text/plain": [
       "If(\n",
       "    test=Integer(\n",
       "        value='1',\n",
       "        lpar=[],\n",
       "        rpar=[],\n",
       "    ),\n",
       "    body=IndentedBlock(\n",
       "        body=[\n",
       "            SimpleStatementLine(\n",
       "                body=[\n",
       "                    Pass(\n",
       "                        semicolon=MaybeSentinel.DEFAULT,\n",
       "                    ),\n",
       "                ],\n",
       "                leading_lines=[],\n",
       "                trailing_whitespace=TrailingWhitespace(\n",
       "                    whitespace=SimpleWhitespace(\n",
       "                        value='',\n",
       "                    ),\n",
       "                    comment=None,\n",
       "                    newline=Newline(\n",
       "                        value=None,\n",
       "                    ),\n",
       "                ),\n",
       "            ),\n",
       "        ],\n",
       "        header=TrailingWhitespace(\n",
       "            whitespace=SimpleWhitespace(\n",
       "                value='',\n",
       "            ),\n",
       "            comment=None,\n",
       "            newline=Newline(\n",
       "                value=None,\n",
       "            ),\n",
       "        ),\n",
       "        indent=None,\n",
       "        footer=[],\n",
       "    ),\n",
       "    orelse=If(\n",
       "        test=Integer(\n",
       "            value='2',\n",
       "            lpar=[],\n",
       "            rpar=[],\n",
       "        ),\n",
       "        body=IndentedBlock(\n",
       "            body=[\n",
       "                SimpleStatementLine(\n",
       "                    body=[\n",
       "                        Pass(\n",
       "                            semicolon=MaybeSentinel.DEFAULT,\n",
       "                        ),\n",
       "                    ],\n",
       "                    leading_lines=[],\n",
       "                    trailing_whitespace=TrailingWhitespace(\n",
       "                        whitespace=SimpleWhitespace(\n",
       "                            value='',\n",
       "                        ),\n",
       "                        comment=None,\n",
       "                        newline=Newline(\n",
       "                            value=None,\n",
       "                        ),\n",
       "                    ),\n",
       "                ),\n",
       "            ],\n",
       "            header=TrailingWhitespace(\n",
       "                whitespace=SimpleWhitespace(\n",
       "                    value='',\n",
       "                ),\n",
       "                comment=None,\n",
       "                newline=Newline(\n",
       "                    value=None,\n",
       "                ),\n",
       "            ),\n",
       "            indent=None,\n",
       "            footer=[],\n",
       "        ),\n",
       "        orelse=If(\n",
       "            test=Integer(\n",
       "                value='3',\n",
       "                lpar=[],\n",
       "                rpar=[],\n",
       "            ),\n",
       "            body=IndentedBlock(\n",
       "                body=[\n",
       "                    SimpleStatementLine(\n",
       "                        body=[\n",
       "                            Pass(\n",
       "                                semicolon=MaybeSentinel.DEFAULT,\n",
       "                            ),\n",
       "                        ],\n",
       "                        leading_lines=[],\n",
       "                        trailing_whitespace=TrailingWhitespace(\n",
       "                            whitespace=SimpleWhitespace(\n",
       "                                value='',\n",
       "                            ),\n",
       "                            comment=None,\n",
       "                            newline=Newline(\n",
       "                                value=None,\n",
       "                            ),\n",
       "                        ),\n",
       "                    ),\n",
       "                ],\n",
       "                header=TrailingWhitespace(\n",
       "                    whitespace=SimpleWhitespace(\n",
       "                        value='',\n",
       "                    ),\n",
       "                    comment=None,\n",
       "                    newline=Newline(\n",
       "                        value=None,\n",
       "                    ),\n",
       "                ),\n",
       "                indent=None,\n",
       "                footer=[],\n",
       "            ),\n",
       "            orelse=Else(\n",
       "                body=IndentedBlock(\n",
       "                    body=[\n",
       "                        SimpleStatementLine(\n",
       "                            body=[\n",
       "                                Pass(\n",
       "                                    semicolon=MaybeSentinel.DEFAULT,\n",
       "                                ),\n",
       "                            ],\n",
       "                            leading_lines=[],\n",
       "                            trailing_whitespace=TrailingWhitespace(\n",
       "                                whitespace=SimpleWhitespace(\n",
       "                                    value='',\n",
       "                                ),\n",
       "                                comment=None,\n",
       "                                newline=Newline(\n",
       "                                    value=None,\n",
       "                                ),\n",
       "                            ),\n",
       "                        ),\n",
       "                    ],\n",
       "                    header=TrailingWhitespace(\n",
       "                        whitespace=SimpleWhitespace(\n",
       "                            value='',\n",
       "                        ),\n",
       "                        comment=None,\n",
       "                        newline=Newline(\n",
       "                            value=None,\n",
       "                        ),\n",
       "                    ),\n",
       "                    indent=None,\n",
       "                    footer=[],\n",
       "                ),\n",
       "                leading_lines=[],\n",
       "                whitespace_before_colon=SimpleWhitespace(\n",
       "                    value='\\\\\\n        ',\n",
       "                ),\n",
       "            ),\n",
       "            leading_lines=[],\n",
       "            whitespace_before_test=SimpleWhitespace(\n",
       "                value=' ',\n",
       "            ),\n",
       "            whitespace_after_test=SimpleWhitespace(\n",
       "                value='\\\\\\n        ',\n",
       "            ),\n",
       "        ),\n",
       "        leading_lines=[],\n",
       "        whitespace_before_test=SimpleWhitespace(\n",
       "            value=' ',\n",
       "        ),\n",
       "        whitespace_after_test=SimpleWhitespace(\n",
       "            value='',\n",
       "        ),\n",
       "    ),\n",
       "    leading_lines=[],\n",
       "    whitespace_before_test=SimpleWhitespace(\n",
       "        value=' \\\\\\n        ',\n",
       "    ),\n",
       "    whitespace_after_test=SimpleWhitespace(\n",
       "        value='',\n",
       "    ),\n",
       ")"
      ]
     },
     "execution_count": 70,
     "metadata": {},
     "output_type": "execute_result"
    }
   ],
   "source": [
    "k = wrapper.module.body[0]\n",
    "k"
   ]
  },
  {
   "cell_type": "code",
   "execution_count": 71,
   "id": "6cdb1ad1",
   "metadata": {},
   "outputs": [
    {
     "data": {
      "text/plain": [
       "libcst._nodes.statement.If"
      ]
     },
     "execution_count": 71,
     "metadata": {},
     "output_type": "execute_result"
    }
   ],
   "source": [
    "type(k)"
   ]
  },
  {
   "cell_type": "code",
   "execution_count": 72,
   "id": "6691eaf5",
   "metadata": {},
   "outputs": [
    {
     "data": {
      "text/plain": [
       "CodeRange(start=CodePosition(line=1, column=0), end=CodePosition(line=11, column=8))"
      ]
     },
     "execution_count": 72,
     "metadata": {},
     "output_type": "execute_result"
    }
   ],
   "source": [
    "ranges[k]"
   ]
  },
  {
   "cell_type": "code",
   "execution_count": 73,
   "id": "917473d1",
   "metadata": {},
   "outputs": [
    {
     "data": {
      "text/plain": [
       "Integer(\n",
       "    value='1',\n",
       "    lpar=[],\n",
       "    rpar=[],\n",
       ")"
      ]
     },
     "execution_count": 73,
     "metadata": {},
     "output_type": "execute_result"
    }
   ],
   "source": [
    "k.test"
   ]
  },
  {
   "cell_type": "code",
   "execution_count": 74,
   "id": "1f4b1b0f",
   "metadata": {},
   "outputs": [
    {
     "data": {
      "text/plain": [
       "CodeRange(start=CodePosition(line=2, column=8), end=CodePosition(line=2, column=9))"
      ]
     },
     "execution_count": 74,
     "metadata": {},
     "output_type": "execute_result"
    }
   ],
   "source": [
    "ranges[k.test]"
   ]
  },
  {
   "cell_type": "code",
   "execution_count": 75,
   "id": "fa01a201",
   "metadata": {},
   "outputs": [
    {
     "data": {
      "text/plain": [
       "2"
      ]
     },
     "execution_count": 75,
     "metadata": {},
     "output_type": "execute_result"
    }
   ],
   "source": [
    "ranges[k.test].end.line"
   ]
  },
  {
   "cell_type": "code",
   "execution_count": 76,
   "id": "fb6672d8",
   "metadata": {},
   "outputs": [
    {
     "data": {
      "text/plain": [
       "libcst._nodes.statement.If"
      ]
     },
     "execution_count": 76,
     "metadata": {},
     "output_type": "execute_result"
    }
   ],
   "source": [
    "cst.If"
   ]
  },
  {
   "cell_type": "code",
   "execution_count": 90,
   "id": "e14f264b",
   "metadata": {},
   "outputs": [],
   "source": [
    "class IfElseScopeCollector(cst.CSTVisitor):\n",
    "    def __init__(self):\n",
    "        super().__init__()\n",
    "        self.scopes: List[Tuple] = []\n",
    "\n",
    "    def visit_If(self, node: cst.If) -> None:\n",
    "        node_range = ranges[node]\n",
    "        start_line = node_range.start.line\n",
    "        head_end_line = ranges[node.whitespace_after_test].end.line\n",
    "        end_line = node_range.end.line\n",
    "        self.scopes.append((start_line, head_end_line, end_line))\n",
    "        \n",
    "    def visit_Else(self, node: cst.If) -> None:\n",
    "        node_range = ranges[node]\n",
    "        start_line = node_range.start.line\n",
    "        head_end_line = ranges[node.whitespace_before_colon].end.line\n",
    "        end_line = node_range.end.line\n",
    "        self.scopes.append((start_line, head_end_line, end_line))"
   ]
  },
  {
   "cell_type": "code",
   "execution_count": 91,
   "id": "a01396d2",
   "metadata": {},
   "outputs": [],
   "source": [
    "collector = IfElseScopeCollector()\n",
    "m = wrapper.visit(collector)"
   ]
  },
  {
   "cell_type": "code",
   "execution_count": 92,
   "id": "9d8ced84",
   "metadata": {},
   "outputs": [
    {
     "data": {
      "text/plain": [
       "[(1, 2, 11), (4, 4, 11), (6, 7, 11), (9, 10, 11)]"
      ]
     },
     "execution_count": 92,
     "metadata": {},
     "output_type": "execute_result"
    }
   ],
   "source": [
    "collector.scopes"
   ]
  },
  {
   "cell_type": "code",
   "execution_count": null,
   "id": "54934d02",
   "metadata": {},
   "outputs": [],
   "source": []
  }
 ],
 "metadata": {
  "kernelspec": {
   "display_name": "Python 3 (ipykernel)",
   "language": "python",
   "name": "python3"
  },
  "language_info": {
   "codemirror_mode": {
    "name": "ipython",
    "version": 3
   },
   "file_extension": ".py",
   "mimetype": "text/x-python",
   "name": "python",
   "nbconvert_exporter": "python",
   "pygments_lexer": "ipython3",
   "version": "3.8.3"
  }
 },
 "nbformat": 4,
 "nbformat_minor": 5
}
