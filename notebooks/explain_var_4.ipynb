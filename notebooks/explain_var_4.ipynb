{
 "cells": [
  {
   "cell_type": "code",
   "execution_count": 112,
   "id": "9a771925",
   "metadata": {},
   "outputs": [],
   "source": [
    "from typing import *\n",
    "import libcst as cst\n",
    "import networkx as nx\n",
    "import pandas as pd\n",
    "import numpy as np"
   ]
  },
  {
   "cell_type": "code",
   "execution_count": 113,
   "id": "312bdc02",
   "metadata": {},
   "outputs": [],
   "source": [
    "from alkh import cst_utils"
   ]
  },
  {
   "cell_type": "code",
   "execution_count": 168,
   "id": "52d718d2",
   "metadata": {},
   "outputs": [],
   "source": [
    "# file_path = 'play.py'\n",
    "file_path = 'play2.py'\n",
    "# file_path = '/mnt/dev/azure_projects/ATool/core/aoi_defects_clustering/aoi_defect_clustering.py'"
   ]
  },
  {
   "cell_type": "code",
   "execution_count": 169,
   "id": "090d17b4",
   "metadata": {},
   "outputs": [],
   "source": [
    "file_lines = open(file_path, 'r').readlines()\n",
    "file_content = open(file_path, 'r').read()\n",
    "wrapper = cst.metadata.MetadataWrapper(cst.parse_module(file_content))\n",
    "scopes = set(wrapper.resolve(cst.metadata.ScopeProvider).values())\n",
    "ranges = wrapper.resolve(cst.metadata.PositionProvider)\n",
    "file_number_of_lines = len(file_lines)"
   ]
  },
  {
   "cell_type": "code",
   "execution_count": 170,
   "id": "1cbfae61",
   "metadata": {},
   "outputs": [
    {
     "data": {
      "text/plain": [
       "{<libcst.metadata.scope_provider.ComprehensionScope at 0x7f388f1b1fa0>,\n",
       " <libcst.metadata.scope_provider.GlobalScope at 0x7f388f139a00>}"
      ]
     },
     "execution_count": 170,
     "metadata": {},
     "output_type": "execute_result"
    }
   ],
   "source": [
    "scopes"
   ]
  },
  {
   "cell_type": "code",
   "execution_count": 171,
   "id": "ec03ec27",
   "metadata": {},
   "outputs": [
    {
     "data": {
      "text/plain": [
       "For(\n",
       "    target=Name(\n",
       "        value='a',\n",
       "        lpar=[],\n",
       "        rpar=[],\n",
       "    ),\n",
       "    iter=List(\n",
       "        elements=[\n",
       "            Element(\n",
       "                value=List(\n",
       "                    elements=[\n",
       "                        Element(\n",
       "                            value=Integer(\n",
       "                                value='0',\n",
       "                                lpar=[],\n",
       "                                rpar=[],\n",
       "                            ),\n",
       "                            comma=MaybeSentinel.DEFAULT,\n",
       "                        ),\n",
       "                    ],\n",
       "                    lbracket=LeftSquareBracket(\n",
       "                        whitespace_after=SimpleWhitespace(\n",
       "                            value='',\n",
       "                        ),\n",
       "                    ),\n",
       "                    rbracket=RightSquareBracket(\n",
       "                        whitespace_before=SimpleWhitespace(\n",
       "                            value='',\n",
       "                        ),\n",
       "                    ),\n",
       "                    lpar=[],\n",
       "                    rpar=[],\n",
       "                ),\n",
       "                comma=Comma(\n",
       "                    whitespace_before=SimpleWhitespace(\n",
       "                        value='',\n",
       "                    ),\n",
       "                    whitespace_after=SimpleWhitespace(\n",
       "                        value=' ',\n",
       "                    ),\n",
       "                ),\n",
       "            ),\n",
       "            Element(\n",
       "                value=List(\n",
       "                    elements=[\n",
       "                        Element(\n",
       "                            value=Integer(\n",
       "                                value='1',\n",
       "                                lpar=[],\n",
       "                                rpar=[],\n",
       "                            ),\n",
       "                            comma=MaybeSentinel.DEFAULT,\n",
       "                        ),\n",
       "                    ],\n",
       "                    lbracket=LeftSquareBracket(\n",
       "                        whitespace_after=SimpleWhitespace(\n",
       "                            value='',\n",
       "                        ),\n",
       "                    ),\n",
       "                    rbracket=RightSquareBracket(\n",
       "                        whitespace_before=SimpleWhitespace(\n",
       "                            value='',\n",
       "                        ),\n",
       "                    ),\n",
       "                    lpar=[],\n",
       "                    rpar=[],\n",
       "                ),\n",
       "                comma=MaybeSentinel.DEFAULT,\n",
       "            ),\n",
       "        ],\n",
       "        lbracket=LeftSquareBracket(\n",
       "            whitespace_after=SimpleWhitespace(\n",
       "                value='',\n",
       "            ),\n",
       "        ),\n",
       "        rbracket=RightSquareBracket(\n",
       "            whitespace_before=SimpleWhitespace(\n",
       "                value='',\n",
       "            ),\n",
       "        ),\n",
       "        lpar=[],\n",
       "        rpar=[],\n",
       "    ),\n",
       "    body=IndentedBlock(\n",
       "        body=[\n",
       "            SimpleStatementLine(\n",
       "                body=[\n",
       "                    Assign(\n",
       "                        targets=[\n",
       "                            AssignTarget(\n",
       "                                target=Name(\n",
       "                                    value='k',\n",
       "                                    lpar=[],\n",
       "                                    rpar=[],\n",
       "                                ),\n",
       "                                whitespace_before_equal=SimpleWhitespace(\n",
       "                                    value=' ',\n",
       "                                ),\n",
       "                                whitespace_after_equal=SimpleWhitespace(\n",
       "                                    value=' ',\n",
       "                                ),\n",
       "                            ),\n",
       "                        ],\n",
       "                        value=ListComp(\n",
       "                            elt=Name(\n",
       "                                value='m',\n",
       "                                lpar=[],\n",
       "                                rpar=[],\n",
       "                            ),\n",
       "                            for_in=CompFor(\n",
       "                                target=Name(\n",
       "                                    value='m',\n",
       "                                    lpar=[],\n",
       "                                    rpar=[],\n",
       "                                ),\n",
       "                                iter=Name(\n",
       "                                    value='a',\n",
       "                                    lpar=[],\n",
       "                                    rpar=[],\n",
       "                                ),\n",
       "                                ifs=[],\n",
       "                                inner_for_in=None,\n",
       "                                asynchronous=None,\n",
       "                                whitespace_before=SimpleWhitespace(\n",
       "                                    value=' ',\n",
       "                                ),\n",
       "                                whitespace_after_for=SimpleWhitespace(\n",
       "                                    value=' ',\n",
       "                                ),\n",
       "                                whitespace_before_in=SimpleWhitespace(\n",
       "                                    value=' ',\n",
       "                                ),\n",
       "                                whitespace_after_in=SimpleWhitespace(\n",
       "                                    value=' ',\n",
       "                                ),\n",
       "                            ),\n",
       "                            lbracket=LeftSquareBracket(\n",
       "                                whitespace_after=SimpleWhitespace(\n",
       "                                    value='',\n",
       "                                ),\n",
       "                            ),\n",
       "                            rbracket=RightSquareBracket(\n",
       "                                whitespace_before=SimpleWhitespace(\n",
       "                                    value='',\n",
       "                                ),\n",
       "                            ),\n",
       "                            lpar=[],\n",
       "                            rpar=[],\n",
       "                        ),\n",
       "                        semicolon=MaybeSentinel.DEFAULT,\n",
       "                    ),\n",
       "                ],\n",
       "                leading_lines=[],\n",
       "                trailing_whitespace=TrailingWhitespace(\n",
       "                    whitespace=SimpleWhitespace(\n",
       "                        value='',\n",
       "                    ),\n",
       "                    comment=None,\n",
       "                    newline=Newline(\n",
       "                        value=None,\n",
       "                    ),\n",
       "                ),\n",
       "            ),\n",
       "        ],\n",
       "        header=TrailingWhitespace(\n",
       "            whitespace=SimpleWhitespace(\n",
       "                value='',\n",
       "            ),\n",
       "            comment=None,\n",
       "            newline=Newline(\n",
       "                value=None,\n",
       "            ),\n",
       "        ),\n",
       "        indent=None,\n",
       "        footer=[],\n",
       "    ),\n",
       "    orelse=None,\n",
       "    asynchronous=None,\n",
       "    leading_lines=[],\n",
       "    whitespace_after_for=SimpleWhitespace(\n",
       "        value=' ',\n",
       "    ),\n",
       "    whitespace_before_in=SimpleWhitespace(\n",
       "        value=' ',\n",
       "    ),\n",
       "    whitespace_after_in=SimpleWhitespace(\n",
       "        value=' ',\n",
       "    ),\n",
       "    whitespace_before_colon=SimpleWhitespace(\n",
       "        value='',\n",
       "    ),\n",
       ")"
      ]
     },
     "execution_count": 171,
     "metadata": {},
     "output_type": "execute_result"
    }
   ],
   "source": [
    "k = wrapper.module.body[0]\n",
    "k"
   ]
  },
  {
   "cell_type": "code",
   "execution_count": 172,
   "id": "0b8dadc5",
   "metadata": {},
   "outputs": [
    {
     "data": {
      "text/plain": [
       "libcst._nodes.statement.For"
      ]
     },
     "execution_count": 172,
     "metadata": {},
     "output_type": "execute_result"
    }
   ],
   "source": [
    "type(k)"
   ]
  },
  {
   "cell_type": "code",
   "execution_count": 154,
   "id": "0652f370",
   "metadata": {},
   "outputs": [
    {
     "data": {
      "text/plain": [
       "CodeRange(start=CodePosition(line=1, column=0), end=CodePosition(line=21, column=8))"
      ]
     },
     "execution_count": 154,
     "metadata": {},
     "output_type": "execute_result"
    }
   ],
   "source": [
    "ranges[k]"
   ]
  },
  {
   "cell_type": "code",
   "execution_count": 155,
   "id": "cd4d5105",
   "metadata": {},
   "outputs": [
    {
     "data": {
      "text/plain": [
       "Integer(\n",
       "    value='1',\n",
       "    lpar=[],\n",
       "    rpar=[],\n",
       ")"
      ]
     },
     "execution_count": 155,
     "metadata": {},
     "output_type": "execute_result"
    }
   ],
   "source": [
    "k.test"
   ]
  },
  {
   "cell_type": "code",
   "execution_count": 133,
   "id": "fdc0fbb4",
   "metadata": {},
   "outputs": [
    {
     "data": {
      "text/plain": [
       "CodeRange(start=CodePosition(line=2, column=8), end=CodePosition(line=2, column=9))"
      ]
     },
     "execution_count": 133,
     "metadata": {},
     "output_type": "execute_result"
    }
   ],
   "source": [
    "ranges[k.test]"
   ]
  },
  {
   "cell_type": "code",
   "execution_count": 134,
   "id": "30ba757a",
   "metadata": {},
   "outputs": [
    {
     "data": {
      "text/plain": [
       "2"
      ]
     },
     "execution_count": 134,
     "metadata": {},
     "output_type": "execute_result"
    }
   ],
   "source": [
    "ranges[k.test].end.line"
   ]
  },
  {
   "cell_type": "code",
   "execution_count": 135,
   "id": "7bbd66e1",
   "metadata": {},
   "outputs": [
    {
     "data": {
      "text/plain": [
       "libcst._nodes.statement.If"
      ]
     },
     "execution_count": 135,
     "metadata": {},
     "output_type": "execute_result"
    }
   ],
   "source": [
    "cst.If"
   ]
  },
  {
   "cell_type": "code",
   "execution_count": 174,
   "id": "3240d25f",
   "metadata": {},
   "outputs": [
    {
     "data": {
      "text/plain": [
       "CodeRange(start=CodePosition(line=1, column=0), end=CodePosition(line=2, column=22))"
      ]
     },
     "execution_count": 174,
     "metadata": {},
     "output_type": "execute_result"
    }
   ],
   "source": [
    "ranges[k]"
   ]
  },
  {
   "cell_type": "code",
   "execution_count": 175,
   "id": "0f52b71c",
   "metadata": {},
   "outputs": [
    {
     "data": {
      "text/plain": [
       "For(\n",
       "    target=Name(\n",
       "        value='a',\n",
       "        lpar=[],\n",
       "        rpar=[],\n",
       "    ),\n",
       "    iter=List(\n",
       "        elements=[\n",
       "            Element(\n",
       "                value=List(\n",
       "                    elements=[\n",
       "                        Element(\n",
       "                            value=Integer(\n",
       "                                value='0',\n",
       "                                lpar=[],\n",
       "                                rpar=[],\n",
       "                            ),\n",
       "                            comma=MaybeSentinel.DEFAULT,\n",
       "                        ),\n",
       "                    ],\n",
       "                    lbracket=LeftSquareBracket(\n",
       "                        whitespace_after=SimpleWhitespace(\n",
       "                            value='',\n",
       "                        ),\n",
       "                    ),\n",
       "                    rbracket=RightSquareBracket(\n",
       "                        whitespace_before=SimpleWhitespace(\n",
       "                            value='',\n",
       "                        ),\n",
       "                    ),\n",
       "                    lpar=[],\n",
       "                    rpar=[],\n",
       "                ),\n",
       "                comma=Comma(\n",
       "                    whitespace_before=SimpleWhitespace(\n",
       "                        value='',\n",
       "                    ),\n",
       "                    whitespace_after=SimpleWhitespace(\n",
       "                        value=' ',\n",
       "                    ),\n",
       "                ),\n",
       "            ),\n",
       "            Element(\n",
       "                value=List(\n",
       "                    elements=[\n",
       "                        Element(\n",
       "                            value=Integer(\n",
       "                                value='1',\n",
       "                                lpar=[],\n",
       "                                rpar=[],\n",
       "                            ),\n",
       "                            comma=MaybeSentinel.DEFAULT,\n",
       "                        ),\n",
       "                    ],\n",
       "                    lbracket=LeftSquareBracket(\n",
       "                        whitespace_after=SimpleWhitespace(\n",
       "                            value='',\n",
       "                        ),\n",
       "                    ),\n",
       "                    rbracket=RightSquareBracket(\n",
       "                        whitespace_before=SimpleWhitespace(\n",
       "                            value='',\n",
       "                        ),\n",
       "                    ),\n",
       "                    lpar=[],\n",
       "                    rpar=[],\n",
       "                ),\n",
       "                comma=MaybeSentinel.DEFAULT,\n",
       "            ),\n",
       "        ],\n",
       "        lbracket=LeftSquareBracket(\n",
       "            whitespace_after=SimpleWhitespace(\n",
       "                value='',\n",
       "            ),\n",
       "        ),\n",
       "        rbracket=RightSquareBracket(\n",
       "            whitespace_before=SimpleWhitespace(\n",
       "                value='',\n",
       "            ),\n",
       "        ),\n",
       "        lpar=[],\n",
       "        rpar=[],\n",
       "    ),\n",
       "    body=IndentedBlock(\n",
       "        body=[\n",
       "            SimpleStatementLine(\n",
       "                body=[\n",
       "                    Assign(\n",
       "                        targets=[\n",
       "                            AssignTarget(\n",
       "                                target=Name(\n",
       "                                    value='k',\n",
       "                                    lpar=[],\n",
       "                                    rpar=[],\n",
       "                                ),\n",
       "                                whitespace_before_equal=SimpleWhitespace(\n",
       "                                    value=' ',\n",
       "                                ),\n",
       "                                whitespace_after_equal=SimpleWhitespace(\n",
       "                                    value=' ',\n",
       "                                ),\n",
       "                            ),\n",
       "                        ],\n",
       "                        value=ListComp(\n",
       "                            elt=Name(\n",
       "                                value='m',\n",
       "                                lpar=[],\n",
       "                                rpar=[],\n",
       "                            ),\n",
       "                            for_in=CompFor(\n",
       "                                target=Name(\n",
       "                                    value='m',\n",
       "                                    lpar=[],\n",
       "                                    rpar=[],\n",
       "                                ),\n",
       "                                iter=Name(\n",
       "                                    value='a',\n",
       "                                    lpar=[],\n",
       "                                    rpar=[],\n",
       "                                ),\n",
       "                                ifs=[],\n",
       "                                inner_for_in=None,\n",
       "                                asynchronous=None,\n",
       "                                whitespace_before=SimpleWhitespace(\n",
       "                                    value=' ',\n",
       "                                ),\n",
       "                                whitespace_after_for=SimpleWhitespace(\n",
       "                                    value=' ',\n",
       "                                ),\n",
       "                                whitespace_before_in=SimpleWhitespace(\n",
       "                                    value=' ',\n",
       "                                ),\n",
       "                                whitespace_after_in=SimpleWhitespace(\n",
       "                                    value=' ',\n",
       "                                ),\n",
       "                            ),\n",
       "                            lbracket=LeftSquareBracket(\n",
       "                                whitespace_after=SimpleWhitespace(\n",
       "                                    value='',\n",
       "                                ),\n",
       "                            ),\n",
       "                            rbracket=RightSquareBracket(\n",
       "                                whitespace_before=SimpleWhitespace(\n",
       "                                    value='',\n",
       "                                ),\n",
       "                            ),\n",
       "                            lpar=[],\n",
       "                            rpar=[],\n",
       "                        ),\n",
       "                        semicolon=MaybeSentinel.DEFAULT,\n",
       "                    ),\n",
       "                ],\n",
       "                leading_lines=[],\n",
       "                trailing_whitespace=TrailingWhitespace(\n",
       "                    whitespace=SimpleWhitespace(\n",
       "                        value='',\n",
       "                    ),\n",
       "                    comment=None,\n",
       "                    newline=Newline(\n",
       "                        value=None,\n",
       "                    ),\n",
       "                ),\n",
       "            ),\n",
       "        ],\n",
       "        header=TrailingWhitespace(\n",
       "            whitespace=SimpleWhitespace(\n",
       "                value='',\n",
       "            ),\n",
       "            comment=None,\n",
       "            newline=Newline(\n",
       "                value=None,\n",
       "            ),\n",
       "        ),\n",
       "        indent=None,\n",
       "        footer=[],\n",
       "    ),\n",
       "    orelse=None,\n",
       "    asynchronous=None,\n",
       "    leading_lines=[],\n",
       "    whitespace_after_for=SimpleWhitespace(\n",
       "        value=' ',\n",
       "    ),\n",
       "    whitespace_before_in=SimpleWhitespace(\n",
       "        value=' ',\n",
       "    ),\n",
       "    whitespace_after_in=SimpleWhitespace(\n",
       "        value=' ',\n",
       "    ),\n",
       "    whitespace_before_colon=SimpleWhitespace(\n",
       "        value='',\n",
       "    ),\n",
       ")"
      ]
     },
     "execution_count": 175,
     "metadata": {},
     "output_type": "execute_result"
    }
   ],
   "source": [
    "k"
   ]
  },
  {
   "cell_type": "code",
   "execution_count": 165,
   "id": "3cb861f6",
   "metadata": {},
   "outputs": [],
   "source": [
    "class IfElseScopeCollector(cst.CSTVisitor):\n",
    "    def __init__(self, ranges):\n",
    "        super().__init__()\n",
    "        self._ranges = ranges\n",
    "        self.scopes: List[Tuple] = []\n",
    "\n",
    "    def visit_If(self, node: cst.If) -> None:\n",
    "        node_range = ranges[node]\n",
    "        start_line = node_range.start.line\n",
    "        head_end_line = ranges[node.whitespace_after_test].end.line\n",
    "        end_line = node_range.end.line\n",
    "        self.scopes.append((start_line, head_end_line, end_line))\n",
    "        \n",
    "    def visit_Else(self, node: cst.If) -> None:\n",
    "        node_range = self._ranges[node]\n",
    "        start_line = node_range.start.line\n",
    "        head_end_line = self._ranges[node.whitespace_before_colon].end.line\n",
    "        end_line = node_range.end.line\n",
    "        self.scopes.append((start_line, head_end_line, end_line))\n",
    "        \n",
    "    def visit_With(self, node: cst.If) -> None:\n",
    "        node_range = self._ranges[node]\n",
    "        start_line = node_range.start.line\n",
    "        head_end_line = self._ranges[node.whitespace_before_colon].end.line\n",
    "        end_line = node_range.end.line\n",
    "        self.scopes.append((start_line, head_end_line, end_line))\n",
    "        \n",
    "    def visit_Try(self, node: cst.If) -> None:\n",
    "        node_range = self._ranges[node]\n",
    "        start_line = node_range.start.line\n",
    "        head_end_line = self._ranges[node.whitespace_before_colon].end.line\n",
    "        end_line = node_range.end.line\n",
    "        self.scopes.append((start_line, head_end_line, end_line))\n",
    "        \n",
    "    def visit_ExceptHandler(self, node: cst.If) -> None:\n",
    "        node_range = self._ranges[node]\n",
    "        start_line = node_range.start.line\n",
    "        head_end_line = self._ranges[node.whitespace_before_colon].end.line\n",
    "        end_line = node_range.end.line\n",
    "        self.scopes.append((start_line, head_end_line, end_line))\n",
    "        \n",
    "    def visit_Finally(self, node: cst.If) -> None:\n",
    "        node_range = self._ranges[node]\n",
    "        start_line = node_range.start.line\n",
    "        head_end_line = self._ranges[node.whitespace_before_colon].end.line\n",
    "        end_line = node_range.end.line\n",
    "        self.scopes.append((start_line, head_end_line, end_line))    "
   ]
  },
  {
   "cell_type": "code",
   "execution_count": 166,
   "id": "4bdf4376",
   "metadata": {},
   "outputs": [],
   "source": [
    "collector = IfElseScopeCollector(ranges)\n",
    "m = wrapper.visit(collector)"
   ]
  },
  {
   "cell_type": "code",
   "execution_count": 167,
   "id": "65212af6",
   "metadata": {},
   "outputs": [
    {
     "data": {
      "text/plain": [
       "[(1, 2, 21),\n",
       " (3, 4, 12),\n",
       " (5, 6, 11),\n",
       " (8, 8, 9),\n",
       " (10, 10, 11),\n",
       " (14, 14, 21),\n",
       " (16, 17, 21),\n",
       " (19, 20, 21)]"
      ]
     },
     "execution_count": 167,
     "metadata": {},
     "output_type": "execute_result"
    }
   ],
   "source": [
    "collector.scopes"
   ]
  },
  {
   "cell_type": "code",
   "execution_count": 98,
   "id": "cdd726e7",
   "metadata": {},
   "outputs": [
    {
     "data": {
      "text/html": [
       "<div>\n",
       "<style scoped>\n",
       "    .dataframe tbody tr th:only-of-type {\n",
       "        vertical-align: middle;\n",
       "    }\n",
       "\n",
       "    .dataframe tbody tr th {\n",
       "        vertical-align: top;\n",
       "    }\n",
       "\n",
       "    .dataframe thead th {\n",
       "        text-align: right;\n",
       "    }\n",
       "</style>\n",
       "<table border=\"1\" class=\"dataframe\">\n",
       "  <thead>\n",
       "    <tr style=\"text-align: right;\">\n",
       "      <th></th>\n",
       "      <th>start_line_number</th>\n",
       "      <th>header_end_line_number</th>\n",
       "      <th>end_line_number</th>\n",
       "    </tr>\n",
       "  </thead>\n",
       "  <tbody>\n",
       "    <tr>\n",
       "      <th>0</th>\n",
       "      <td>1</td>\n",
       "      <td>2</td>\n",
       "      <td>11</td>\n",
       "    </tr>\n",
       "    <tr>\n",
       "      <th>1</th>\n",
       "      <td>4</td>\n",
       "      <td>4</td>\n",
       "      <td>11</td>\n",
       "    </tr>\n",
       "    <tr>\n",
       "      <th>2</th>\n",
       "      <td>6</td>\n",
       "      <td>7</td>\n",
       "      <td>11</td>\n",
       "    </tr>\n",
       "    <tr>\n",
       "      <th>3</th>\n",
       "      <td>9</td>\n",
       "      <td>10</td>\n",
       "      <td>11</td>\n",
       "    </tr>\n",
       "  </tbody>\n",
       "</table>\n",
       "</div>"
      ],
      "text/plain": [
       "   start_line_number  header_end_line_number  end_line_number\n",
       "0                  1                       2               11\n",
       "1                  4                       4               11\n",
       "2                  6                       7               11\n",
       "3                  9                      10               11"
      ]
     },
     "execution_count": 98,
     "metadata": {},
     "output_type": "execute_result"
    }
   ],
   "source": [
    "extended_scopes_df = pd.DataFrame(collector.scopes, columns=[\"start_line_number\", \"header_end_line_number\", \"end_line_number\"])"
   ]
  },
  {
   "cell_type": "code",
   "execution_count": 118,
   "id": "59af8b02",
   "metadata": {},
   "outputs": [],
   "source": [
    "j = k.body.body[0]"
   ]
  },
  {
   "cell_type": "code",
   "execution_count": 119,
   "id": "9f3b22d0",
   "metadata": {},
   "outputs": [
    {
     "data": {
      "text/plain": [
       "CodeRange(start=CodePosition(line=3, column=4), end=CodePosition(line=5, column=12))"
      ]
     },
     "execution_count": 119,
     "metadata": {},
     "output_type": "execute_result"
    }
   ],
   "source": [
    "ranges[j]"
   ]
  },
  {
   "cell_type": "code",
   "execution_count": 120,
   "id": "d572edb7",
   "metadata": {},
   "outputs": [
    {
     "data": {
      "text/plain": [
       "With(\n",
       "    items=[\n",
       "        WithItem(\n",
       "            item=Integer(\n",
       "                value='1',\n",
       "                lpar=[],\n",
       "                rpar=[],\n",
       "            ),\n",
       "            asname=AsName(\n",
       "                name=Name(\n",
       "                    value='t',\n",
       "                    lpar=[],\n",
       "                    rpar=[],\n",
       "                ),\n",
       "                whitespace_before_as=SimpleWhitespace(\n",
       "                    value=' ',\n",
       "                ),\n",
       "                whitespace_after_as=SimpleWhitespace(\n",
       "                    value=' ',\n",
       "                ),\n",
       "            ),\n",
       "            comma=MaybeSentinel.DEFAULT,\n",
       "        ),\n",
       "    ],\n",
       "    body=IndentedBlock(\n",
       "        body=[\n",
       "            SimpleStatementLine(\n",
       "                body=[\n",
       "                    Pass(\n",
       "                        semicolon=MaybeSentinel.DEFAULT,\n",
       "                    ),\n",
       "                ],\n",
       "                leading_lines=[],\n",
       "                trailing_whitespace=TrailingWhitespace(\n",
       "                    whitespace=SimpleWhitespace(\n",
       "                        value='',\n",
       "                    ),\n",
       "                    comment=None,\n",
       "                    newline=Newline(\n",
       "                        value=None,\n",
       "                    ),\n",
       "                ),\n",
       "            ),\n",
       "        ],\n",
       "        header=TrailingWhitespace(\n",
       "            whitespace=SimpleWhitespace(\n",
       "                value='',\n",
       "            ),\n",
       "            comment=None,\n",
       "            newline=Newline(\n",
       "                value=None,\n",
       "            ),\n",
       "        ),\n",
       "        indent=None,\n",
       "        footer=[],\n",
       "    ),\n",
       "    asynchronous=None,\n",
       "    leading_lines=[],\n",
       "    lpar=MaybeSentinel.DEFAULT,\n",
       "    rpar=MaybeSentinel.DEFAULT,\n",
       "    whitespace_after_with=SimpleWhitespace(\n",
       "        value=' ',\n",
       "    ),\n",
       "    whitespace_before_colon=SimpleWhitespace(\n",
       "        value='\\\\\\n            ',\n",
       "    ),\n",
       ")"
      ]
     },
     "execution_count": 120,
     "metadata": {},
     "output_type": "execute_result"
    }
   ],
   "source": [
    "j"
   ]
  },
  {
   "cell_type": "code",
   "execution_count": 122,
   "id": "b163b284",
   "metadata": {},
   "outputs": [
    {
     "data": {
      "text/plain": [
       "CodeRange(start=CodePosition(line=3, column=15), end=CodePosition(line=4, column=12))"
      ]
     },
     "execution_count": 122,
     "metadata": {},
     "output_type": "execute_result"
    }
   ],
   "source": [
    "ranges[j.whitespace_before_colon]"
   ]
  },
  {
   "cell_type": "code",
   "execution_count": 156,
   "id": "4cc99091",
   "metadata": {},
   "outputs": [
    {
     "data": {
      "text/plain": [
       "Try(\n",
       "    body=IndentedBlock(\n",
       "        body=[\n",
       "            SimpleStatementLine(\n",
       "                body=[\n",
       "                    Pass(\n",
       "                        semicolon=MaybeSentinel.DEFAULT,\n",
       "                    ),\n",
       "                ],\n",
       "                leading_lines=[],\n",
       "                trailing_whitespace=TrailingWhitespace(\n",
       "                    whitespace=SimpleWhitespace(\n",
       "                        value='',\n",
       "                    ),\n",
       "                    comment=None,\n",
       "                    newline=Newline(\n",
       "                        value=None,\n",
       "                    ),\n",
       "                ),\n",
       "            ),\n",
       "        ],\n",
       "        header=TrailingWhitespace(\n",
       "            whitespace=SimpleWhitespace(\n",
       "                value='',\n",
       "            ),\n",
       "            comment=None,\n",
       "            newline=Newline(\n",
       "                value=None,\n",
       "            ),\n",
       "        ),\n",
       "        indent=None,\n",
       "        footer=[],\n",
       "    ),\n",
       "    handlers=[\n",
       "        ExceptHandler(\n",
       "            body=IndentedBlock(\n",
       "                body=[\n",
       "                    SimpleStatementLine(\n",
       "                        body=[\n",
       "                            Pass(\n",
       "                                semicolon=MaybeSentinel.DEFAULT,\n",
       "                            ),\n",
       "                        ],\n",
       "                        leading_lines=[],\n",
       "                        trailing_whitespace=TrailingWhitespace(\n",
       "                            whitespace=SimpleWhitespace(\n",
       "                                value='',\n",
       "                            ),\n",
       "                            comment=None,\n",
       "                            newline=Newline(\n",
       "                                value=None,\n",
       "                            ),\n",
       "                        ),\n",
       "                    ),\n",
       "                ],\n",
       "                header=TrailingWhitespace(\n",
       "                    whitespace=SimpleWhitespace(\n",
       "                        value='',\n",
       "                    ),\n",
       "                    comment=None,\n",
       "                    newline=Newline(\n",
       "                        value=None,\n",
       "                    ),\n",
       "                ),\n",
       "                indent=None,\n",
       "                footer=[],\n",
       "            ),\n",
       "            type=None,\n",
       "            name=None,\n",
       "            leading_lines=[],\n",
       "            whitespace_after_except=SimpleWhitespace(\n",
       "                value='',\n",
       "            ),\n",
       "            whitespace_before_colon=SimpleWhitespace(\n",
       "                value='',\n",
       "            ),\n",
       "        ),\n",
       "    ],\n",
       "    orelse=None,\n",
       "    finalbody=Finally(\n",
       "        body=IndentedBlock(\n",
       "            body=[\n",
       "                SimpleStatementLine(\n",
       "                    body=[\n",
       "                        Pass(\n",
       "                            semicolon=MaybeSentinel.DEFAULT,\n",
       "                        ),\n",
       "                    ],\n",
       "                    leading_lines=[],\n",
       "                    trailing_whitespace=TrailingWhitespace(\n",
       "                        whitespace=SimpleWhitespace(\n",
       "                            value='',\n",
       "                        ),\n",
       "                        comment=None,\n",
       "                        newline=Newline(\n",
       "                            value=None,\n",
       "                        ),\n",
       "                    ),\n",
       "                ),\n",
       "            ],\n",
       "            header=TrailingWhitespace(\n",
       "                whitespace=SimpleWhitespace(\n",
       "                    value='',\n",
       "                ),\n",
       "                comment=None,\n",
       "                newline=Newline(\n",
       "                    value=None,\n",
       "                ),\n",
       "            ),\n",
       "            indent=None,\n",
       "            footer=[],\n",
       "        ),\n",
       "        leading_lines=[],\n",
       "        whitespace_before_colon=SimpleWhitespace(\n",
       "            value='',\n",
       "        ),\n",
       "    ),\n",
       "    leading_lines=[],\n",
       "    whitespace_before_colon=SimpleWhitespace(\n",
       "        value='\\\\\\n                ',\n",
       "    ),\n",
       ")"
      ]
     },
     "execution_count": 156,
     "metadata": {},
     "output_type": "execute_result"
    }
   ],
   "source": [
    "h = k.body.body[0].body.body[0]\n",
    "h"
   ]
  },
  {
   "cell_type": "code",
   "execution_count": 157,
   "id": "ba3fdd9c",
   "metadata": {},
   "outputs": [
    {
     "data": {
      "text/plain": [
       "CodeRange(start=CodePosition(line=5, column=8), end=CodePosition(line=11, column=16))"
      ]
     },
     "execution_count": 157,
     "metadata": {},
     "output_type": "execute_result"
    }
   ],
   "source": [
    "ranges[h]"
   ]
  },
  {
   "cell_type": "code",
   "execution_count": 158,
   "id": "476c96fe",
   "metadata": {},
   "outputs": [
    {
     "data": {
      "text/plain": [
       "CodeRange(start=CodePosition(line=5, column=11), end=CodePosition(line=6, column=16))"
      ]
     },
     "execution_count": 158,
     "metadata": {},
     "output_type": "execute_result"
    }
   ],
   "source": [
    "ranges[h.whitespace_before_colon]"
   ]
  },
  {
   "cell_type": "code",
   "execution_count": null,
   "id": "f0c49d93",
   "metadata": {},
   "outputs": [],
   "source": []
  },
  {
   "cell_type": "code",
   "execution_count": null,
   "id": "cd959ed8",
   "metadata": {},
   "outputs": [],
   "source": []
  }
 ],
 "metadata": {
  "kernelspec": {
   "display_name": "Python 3 (ipykernel)",
   "language": "python",
   "name": "python3"
  },
  "language_info": {
   "codemirror_mode": {
    "name": "ipython",
    "version": 3
   },
   "file_extension": ".py",
   "mimetype": "text/x-python",
   "name": "python",
   "nbconvert_exporter": "python",
   "pygments_lexer": "ipython3",
   "version": "3.8.3"
  }
 },
 "nbformat": 4,
 "nbformat_minor": 5
}
