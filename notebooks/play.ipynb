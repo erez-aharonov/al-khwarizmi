{
 "cells": [
  {
   "cell_type": "code",
   "execution_count": 1,
   "metadata": {},
   "outputs": [],
   "source": [
    "import pandas as pd"
   ]
  },
  {
   "cell_type": "code",
   "execution_count": 5,
   "metadata": {},
   "outputs": [
    {
     "data": {
      "text/html": [
       "<div>\n",
       "<style scoped>\n",
       "    .dataframe tbody tr th:only-of-type {\n",
       "        vertical-align: middle;\n",
       "    }\n",
       "\n",
       "    .dataframe tbody tr th {\n",
       "        vertical-align: top;\n",
       "    }\n",
       "\n",
       "    .dataframe thead th {\n",
       "        text-align: right;\n",
       "    }\n",
       "</style>\n",
       "<table border=\"1\" class=\"dataframe\">\n",
       "  <thead>\n",
       "    <tr style=\"text-align: right;\">\n",
       "      <th></th>\n",
       "      <th>file_path</th>\n",
       "      <th>function</th>\n",
       "      <th>lineno</th>\n",
       "      <th>locals</th>\n",
       "    </tr>\n",
       "  </thead>\n",
       "  <tbody>\n",
       "    <tr>\n",
       "      <th>0</th>\n",
       "      <td>/mnt/dev/gitlab_projects/al_khwarizmi/src/play.py</td>\n",
       "      <td>something_else</td>\n",
       "      <td>13</td>\n",
       "      <td>{'df': ['k', 'l'], 'c': 15}</td>\n",
       "    </tr>\n",
       "    <tr>\n",
       "      <th>1</th>\n",
       "      <td>/mnt/dev/gitlab_projects/al_khwarizmi/src/play.py</td>\n",
       "      <td>something</td>\n",
       "      <td>8</td>\n",
       "      <td>{'df': ['k', 'l']}</td>\n",
       "    </tr>\n",
       "    <tr>\n",
       "      <th>2</th>\n",
       "      <td>/mnt/dev/gitlab_projects/al_khwarizmi/src/play.py</td>\n",
       "      <td>&lt;module&gt;</td>\n",
       "      <td>16</td>\n",
       "      <td>{'a': 10}</td>\n",
       "    </tr>\n",
       "  </tbody>\n",
       "</table>\n",
       "</div>"
      ],
      "text/plain": [
       "                                           file_path        function  lineno  \\\n",
       "0  /mnt/dev/gitlab_projects/al_khwarizmi/src/play.py  something_else      13   \n",
       "1  /mnt/dev/gitlab_projects/al_khwarizmi/src/play.py       something       8   \n",
       "2  /mnt/dev/gitlab_projects/al_khwarizmi/src/play.py        <module>      16   \n",
       "\n",
       "                        locals  \n",
       "0  {'df': ['k', 'l'], 'c': 15}  \n",
       "1           {'df': ['k', 'l']}  \n",
       "2                    {'a': 10}  "
      ]
     },
     "execution_count": 5,
     "metadata": {},
     "output_type": "execute_result"
    }
   ],
   "source": [
    "stack_df = pd.read_pickle('../src/dump.pkl')\n",
    "stack_df"
   ]
  },
  {
   "cell_type": "code",
   "execution_count": 6,
   "metadata": {},
   "outputs": [
    {
     "data": {
      "text/plain": [
       "{'df':    k  l\n",
       " 0  1  2\n",
       " 1  2  6}"
      ]
     },
     "execution_count": 6,
     "metadata": {},
     "output_type": "execute_result"
    }
   ],
   "source": [
    "stack_df.iloc[1]['locals']"
   ]
  },
  {
   "cell_type": "code",
   "execution_count": 7,
   "metadata": {},
   "outputs": [
    {
     "data": {
      "text/plain": [
       "{'df':    k  l\n",
       " 0  1  2\n",
       " 1  2  6,\n",
       " 'c': 15}"
      ]
     },
     "execution_count": 7,
     "metadata": {},
     "output_type": "execute_result"
    }
   ],
   "source": [
    "stack_df.iloc[0]['locals']"
   ]
  },
  {
   "cell_type": "code",
   "execution_count": 8,
   "metadata": {},
   "outputs": [
    {
     "data": {
      "text/plain": [
       "Index(['file_path', 'function', 'lineno', 'locals'], dtype='object')"
      ]
     },
     "execution_count": 8,
     "metadata": {},
     "output_type": "execute_result"
    }
   ],
   "source": [
    "stack_df.columns"
   ]
  },
  {
   "cell_type": "code",
   "execution_count": 9,
   "metadata": {},
   "outputs": [
    {
     "data": {
      "text/html": [
       "<div>\n",
       "<style scoped>\n",
       "    .dataframe tbody tr th:only-of-type {\n",
       "        vertical-align: middle;\n",
       "    }\n",
       "\n",
       "    .dataframe tbody tr th {\n",
       "        vertical-align: top;\n",
       "    }\n",
       "\n",
       "    .dataframe thead th {\n",
       "        text-align: right;\n",
       "    }\n",
       "</style>\n",
       "<table border=\"1\" class=\"dataframe\">\n",
       "  <thead>\n",
       "    <tr style=\"text-align: right;\">\n",
       "      <th></th>\n",
       "      <th>file_path</th>\n",
       "      <th>function</th>\n",
       "      <th>lineno</th>\n",
       "    </tr>\n",
       "  </thead>\n",
       "  <tbody>\n",
       "    <tr>\n",
       "      <th>0</th>\n",
       "      <td>/mnt/dev/gitlab_projects/al_khwarizmi/src/play.py</td>\n",
       "      <td>something_else</td>\n",
       "      <td>13</td>\n",
       "    </tr>\n",
       "    <tr>\n",
       "      <th>1</th>\n",
       "      <td>/mnt/dev/gitlab_projects/al_khwarizmi/src/play.py</td>\n",
       "      <td>something</td>\n",
       "      <td>8</td>\n",
       "    </tr>\n",
       "    <tr>\n",
       "      <th>2</th>\n",
       "      <td>/mnt/dev/gitlab_projects/al_khwarizmi/src/play.py</td>\n",
       "      <td>&lt;module&gt;</td>\n",
       "      <td>16</td>\n",
       "    </tr>\n",
       "  </tbody>\n",
       "</table>\n",
       "</div>"
      ],
      "text/plain": [
       "                                           file_path        function  lineno\n",
       "0  /mnt/dev/gitlab_projects/al_khwarizmi/src/play.py  something_else      13\n",
       "1  /mnt/dev/gitlab_projects/al_khwarizmi/src/play.py       something       8\n",
       "2  /mnt/dev/gitlab_projects/al_khwarizmi/src/play.py        <module>      16"
      ]
     },
     "execution_count": 9,
     "metadata": {},
     "output_type": "execute_result"
    }
   ],
   "source": [
    "stack_df[['file_path', 'function', 'lineno']]"
   ]
  },
  {
   "cell_type": "code",
   "execution_count": null,
   "metadata": {},
   "outputs": [],
   "source": []
  }
 ],
 "metadata": {
  "kernelspec": {
   "display_name": "Python 3",
   "language": "python",
   "name": "python3"
  },
  "language_info": {
   "codemirror_mode": {
    "name": "ipython",
    "version": 3
   },
   "file_extension": ".py",
   "mimetype": "text/x-python",
   "name": "python",
   "nbconvert_exporter": "python",
   "pygments_lexer": "ipython3",
   "version": "3.7.6"
  }
 },
 "nbformat": 4,
 "nbformat_minor": 4
}
