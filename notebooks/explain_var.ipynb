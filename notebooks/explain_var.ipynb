{
 "cells": [
  {
   "cell_type": "code",
   "execution_count": 97,
   "id": "b1de154b",
   "metadata": {},
   "outputs": [],
   "source": [
    "from typing import *\n",
    "import libcst as cst\n",
    "import networkx as nx\n",
    "import pandas as pd\n",
    "import numpy as np"
   ]
  },
  {
   "cell_type": "code",
   "execution_count": 78,
   "id": "8d5051e8",
   "metadata": {},
   "outputs": [
    {
     "data": {
      "text/plain": [
       "'2.8.5'"
      ]
     },
     "execution_count": 78,
     "metadata": {},
     "output_type": "execute_result"
    }
   ],
   "source": [
    "nx.__version__"
   ]
  },
  {
   "cell_type": "code",
   "execution_count": 65,
   "id": "52b3c55f",
   "metadata": {},
   "outputs": [],
   "source": [
    "file_path = 'play.py'"
   ]
  },
  {
   "cell_type": "code",
   "execution_count": 66,
   "id": "fce9c6ba",
   "metadata": {},
   "outputs": [],
   "source": [
    "line_number = 9\n",
    "var_name = 'd'"
   ]
  },
  {
   "cell_type": "code",
   "execution_count": 67,
   "id": "735dd890",
   "metadata": {},
   "outputs": [],
   "source": [
    "file_lines = open(file_path, 'r').readlines()"
   ]
  },
  {
   "cell_type": "code",
   "execution_count": 68,
   "id": "e2b7e673",
   "metadata": {},
   "outputs": [],
   "source": [
    "file_cst = cst.parse_module(open(file_path, 'r').read())"
   ]
  },
  {
   "cell_type": "code",
   "execution_count": 69,
   "id": "f2b12fff",
   "metadata": {},
   "outputs": [
    {
     "data": {
      "text/plain": [
       "['class A:\\n',\n",
       " '    def __init__(self):\\n',\n",
       " '        pass\\n',\n",
       " '\\n',\n",
       " '    def run(self):\\n',\n",
       " '        a = 5\\n',\n",
       " '        b = a + 7 + 5.0\\n',\n",
       " '        ll = a + 6.4\\n',\n",
       " '        c = a + b + 3\\n',\n",
       " '        d = b + c\\n']"
      ]
     },
     "execution_count": 69,
     "metadata": {},
     "output_type": "execute_result"
    }
   ],
   "source": [
    "file_lines"
   ]
  },
  {
   "cell_type": "code",
   "execution_count": 70,
   "id": "950dd9c5",
   "metadata": {},
   "outputs": [],
   "source": [
    "# file_cst"
   ]
  },
  {
   "cell_type": "code",
   "execution_count": 141,
   "id": "cfbcc50c",
   "metadata": {},
   "outputs": [],
   "source": [
    "class FunctionCollector(cst.CSTVisitor):\n",
    "    def __init__(self):\n",
    "        self._names: List[str] = []\n",
    "    \n",
    "    def visit_FunctionDef(self, node: cst.FunctionDef) -> None:\n",
    "#         wrapper = cst.metadata.MetadataWrapper(node)\n",
    "        collector = AssignCollector()\n",
    "#         wrapper.visit(collector)\n",
    "        node.visit(collector)\n",
    "        self._names.append(collector.names)\n",
    "        pass\n",
    "\n",
    "    def leave_FunctionDef(self, node: cst.FunctionDef) -> None:\n",
    "        pass"
   ]
  },
  {
   "cell_type": "code",
   "execution_count": 145,
   "id": "b7fc471f",
   "metadata": {},
   "outputs": [],
   "source": [
    "class AssignCollector(cst.CSTVisitor):\n",
    "#     METADATA_DEPENDENCIES = (cst.metadata.PositionProvider,)\n",
    "    \n",
    "    def __init__(self):\n",
    "        self.names: List[str] = []\n",
    "    \n",
    "    def visit_Assign(self, node: cst.FunctionDef) -> None:\n",
    "#         pos = self.get_metadata(cst.metadata.PositionProvider, node).start\n",
    "        collector = ValueCollector()\n",
    "        node.value.visit(collector)\n",
    "        value_dict = {'names': collector.names, 'ints': collector.ints, 'floats': collector.floats}\n",
    "#         self.names.append((node.targets[0].target.value, value_dict, pos.line))\n",
    "        self.names.append((node.targets[0].target.value, value_dict))"
   ]
  },
  {
   "cell_type": "code",
   "execution_count": 146,
   "id": "f50287a1",
   "metadata": {},
   "outputs": [],
   "source": [
    "class ValueCollector(cst.CSTVisitor):\n",
    "    def __init__(self):\n",
    "        self.names: List[str] = []\n",
    "        self.ints: List[str] = []\n",
    "        self.floats: List[str] = []\n",
    "    \n",
    "    def visit_Name(self, node: cst.FunctionDef) -> None:\n",
    "        self.names.append(node.value)\n",
    "        \n",
    "    def visit_Integer(self, node: cst.FunctionDef) -> None:\n",
    "        self.ints.append(node.value)\n",
    "        \n",
    "    def visit_Float(self, node: cst.FunctionDef) -> None:\n",
    "        self.floats.append(node.value)"
   ]
  },
  {
   "cell_type": "code",
   "execution_count": 187,
   "id": "4874edab",
   "metadata": {},
   "outputs": [],
   "source": [
    "visitor = FunctionCollector()\n",
    "# file_cst.visit(visitor)"
   ]
  },
  {
   "cell_type": "code",
   "execution_count": 148,
   "id": "8877e6b3",
   "metadata": {},
   "outputs": [
    {
     "data": {
      "text/plain": [
       "[[],\n",
       " [('a', {'names': [], 'ints': ['5'], 'floats': []}),\n",
       "  ('b', {'names': ['a'], 'ints': ['7'], 'floats': ['5.0']}),\n",
       "  ('ll', {'names': ['a'], 'ints': [], 'floats': ['6.4']}),\n",
       "  ('c', {'names': ['a', 'b'], 'ints': ['3'], 'floats': []}),\n",
       "  ('d', {'names': ['b', 'c'], 'ints': [], 'floats': []})]]"
      ]
     },
     "execution_count": 148,
     "metadata": {},
     "output_type": "execute_result"
    }
   ],
   "source": [
    "visitor._names"
   ]
  },
  {
   "cell_type": "code",
   "execution_count": 79,
   "id": "cc5e737a",
   "metadata": {},
   "outputs": [
    {
     "data": {
      "text/plain": [
       "[('a', {'names': [], 'ints': ['5'], 'floats': []}),\n",
       " ('b', {'names': ['a'], 'ints': ['7'], 'floats': ['5.0']}),\n",
       " ('ll', {'names': ['a'], 'ints': [], 'floats': ['6.4']}),\n",
       " ('c', {'names': ['a', 'b'], 'ints': ['3'], 'floats': []}),\n",
       " ('d', {'names': ['b', 'c'], 'ints': [], 'floats': []})]"
      ]
     },
     "execution_count": 79,
     "metadata": {},
     "output_type": "execute_result"
    }
   ],
   "source": [
    "a = visitor._names[1]\n",
    "a"
   ]
  },
  {
   "cell_type": "code",
   "execution_count": null,
   "id": "7b01df9d",
   "metadata": {},
   "outputs": [],
   "source": []
  },
  {
   "cell_type": "code",
   "execution_count": 83,
   "id": "24e1e6d3",
   "metadata": {},
   "outputs": [
    {
     "data": {
      "text/html": [
       "<div>\n",
       "<style scoped>\n",
       "    .dataframe tbody tr th:only-of-type {\n",
       "        vertical-align: middle;\n",
       "    }\n",
       "\n",
       "    .dataframe tbody tr th {\n",
       "        vertical-align: top;\n",
       "    }\n",
       "\n",
       "    .dataframe thead th {\n",
       "        text-align: right;\n",
       "    }\n",
       "</style>\n",
       "<table border=\"1\" class=\"dataframe\">\n",
       "  <thead>\n",
       "    <tr style=\"text-align: right;\">\n",
       "      <th></th>\n",
       "      <th>assigned</th>\n",
       "      <th>data</th>\n",
       "    </tr>\n",
       "  </thead>\n",
       "  <tbody>\n",
       "    <tr>\n",
       "      <th>0</th>\n",
       "      <td>a</td>\n",
       "      <td>{'names': [], 'ints': ['5'], 'floats': []}</td>\n",
       "    </tr>\n",
       "    <tr>\n",
       "      <th>1</th>\n",
       "      <td>b</td>\n",
       "      <td>{'names': ['a'], 'ints': ['7'], 'floats': ['5....</td>\n",
       "    </tr>\n",
       "    <tr>\n",
       "      <th>2</th>\n",
       "      <td>ll</td>\n",
       "      <td>{'names': ['a'], 'ints': [], 'floats': ['6.4']}</td>\n",
       "    </tr>\n",
       "    <tr>\n",
       "      <th>3</th>\n",
       "      <td>c</td>\n",
       "      <td>{'names': ['a', 'b'], 'ints': ['3'], 'floats':...</td>\n",
       "    </tr>\n",
       "    <tr>\n",
       "      <th>4</th>\n",
       "      <td>d</td>\n",
       "      <td>{'names': ['b', 'c'], 'ints': [], 'floats': []}</td>\n",
       "    </tr>\n",
       "  </tbody>\n",
       "</table>\n",
       "</div>"
      ],
      "text/plain": [
       "  assigned                                               data\n",
       "0        a         {'names': [], 'ints': ['5'], 'floats': []}\n",
       "1        b  {'names': ['a'], 'ints': ['7'], 'floats': ['5....\n",
       "2       ll    {'names': ['a'], 'ints': [], 'floats': ['6.4']}\n",
       "3        c  {'names': ['a', 'b'], 'ints': ['3'], 'floats':...\n",
       "4        d    {'names': ['b', 'c'], 'ints': [], 'floats': []}"
      ]
     },
     "execution_count": 83,
     "metadata": {},
     "output_type": "execute_result"
    }
   ],
   "source": [
    "b = pd.DataFrame(a, columns=['assigned', 'data'])\n",
    "b"
   ]
  },
  {
   "cell_type": "code",
   "execution_count": 85,
   "id": "e8684d69",
   "metadata": {},
   "outputs": [],
   "source": [
    "b['assignee'] = b['data'].apply(lambda x: x['names'])"
   ]
  },
  {
   "cell_type": "code",
   "execution_count": 86,
   "id": "97bea0e4",
   "metadata": {},
   "outputs": [
    {
     "data": {
      "text/html": [
       "<div>\n",
       "<style scoped>\n",
       "    .dataframe tbody tr th:only-of-type {\n",
       "        vertical-align: middle;\n",
       "    }\n",
       "\n",
       "    .dataframe tbody tr th {\n",
       "        vertical-align: top;\n",
       "    }\n",
       "\n",
       "    .dataframe thead th {\n",
       "        text-align: right;\n",
       "    }\n",
       "</style>\n",
       "<table border=\"1\" class=\"dataframe\">\n",
       "  <thead>\n",
       "    <tr style=\"text-align: right;\">\n",
       "      <th></th>\n",
       "      <th>assigned</th>\n",
       "      <th>data</th>\n",
       "      <th>assignee</th>\n",
       "    </tr>\n",
       "  </thead>\n",
       "  <tbody>\n",
       "    <tr>\n",
       "      <th>0</th>\n",
       "      <td>a</td>\n",
       "      <td>{'names': [], 'ints': ['5'], 'floats': []}</td>\n",
       "      <td>[]</td>\n",
       "    </tr>\n",
       "    <tr>\n",
       "      <th>1</th>\n",
       "      <td>b</td>\n",
       "      <td>{'names': ['a'], 'ints': ['7'], 'floats': ['5....</td>\n",
       "      <td>[a]</td>\n",
       "    </tr>\n",
       "    <tr>\n",
       "      <th>2</th>\n",
       "      <td>ll</td>\n",
       "      <td>{'names': ['a'], 'ints': [], 'floats': ['6.4']}</td>\n",
       "      <td>[a]</td>\n",
       "    </tr>\n",
       "    <tr>\n",
       "      <th>3</th>\n",
       "      <td>c</td>\n",
       "      <td>{'names': ['a', 'b'], 'ints': ['3'], 'floats':...</td>\n",
       "      <td>[a, b]</td>\n",
       "    </tr>\n",
       "    <tr>\n",
       "      <th>4</th>\n",
       "      <td>d</td>\n",
       "      <td>{'names': ['b', 'c'], 'ints': [], 'floats': []}</td>\n",
       "      <td>[b, c]</td>\n",
       "    </tr>\n",
       "  </tbody>\n",
       "</table>\n",
       "</div>"
      ],
      "text/plain": [
       "  assigned                                               data assignee\n",
       "0        a         {'names': [], 'ints': ['5'], 'floats': []}       []\n",
       "1        b  {'names': ['a'], 'ints': ['7'], 'floats': ['5....      [a]\n",
       "2       ll    {'names': ['a'], 'ints': [], 'floats': ['6.4']}      [a]\n",
       "3        c  {'names': ['a', 'b'], 'ints': ['3'], 'floats':...   [a, b]\n",
       "4        d    {'names': ['b', 'c'], 'ints': [], 'floats': []}   [b, c]"
      ]
     },
     "execution_count": 86,
     "metadata": {},
     "output_type": "execute_result"
    }
   ],
   "source": [
    "b"
   ]
  },
  {
   "cell_type": "code",
   "execution_count": 111,
   "id": "3dc38d64",
   "metadata": {},
   "outputs": [],
   "source": [
    "dg = nx.DiGraph()"
   ]
  },
  {
   "cell_type": "code",
   "execution_count": 112,
   "id": "c4283a5d",
   "metadata": {},
   "outputs": [
    {
     "data": {
      "text/plain": [
       "{'a', 'b', 'c', 'd', 'll'}"
      ]
     },
     "execution_count": 112,
     "metadata": {},
     "output_type": "execute_result"
    }
   ],
   "source": [
    "var_names = set(list(b['assignee'].explode().dropna().unique()) + list(b['assigned'].unique()))\n",
    "var_names"
   ]
  },
  {
   "cell_type": "code",
   "execution_count": 113,
   "id": "8980386f",
   "metadata": {},
   "outputs": [],
   "source": [
    "for name in var_names:\n",
    "    dg.add_node(name)"
   ]
  },
  {
   "cell_type": "code",
   "execution_count": 114,
   "id": "f6162111",
   "metadata": {},
   "outputs": [],
   "source": [
    "for index, a_series in b.iterrows():\n",
    "    if a_series['assignee']:\n",
    "        for assignee in a_series['assignee']:\n",
    "            dg.add_edge(assignee, a_series['assigned'])"
   ]
  },
  {
   "cell_type": "code",
   "execution_count": 115,
   "id": "6e48ab9d",
   "metadata": {},
   "outputs": [
    {
     "data": {
      "text/plain": [
       "<networkx.classes.digraph.DiGraph at 0x7fd420064520>"
      ]
     },
     "execution_count": 115,
     "metadata": {},
     "output_type": "execute_result"
    }
   ],
   "source": [
    "dg"
   ]
  },
  {
   "cell_type": "code",
   "execution_count": 117,
   "id": "bf0ae417",
   "metadata": {},
   "outputs": [
    {
     "data": {
      "image/png": "[encoded data removed]",
      "text/plain": [
       "<Figure size 432x288 with 1 Axes>"
      ]
     },
     "metadata": {},
     "output_type": "display_data"
    }
   ],
   "source": [
    "nx.draw_networkx(dg)"
   ]
  },
  {
   "cell_type": "code",
   "execution_count": 124,
   "id": "1e0db2a7",
   "metadata": {},
   "outputs": [],
   "source": [
    "ancestors = nx.ancestors(dg, 'd')"
   ]
  },
  {
   "cell_type": "code",
   "execution_count": 126,
   "id": "f3fcdd5d",
   "metadata": {},
   "outputs": [
    {
     "data": {
      "text/html": [
       "<div>\n",
       "<style scoped>\n",
       "    .dataframe tbody tr th:only-of-type {\n",
       "        vertical-align: middle;\n",
       "    }\n",
       "\n",
       "    .dataframe tbody tr th {\n",
       "        vertical-align: top;\n",
       "    }\n",
       "\n",
       "    .dataframe thead th {\n",
       "        text-align: right;\n",
       "    }\n",
       "</style>\n",
       "<table border=\"1\" class=\"dataframe\">\n",
       "  <thead>\n",
       "    <tr style=\"text-align: right;\">\n",
       "      <th></th>\n",
       "      <th>assigned</th>\n",
       "      <th>data</th>\n",
       "      <th>assignee</th>\n",
       "    </tr>\n",
       "  </thead>\n",
       "  <tbody>\n",
       "    <tr>\n",
       "      <th>0</th>\n",
       "      <td>a</td>\n",
       "      <td>{'names': [], 'ints': ['5'], 'floats': []}</td>\n",
       "      <td>[]</td>\n",
       "    </tr>\n",
       "    <tr>\n",
       "      <th>1</th>\n",
       "      <td>b</td>\n",
       "      <td>{'names': ['a'], 'ints': ['7'], 'floats': ['5....</td>\n",
       "      <td>[a]</td>\n",
       "    </tr>\n",
       "    <tr>\n",
       "      <th>3</th>\n",
       "      <td>c</td>\n",
       "      <td>{'names': ['a', 'b'], 'ints': ['3'], 'floats':...</td>\n",
       "      <td>[a, b]</td>\n",
       "    </tr>\n",
       "  </tbody>\n",
       "</table>\n",
       "</div>"
      ],
      "text/plain": [
       "  assigned                                               data assignee\n",
       "0        a         {'names': [], 'ints': ['5'], 'floats': []}       []\n",
       "1        b  {'names': ['a'], 'ints': ['7'], 'floats': ['5....      [a]\n",
       "3        c  {'names': ['a', 'b'], 'ints': ['3'], 'floats':...   [a, b]"
      ]
     },
     "execution_count": 126,
     "metadata": {},
     "output_type": "execute_result"
    }
   ],
   "source": [
    "b[b['assigned'].isin(ancestors)]"
   ]
  },
  {
   "cell_type": "code",
   "execution_count": 129,
   "id": "25ef90df",
   "metadata": {},
   "outputs": [
    {
     "name": "stdout",
     "output_type": "stream",
     "text": [
      "class A:\n",
      "    def __init__(self):\n",
      "        pass\n",
      "\n",
      "    def run(self):\n",
      "        a = 5\n",
      "        b = a + 7 + 5.0\n",
      "        ll = a + 6.4\n",
      "        c = a + b + 3\n",
      "        d = b + c\n",
      "\n"
     ]
    }
   ],
   "source": [
    "print(file_cst.code)"
   ]
  },
  {
   "cell_type": "code",
   "execution_count": 153,
   "id": "d9972f95",
   "metadata": {},
   "outputs": [],
   "source": [
    "class NamePrinter(cst.CSTVisitor):\n",
    "    METADATA_DEPENDENCIES = (cst.metadata.PositionProvider,)\n",
    "\n",
    "    def visit_Name(self, node: cst.Name) -> None:\n",
    "        pos = self.get_metadata(cst.metadata.PositionProvider, node).start\n",
    "        print(f\"{node.value} found at line {pos.line}, column {pos.column}\")"
   ]
  },
  {
   "cell_type": "code",
   "execution_count": 154,
   "id": "705f7a6a",
   "metadata": {},
   "outputs": [
    {
     "name": "stdout",
     "output_type": "stream",
     "text": [
      "x found at line 1, column 0\n"
     ]
    }
   ],
   "source": [
    "wrapper = cst.metadata.MetadataWrapper(cst.parse_module(\"x = 1\"))\n",
    "result = wrapper.visit(NamePrinter())"
   ]
  },
  {
   "cell_type": "code",
   "execution_count": 155,
   "id": "22a2e762",
   "metadata": {},
   "outputs": [
    {
     "name": "stdout",
     "output_type": "stream",
     "text": [
      "A found at line 1, column 6\n",
      "__init__ found at line 2, column 8\n",
      "self found at line 2, column 17\n",
      "run found at line 5, column 8\n",
      "self found at line 5, column 12\n",
      "a found at line 6, column 8\n",
      "b found at line 7, column 8\n",
      "a found at line 7, column 12\n",
      "ll found at line 8, column 8\n",
      "a found at line 8, column 13\n",
      "c found at line 9, column 8\n",
      "a found at line 9, column 12\n",
      "b found at line 9, column 16\n",
      "d found at line 10, column 8\n",
      "b found at line 10, column 12\n",
      "c found at line 10, column 16\n"
     ]
    }
   ],
   "source": [
    "wrapper = cst.metadata.MetadataWrapper(cst.parse_module(open(file_path, 'r').read()))\n",
    "result = wrapper.visit(NamePrinter())"
   ]
  },
  {
   "cell_type": "code",
   "execution_count": 156,
   "id": "3cc4cbe2",
   "metadata": {},
   "outputs": [],
   "source": [
    "k = cst.parse_module(open(file_path, 'r').read())"
   ]
  },
  {
   "cell_type": "code",
   "execution_count": 167,
   "id": "83eb58e0",
   "metadata": {},
   "outputs": [],
   "source": [
    "# k.body[0]"
   ]
  },
  {
   "cell_type": "code",
   "execution_count": 166,
   "id": "e6564fa3",
   "metadata": {},
   "outputs": [
    {
     "name": "stdout",
     "output_type": "stream",
     "text": [
      "A found at line 1, column 6\n",
      "__init__ found at line 2, column 8\n",
      "self found at line 2, column 17\n",
      "run found at line 5, column 8\n",
      "self found at line 5, column 12\n",
      "a found at line 6, column 8\n",
      "b found at line 7, column 8\n",
      "a found at line 7, column 12\n",
      "ll found at line 8, column 8\n",
      "a found at line 8, column 13\n",
      "c found at line 9, column 8\n",
      "a found at line 9, column 12\n",
      "b found at line 9, column 16\n",
      "d found at line 10, column 8\n",
      "b found at line 10, column 12\n",
      "c found at line 10, column 16\n"
     ]
    }
   ],
   "source": [
    "wrapper = cst.metadata.MetadataWrapper(k)\n",
    "# wrapper = cst.metadata.MetadataWrapper(k.body[0].name)\n",
    "result = wrapper.visit(NamePrinter())"
   ]
  },
  {
   "cell_type": "code",
   "execution_count": 183,
   "id": "8924a283",
   "metadata": {},
   "outputs": [],
   "source": [
    "class FunctionCollector(cst.CSTVisitor):\n",
    "    METADATA_DEPENDENCIES = (cst.metadata.PositionProvider,)\n",
    "    def __init__(self):\n",
    "        self._names: List[str] = []\n",
    "        self.names: List[str] = []\n",
    "    \n",
    "    def visit_FunctionDef(self, node: cst.FunctionDef) -> None:\n",
    "#         wrapper = cst.metadata.MetadataWrapper(node)\n",
    "#         pos = self.get_metadata(cst.metadata.PositionProvider, node).start\n",
    "#         collector = AssignCollector()\n",
    "#         wrapper.visit(collector)\n",
    "#         node.visit(collector)\n",
    "#         self._names.append((collector.names, pos.line))\n",
    "        pass\n",
    "\n",
    "    def leave_FunctionDef(self, node: cst.FunctionDef) -> None:\n",
    "        pass\n",
    "    \n",
    "    def visit_Assign(self, node: cst.FunctionDef) -> None:\n",
    "        pos = self.get_metadata(cst.metadata.PositionProvider, node).start\n",
    "        collector = ValueCollector()\n",
    "        node.value.visit(collector)\n",
    "        value_dict = {'names': collector.names, 'ints': collector.ints, 'floats': collector.floats}\n",
    "        self.names.append((node.targets[0].target.value, value_dict, pos.line))\n",
    "#         self.names.append((node.targets[0].target.value, value_dict))"
   ]
  },
  {
   "cell_type": "code",
   "execution_count": 184,
   "id": "38ab275c",
   "metadata": {},
   "outputs": [],
   "source": [
    "class AssignCollector(cst.CSTVisitor):\n",
    "    METADATA_DEPENDENCIES = (cst.metadata.PositionProvider,)\n",
    "    \n",
    "    def __init__(self):\n",
    "        self.names: List[str] = []\n",
    "    \n",
    "    def visit_Assign(self, node: cst.FunctionDef) -> None:\n",
    "        pos = self.get_metadata(cst.metadata.PositionProvider, node).start\n",
    "        collector = ValueCollector()\n",
    "        node.value.visit(collector)\n",
    "        value_dict = {'names': collector.names, 'ints': collector.ints, 'floats': collector.floats}\n",
    "#         self.names.append((node.targets[0].target.value, value_dict, pos.line))\n",
    "        self.names.append((node.targets[0].target.value, value_dict))"
   ]
  },
  {
   "cell_type": "code",
   "execution_count": 191,
   "id": "a3f9dea3",
   "metadata": {},
   "outputs": [],
   "source": [
    "visitor = FunctionCollector()\n",
    "wrapper = cst.metadata.MetadataWrapper(file_cst)\n",
    "jj = wrapper.visit(visitor)"
   ]
  },
  {
   "cell_type": "code",
   "execution_count": 192,
   "id": "3e441828",
   "metadata": {},
   "outputs": [
    {
     "data": {
      "text/plain": [
       "[('a', {'names': [], 'ints': ['5'], 'floats': []}, 6),\n",
       " ('b', {'names': ['a'], 'ints': ['7'], 'floats': ['5.0']}, 7),\n",
       " ('ll', {'names': ['a'], 'ints': [], 'floats': ['6.4']}, 8),\n",
       " ('c', {'names': ['a', 'b'], 'ints': ['3'], 'floats': []}, 9),\n",
       " ('d', {'names': ['b', 'c'], 'ints': [], 'floats': []}, 10)]"
      ]
     },
     "execution_count": 192,
     "metadata": {},
     "output_type": "execute_result"
    }
   ],
   "source": [
    "visitor.names"
   ]
  },
  {
   "cell_type": "code",
   "execution_count": 194,
   "id": "3815d117",
   "metadata": {},
   "outputs": [
    {
     "data": {
      "text/html": [
       "<div>\n",
       "<style scoped>\n",
       "    .dataframe tbody tr th:only-of-type {\n",
       "        vertical-align: middle;\n",
       "    }\n",
       "\n",
       "    .dataframe tbody tr th {\n",
       "        vertical-align: top;\n",
       "    }\n",
       "\n",
       "    .dataframe thead th {\n",
       "        text-align: right;\n",
       "    }\n",
       "</style>\n",
       "<table border=\"1\" class=\"dataframe\">\n",
       "  <thead>\n",
       "    <tr style=\"text-align: right;\">\n",
       "      <th></th>\n",
       "      <th>assigned</th>\n",
       "      <th>data</th>\n",
       "      <th>line</th>\n",
       "      <th>assignee</th>\n",
       "    </tr>\n",
       "  </thead>\n",
       "  <tbody>\n",
       "    <tr>\n",
       "      <th>0</th>\n",
       "      <td>a</td>\n",
       "      <td>{'names': [], 'ints': ['5'], 'floats': []}</td>\n",
       "      <td>6</td>\n",
       "      <td>[]</td>\n",
       "    </tr>\n",
       "    <tr>\n",
       "      <th>1</th>\n",
       "      <td>b</td>\n",
       "      <td>{'names': ['a'], 'ints': ['7'], 'floats': ['5....</td>\n",
       "      <td>7</td>\n",
       "      <td>[a]</td>\n",
       "    </tr>\n",
       "    <tr>\n",
       "      <th>2</th>\n",
       "      <td>ll</td>\n",
       "      <td>{'names': ['a'], 'ints': [], 'floats': ['6.4']}</td>\n",
       "      <td>8</td>\n",
       "      <td>[a]</td>\n",
       "    </tr>\n",
       "    <tr>\n",
       "      <th>3</th>\n",
       "      <td>c</td>\n",
       "      <td>{'names': ['a', 'b'], 'ints': ['3'], 'floats':...</td>\n",
       "      <td>9</td>\n",
       "      <td>[a, b]</td>\n",
       "    </tr>\n",
       "    <tr>\n",
       "      <th>4</th>\n",
       "      <td>d</td>\n",
       "      <td>{'names': ['b', 'c'], 'ints': [], 'floats': []}</td>\n",
       "      <td>10</td>\n",
       "      <td>[b, c]</td>\n",
       "    </tr>\n",
       "  </tbody>\n",
       "</table>\n",
       "</div>"
      ],
      "text/plain": [
       "  assigned                                               data  line assignee\n",
       "0        a         {'names': [], 'ints': ['5'], 'floats': []}     6       []\n",
       "1        b  {'names': ['a'], 'ints': ['7'], 'floats': ['5....     7      [a]\n",
       "2       ll    {'names': ['a'], 'ints': [], 'floats': ['6.4']}     8      [a]\n",
       "3        c  {'names': ['a', 'b'], 'ints': ['3'], 'floats':...     9   [a, b]\n",
       "4        d    {'names': ['b', 'c'], 'ints': [], 'floats': []}    10   [b, c]"
      ]
     },
     "execution_count": 194,
     "metadata": {},
     "output_type": "execute_result"
    }
   ],
   "source": [
    "b = pd.DataFrame(visitor.names, columns=['assigned', 'data', 'line'])\n",
    "b['assignee'] = b['data'].apply(lambda x: x['names'])\n",
    "b"
   ]
  },
  {
   "cell_type": "code",
   "execution_count": 196,
   "id": "a6fa4a3b",
   "metadata": {},
   "outputs": [
    {
     "data": {
      "text/plain": [
       "{'a', 'b', 'c', 'd', 'll'}"
      ]
     },
     "execution_count": 196,
     "metadata": {},
     "output_type": "execute_result"
    }
   ],
   "source": [
    "var_names = set(list(b['assignee'].explode().dropna().unique()) + list(b['assigned'].unique()))\n",
    "var_names"
   ]
  },
  {
   "cell_type": "code",
   "execution_count": 199,
   "id": "d60e9683",
   "metadata": {},
   "outputs": [
    {
     "data": {
      "image/png": "[encoded data removed]",
      "text/plain": [
       "<Figure size 432x288 with 1 Axes>"
      ]
     },
     "metadata": {},
     "output_type": "display_data"
    }
   ],
   "source": [
    "dg = nx.DiGraph()\n",
    "for name in var_names:\n",
    "    dg.add_node(name)\n",
    "for index, a_series in b.iterrows():\n",
    "    if a_series['assignee']:\n",
    "        for assignee in a_series['assignee']:\n",
    "            dg.add_edge(assignee, a_series['assigned'])\n",
    "nx.draw_networkx(dg)"
   ]
  },
  {
   "cell_type": "code",
   "execution_count": 249,
   "id": "72fc74fd",
   "metadata": {},
   "outputs": [
    {
     "data": {
      "text/html": [
       "<div>\n",
       "<style scoped>\n",
       "    .dataframe tbody tr th:only-of-type {\n",
       "        vertical-align: middle;\n",
       "    }\n",
       "\n",
       "    .dataframe tbody tr th {\n",
       "        vertical-align: top;\n",
       "    }\n",
       "\n",
       "    .dataframe thead th {\n",
       "        text-align: right;\n",
       "    }\n",
       "</style>\n",
       "<table border=\"1\" class=\"dataframe\">\n",
       "  <thead>\n",
       "    <tr style=\"text-align: right;\">\n",
       "      <th></th>\n",
       "      <th>assigned</th>\n",
       "      <th>data</th>\n",
       "      <th>line</th>\n",
       "      <th>assignee</th>\n",
       "    </tr>\n",
       "  </thead>\n",
       "  <tbody>\n",
       "    <tr>\n",
       "      <th>0</th>\n",
       "      <td>a</td>\n",
       "      <td>{'names': [], 'ints': ['5'], 'floats': []}</td>\n",
       "      <td>6</td>\n",
       "      <td>[]</td>\n",
       "    </tr>\n",
       "    <tr>\n",
       "      <th>2</th>\n",
       "      <td>ll</td>\n",
       "      <td>{'names': ['a'], 'ints': [], 'floats': ['6.4']}</td>\n",
       "      <td>8</td>\n",
       "      <td>[a]</td>\n",
       "    </tr>\n",
       "  </tbody>\n",
       "</table>\n",
       "</div>"
      ],
      "text/plain": [
       "  assigned                                             data  line assignee\n",
       "0        a       {'names': [], 'ints': ['5'], 'floats': []}     6       []\n",
       "2       ll  {'names': ['a'], 'ints': [], 'floats': ['6.4']}     8      [a]"
      ]
     },
     "execution_count": 249,
     "metadata": {},
     "output_type": "execute_result"
    }
   ],
   "source": [
    "var_name = 'll'\n",
    "ancestors = nx.ancestors(dg, var_name)\n",
    "c = b[b['assigned'].isin(ancestors.union(set([var_name])))]\n",
    "c"
   ]
  },
  {
   "cell_type": "code",
   "execution_count": 246,
   "id": "2fedc2e1",
   "metadata": {},
   "outputs": [
    {
     "name": "stdout",
     "output_type": "stream",
     "text": [
      "class A:\n",
      "    def __init__(self):\n",
      "        pass\n",
      "\n",
      "    def run(self):\n",
      "        a = 5\n",
      "        b = a + 7 + 5.0\n",
      "        ll = a + 6.4\n",
      "        c = a + b + 3\n",
      "        d = b + c\n",
      "\n"
     ]
    }
   ],
   "source": [
    "lines = open(file_path, 'r').readlines()\n",
    "print(\"\".join(lines))"
   ]
  },
  {
   "cell_type": "code",
   "execution_count": 250,
   "id": "2dc5144a",
   "metadata": {},
   "outputs": [
    {
     "name": "stdout",
     "output_type": "stream",
     "text": [
      "        a = 5\n",
      "        ll = a + 6.4\n",
      "\n"
     ]
    }
   ],
   "source": [
    "print(\"\".join(np.array(open(file_path, 'r').readlines())[c['line'].values- 1]))"
   ]
  },
  {
   "cell_type": "code",
   "execution_count": null,
   "id": "ed7c77b9",
   "metadata": {},
   "outputs": [],
   "source": []
  },
  {
   "cell_type": "code",
   "execution_count": 253,
   "id": "88aafe47",
   "metadata": {},
   "outputs": [
    {
     "name": "stdout",
     "output_type": "stream",
     "text": [
      "<div class=\"highlight\"><pre><span></span><span class=\"k\">class</span> <span class=\"nc\">A</span><span class=\"p\">:</span>\n",
      "    <span class=\"k\">def</span> <span class=\"fm\">__init__</span><span class=\"p\">(</span><span class=\"bp\">self</span><span class=\"p\">):</span>\n",
      "        <span class=\"k\">pass</span>\n",
      "\n",
      "    <span class=\"k\">def</span> <span class=\"nf\">run</span><span class=\"p\">(</span><span class=\"bp\">self</span><span class=\"p\">):</span>\n",
      "        <span class=\"n\">a</span> <span class=\"o\">=</span> <span class=\"mi\">5</span>\n",
      "        <span class=\"n\">b</span> <span class=\"o\">=</span> <span class=\"n\">a</span> <span class=\"o\">+</span> <span class=\"mi\">7</span> <span class=\"o\">+</span> <span class=\"mf\">5.0</span>\n",
      "        <span class=\"n\">ll</span> <span class=\"o\">=</span> <span class=\"n\">a</span> <span class=\"o\">+</span> <span class=\"mf\">6.4</span>\n",
      "        <span class=\"n\">c</span> <span class=\"o\">=</span> <span class=\"n\">a</span> <span class=\"o\">+</span> <span class=\"n\">b</span> <span class=\"o\">+</span> <span class=\"mi\">3</span>\n",
      "        <span class=\"n\">d</span> <span class=\"o\">=</span> <span class=\"n\">b</span> <span class=\"o\">+</span> <span class=\"n\">c</span>\n",
      "</pre></div>\n",
      "\n"
     ]
    }
   ],
   "source": [
    "from pygments import highlight\n",
    "from pygments.lexers import PythonLexer\n",
    "from pygments.formatters import HtmlFormatter\n",
    "code = \"\"\"\n",
    "class A:\n",
    "    def __init__(self):\n",
    "        pass\n",
    "\n",
    "    def run(self):\n",
    "        a = 5\n",
    "        b = a + 7 + 5.0\n",
    "        ll = a + 6.4\n",
    "        c = a + b + 3\n",
    "        d = b + c\n",
    "\"\"\"\n",
    "# code = \"print 'Hello World'\"\n",
    "print(highlight(code, PythonLexer(), HtmlFormatter()))"
   ]
  },
  {
   "cell_type": "code",
   "execution_count": 7,
   "id": "bf300773",
   "metadata": {},
   "outputs": [],
   "source": [
    "# import streamlit as st\n",
    "# from annotated_text import annotated_text\n",
    "# import pandas as pd\n",
    "# import numpy as np\n",
    "# import matplotlib.pyplot as plt\n",
    "# import seaborn as sns\n",
    "#\n",
    "#\n",
    "file_path = '/mnt/hgfs/dev/open_source_projects/alkh/notebooks/play.py'\n",
    "lines = open(file_path).readlines()\n",
    "#\n",
    "# st.code(\"\".join(np.array(lines)[[0, 4, 5]]))\n",
    "#\n",
    "# st.code(\"\".join(np.array(lines)))\n",
    "\n",
    "# import streamlit as st\n",
    "# import streamlit.components.v1 as components\n",
    "\n",
    "# bootstrap 4 collapse example\n",
    "# components.html(\n",
    "#     \"\"\"\n",
    "#     <link rel=\"stylesheet\" href=\"https://maxcdn.bootstrapcdn.com/bootstrap/4.0.0/css/bootstrap.min.css\" integrity=\"sha384-Gn5384xqQ1aoWXA+058RXPxPg6fy4IWvTNh0E263XmFcJlSAwiGgFAW/dAiS6JXm\" crossorigin=\"anonymous\">\n",
    "#     <script src=\"https://code.jquery.com/jquery-3.2.1.slim.min.js\" integrity=\"sha384-KJ3o2DKtIkvYIK3UENzmM7KCkRr/rE9/Qpg6aAZGJwFDMVNA/GpGFF93hXpG5KkN\" crossorigin=\"anonymous\"></script>\n",
    "#     <script src=\"https://maxcdn.bootstrapcdn.com/bootstrap/4.0.0/js/bootstrap.min.js\" integrity=\"sha384-JZR6Spejh4U02d8jOt6vLEHfe/JQGiRRSQQxSfFWpi1MquVdAyjUar5+76PVCmYl\" crossorigin=\"anonymous\"></script>\n",
    "#     <div id=\"accordion\">\n",
    "#       <div class=\"card\">\n",
    "#         <div class=\"card-header\" id=\"headingOne\">\n",
    "#           <h5 class=\"mb-0\">\n",
    "#             <button class=\"btn btn-link\" data-toggle=\"collapse\" data-target=\"#collapseOne\" aria-expanded=\"true\" aria-controls=\"collapseOne\">\n",
    "#             Collapsible Group Item #1\n",
    "#             </button>\n",
    "#           </h5>\n",
    "#         </div>\n",
    "#         <div id=\"collapseOne\" class=\"collapse show\" aria-labelledby=\"headingOne\" data-parent=\"#accordion\">\n",
    "#           <div class=\"card-body\">\n",
    "#             Collapsible Group Item #1 content\n",
    "#           </div>\n",
    "#         </div>\n",
    "#       </div>\n",
    "#       <div class=\"card\">\n",
    "#         <div class=\"card-header\" id=\"headingTwo\">\n",
    "#           <h5 class=\"mb-0\">\n",
    "#             <button class=\"btn btn-link collapsed\" data-toggle=\"collapse\" data-target=\"#collapseTwo\" aria-expanded=\"false\" aria-controls=\"collapseTwo\">\n",
    "#             Collapsible Group Item #2\n",
    "#             </button>\n",
    "#           </h5>\n",
    "#         </div>\n",
    "#         <div id=\"collapseTwo\" class=\"collapse\" aria-labelledby=\"headingTwo\" data-parent=\"#accordion\">\n",
    "#           <div class=\"card-body\">\n",
    "#             Collapsible Group Item #2 content\n",
    "#           </div>\n",
    "#         </div>\n",
    "#       </div>\n",
    "#     </div>\n",
    "#     \"\"\",\n",
    "#     height=600,\n",
    "# )\n",
    "\n",
    "# for a_line in lines:\n",
    "#     st.markdown(a_line)\n",
    "\n",
    "# string = \"\"\"\n",
    "# class A:\n",
    "#     def __init__(self):\n",
    "#         pass\n",
    "#\n",
    "#     def run(self):\n",
    "#         a = 5\n",
    "#         b = a + 7 + 5.0\n",
    "#         ll = a + 6.4\n",
    "#         c = a + b + 3\n",
    "#         d = b + c\n",
    "#\n",
    "# \"\"\"\n",
    "\n",
    "# st.markdown(string.replace('_', '\\_'), unsafe_allow_html=True)\n",
    "\n",
    "# from pygments import highlight\n",
    "# from pygments.lexers import PythonLexer\n",
    "# from pygments.formatters import HtmlFormatter\n",
    "code = \"\"\"class A:\n",
    "    def __init__(self):\n",
    "        pass\n",
    "\n",
    "    def run(self):\n",
    "        a = 5\n",
    "        b = a + 7 + 5.0\n",
    "        ll = a + 6.4\n",
    "        c = a + b + 3\n",
    "        d = b + c\n",
    "\"\"\"\n",
    "\n",
    "# html2 = highlight(code, PythonLexer(), HtmlFormatter())\n",
    "\n",
    "html = f\"\"\"\n",
    "<!DOCTYPE html>\n",
    "<html>\n",
    "<head>\n",
    "\t<link href=\"https://cdn.jsdelivr.net/npm/prismjs@1.28.0/themes/prism.css\" rel=\"stylesheet\" />\n",
    "\t<link href=\"https://cdn.jsdelivr.net/npm/prismjs@1.28.0/plugins/line-numbers/prism-line-numbers.min.css\" rel=\"stylesheet\" />\t\n",
    "</head>\n",
    "<body class=\"line-numbers\"> \n",
    "\t<pre class=\"language-python\"><code>{code}\n",
    "</code></pre>\n",
    "\t<script src=\"https://cdn.jsdelivr.net/npm/prismjs@1.28.0/prism.min.js\"></script>\n",
    "\t<script src=\"https://cdn.jsdelivr.net/npm/prismjs@1.28.0/plugins/autoloader/prism-autoloader.min.js\"></script>\n",
    "\t<script src=\"https://cdn.jsdelivr.net/npm/prismjs@1.28.0/plugins/line-numbers/prism-line-numbers.min.js\"></script>\t\t\n",
    "</body>\n",
    "</html>\"\"\"\n",
    "# st.write(html, unsafe_allow_html=True)\n",
    "# components.html(html)\n"
   ]
  },
  {
   "cell_type": "code",
   "execution_count": 8,
   "id": "1a622f97",
   "metadata": {},
   "outputs": [
    {
     "name": "stdout",
     "output_type": "stream",
     "text": [
      "\n",
      "<!DOCTYPE html>\n",
      "<html>\n",
      "<head>\n",
      "\t<link href=\"https://cdn.jsdelivr.net/npm/prismjs@1.28.0/themes/prism.css\" rel=\"stylesheet\" />\n",
      "\t<link href=\"https://cdn.jsdelivr.net/npm/prismjs@1.28.0/plugins/line-numbers/prism-line-numbers.min.css\" rel=\"stylesheet\" />\t\n",
      "</head>\n",
      "<body class=\"line-numbers\"> \n",
      "\t<pre class=\"language-python\"><code>class A:\n",
      "    def __init__(self):\n",
      "        pass\n",
      "\n",
      "    def run(self):\n",
      "        a = 5\n",
      "        b = a + 7 + 5.0\n",
      "        ll = a + 6.4\n",
      "        c = a + b + 3\n",
      "        d = b + c\n",
      "\n",
      "</code></pre>\n",
      "\t<script src=\"https://cdn.jsdelivr.net/npm/prismjs@1.28.0/prism.min.js\"></script>\n",
      "\t<script src=\"https://cdn.jsdelivr.net/npm/prismjs@1.28.0/plugins/autoloader/prism-autoloader.min.js\"></script>\n",
      "\t<script src=\"https://cdn.jsdelivr.net/npm/prismjs@1.28.0/plugins/line-numbers/prism-line-numbers.min.js\"></script>\t\t\n",
      "</body>\n",
      "</html>\n"
     ]
    }
   ],
   "source": [
    "print(html)"
   ]
  },
  {
   "cell_type": "code",
   "execution_count": null,
   "id": "97d8c634",
   "metadata": {},
   "outputs": [],
   "source": []
  }
 ],
 "metadata": {
  "kernelspec": {
   "display_name": "Python 3 (ipykernel)",
   "language": "python",
   "name": "python3"
  },
  "language_info": {
   "codemirror_mode": {
    "name": "ipython",
    "version": 3
   },
   "file_extension": ".py",
   "mimetype": "text/x-python",
   "name": "python",
   "nbconvert_exporter": "python",
   "pygments_lexer": "ipython3",
   "version": "3.8.3"
  }
 },
 "nbformat": 4,
 "nbformat_minor": 5
}
