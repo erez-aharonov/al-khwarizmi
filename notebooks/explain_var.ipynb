{
 "cells": [
  {
   "cell_type": "code",
   "execution_count": 1,
   "id": "7b10af77",
   "metadata": {},
   "outputs": [],
   "source": [
    "from typing import *\n",
    "import libcst as cst\n",
    "import networkx as nx\n",
    "import pandas as pd\n",
    "import numpy as np"
   ]
  },
  {
   "cell_type": "code",
   "execution_count": 2,
   "id": "5c18a338",
   "metadata": {},
   "outputs": [],
   "source": [
    "from alkh import cst_utils"
   ]
  },
  {
   "cell_type": "code",
   "execution_count": 3,
   "id": "30789b65",
   "metadata": {},
   "outputs": [],
   "source": [
    "file_path = 'play.py'"
   ]
  },
  {
   "cell_type": "code",
   "execution_count": 4,
   "id": "51cdff75",
   "metadata": {},
   "outputs": [],
   "source": [
    "line_number = 1"
   ]
  },
  {
   "cell_type": "code",
   "execution_count": 5,
   "id": "036f13a3",
   "metadata": {},
   "outputs": [],
   "source": [
    "file_lines = open(file_path, 'r').readlines()\n",
    "file_content = open(file_path, 'r').read()"
   ]
  },
  {
   "cell_type": "code",
   "execution_count": null,
   "id": "e68e0602",
   "metadata": {},
   "outputs": [],
   "source": [
    "var_name = cst_utils.get_variable_name(file_lines[line_number - 1])"
   ]
  },
  {
   "cell_type": "code",
   "execution_count": null,
   "id": "cef05d86",
   "metadata": {},
   "outputs": [],
   "source": [
    "file_cst = cst.parse_module(open(file_path, 'r').read())"
   ]
  },
  {
   "cell_type": "code",
   "execution_count": null,
   "id": "9e14b252",
   "metadata": {},
   "outputs": [],
   "source": [
    "file_cst"
   ]
  },
  {
   "cell_type": "code",
   "execution_count": null,
   "id": "2d439201",
   "metadata": {},
   "outputs": [],
   "source": [
    "class FunctionCollector(cst.CSTVisitor):\n",
    "    def __init__(self):\n",
    "        self._names: List[str] = []\n",
    "    \n",
    "    def visit_FunctionDef(self, node: cst.FunctionDef) -> None:\n",
    "#         wrapper = cst.metadata.MetadataWrapper(node)\n",
    "        collector = AssignCollector()\n",
    "#         wrapper.visit(collector)\n",
    "        node.visit(collector)\n",
    "        self._names.append(collector.names)\n",
    "        pass\n",
    "\n",
    "    def leave_FunctionDef(self, node: cst.FunctionDef) -> None:\n",
    "        pass"
   ]
  },
  {
   "cell_type": "code",
   "execution_count": null,
   "id": "336192fc",
   "metadata": {},
   "outputs": [],
   "source": [
    "class AssignCollector(cst.CSTVisitor):\n",
    "#     METADATA_DEPENDENCIES = (cst.metadata.PositionProvider,)\n",
    "    \n",
    "    def __init__(self):\n",
    "        self.names: List[str] = []\n",
    "    \n",
    "    def visit_Assign(self, node: cst.FunctionDef) -> None:\n",
    "#         pos = self.get_metadata(cst.metadata.PositionProvider, node).start\n",
    "        collector = ValueCollector()\n",
    "        node.value.visit(collector)\n",
    "        value_dict = {'names': collector.names, 'ints': collector.ints, 'floats': collector.floats}\n",
    "#         self.names.append((node.targets[0].target.value, value_dict, pos.line))\n",
    "        self.names.append((node.targets[0].target.value, value_dict))"
   ]
  },
  {
   "cell_type": "code",
   "execution_count": null,
   "id": "c77638ca",
   "metadata": {},
   "outputs": [],
   "source": [
    "class ValueCollector(cst.CSTVisitor):\n",
    "    def __init__(self):\n",
    "        self.names: List[str] = []\n",
    "        self.ints: List[str] = []\n",
    "        self.floats: List[str] = []\n",
    "    \n",
    "    def visit_Name(self, node: cst.FunctionDef) -> None:\n",
    "        self.names.append(node.value)\n",
    "        \n",
    "    def visit_Integer(self, node: cst.FunctionDef) -> None:\n",
    "        self.ints.append(node.value)\n",
    "        \n",
    "    def visit_Float(self, node: cst.FunctionDef) -> None:\n",
    "        self.floats.append(node.value)"
   ]
  },
  {
   "cell_type": "code",
   "execution_count": null,
   "id": "2a51eb33",
   "metadata": {},
   "outputs": [],
   "source": [
    "visitor = FunctionCollector()\n",
    "# file_cst.visit(visitor)"
   ]
  },
  {
   "cell_type": "code",
   "execution_count": null,
   "id": "7f0e562c",
   "metadata": {},
   "outputs": [],
   "source": [
    "visitor._names"
   ]
  },
  {
   "cell_type": "code",
   "execution_count": null,
   "id": "4a5e1109",
   "metadata": {},
   "outputs": [],
   "source": [
    "a = visitor._names[1]\n",
    "a"
   ]
  },
  {
   "cell_type": "code",
   "execution_count": null,
   "id": "e6cc72af",
   "metadata": {},
   "outputs": [],
   "source": []
  },
  {
   "cell_type": "code",
   "execution_count": null,
   "id": "8cceb4d0",
   "metadata": {},
   "outputs": [],
   "source": [
    "b = pd.DataFrame(a, columns=['assigned', 'data'])\n",
    "b"
   ]
  },
  {
   "cell_type": "code",
   "execution_count": null,
   "id": "5b92d68e",
   "metadata": {},
   "outputs": [],
   "source": [
    "b['assignee'] = b['data'].apply(lambda x: x['names'])"
   ]
  },
  {
   "cell_type": "code",
   "execution_count": null,
   "id": "ca8666f2",
   "metadata": {},
   "outputs": [],
   "source": [
    "b"
   ]
  },
  {
   "cell_type": "code",
   "execution_count": null,
   "id": "12ddc28f",
   "metadata": {},
   "outputs": [],
   "source": [
    "dg = nx.DiGraph()"
   ]
  },
  {
   "cell_type": "code",
   "execution_count": null,
   "id": "89b7b513",
   "metadata": {},
   "outputs": [],
   "source": [
    "var_names = set(list(b['assignee'].explode().dropna().unique()) + list(b['assigned'].unique()))\n",
    "var_names"
   ]
  },
  {
   "cell_type": "code",
   "execution_count": null,
   "id": "a4cc9c18",
   "metadata": {},
   "outputs": [],
   "source": [
    "for name in var_names:\n",
    "    dg.add_node(name)"
   ]
  },
  {
   "cell_type": "code",
   "execution_count": null,
   "id": "c9aec050",
   "metadata": {},
   "outputs": [],
   "source": [
    "for index, a_series in b.iterrows():\n",
    "    if a_series['assignee']:\n",
    "        for assignee in a_series['assignee']:\n",
    "            dg.add_edge(assignee, a_series['assigned'])"
   ]
  },
  {
   "cell_type": "code",
   "execution_count": null,
   "id": "ff979d35",
   "metadata": {},
   "outputs": [],
   "source": [
    "dg"
   ]
  },
  {
   "cell_type": "code",
   "execution_count": null,
   "id": "a1e5ebe3",
   "metadata": {},
   "outputs": [],
   "source": [
    "nx.draw_networkx(dg)"
   ]
  },
  {
   "cell_type": "code",
   "execution_count": null,
   "id": "45a823cb",
   "metadata": {},
   "outputs": [],
   "source": [
    "ancestors = nx.ancestors(dg, 'd')"
   ]
  },
  {
   "cell_type": "code",
   "execution_count": null,
   "id": "13685331",
   "metadata": {},
   "outputs": [],
   "source": [
    "b[b['assigned'].isin(ancestors)]"
   ]
  },
  {
   "cell_type": "code",
   "execution_count": null,
   "id": "d078631d",
   "metadata": {},
   "outputs": [],
   "source": [
    "print(file_cst.code)"
   ]
  },
  {
   "cell_type": "code",
   "execution_count": null,
   "id": "3b324324",
   "metadata": {},
   "outputs": [],
   "source": [
    "class NamePrinter(cst.CSTVisitor):\n",
    "    METADATA_DEPENDENCIES = (cst.metadata.PositionProvider,)\n",
    "\n",
    "    def visit_Name(self, node: cst.Name) -> None:\n",
    "        pos = self.get_metadata(cst.metadata.PositionProvider, node).start\n",
    "        print(f\"{node.value} found at line {pos.line}, column {pos.column}\")"
   ]
  },
  {
   "cell_type": "code",
   "execution_count": null,
   "id": "5b86b876",
   "metadata": {},
   "outputs": [],
   "source": [
    "wrapper = cst.metadata.MetadataWrapper(cst.parse_module(\"x = 1\"))\n",
    "result = wrapper.visit(NamePrinter())"
   ]
  },
  {
   "cell_type": "code",
   "execution_count": null,
   "id": "285e7b99",
   "metadata": {},
   "outputs": [],
   "source": [
    "wrapper = cst.metadata.MetadataWrapper(cst.parse_module(open(file_path, 'r').read()))\n",
    "result = wrapper.visit(NamePrinter())"
   ]
  },
  {
   "cell_type": "code",
   "execution_count": null,
   "id": "ba3df922",
   "metadata": {},
   "outputs": [],
   "source": [
    "k = cst.parse_module(open(file_path, 'r').read())"
   ]
  },
  {
   "cell_type": "code",
   "execution_count": null,
   "id": "9114b097",
   "metadata": {},
   "outputs": [],
   "source": [
    "# k.body[0]"
   ]
  },
  {
   "cell_type": "code",
   "execution_count": null,
   "id": "fcf1c018",
   "metadata": {},
   "outputs": [],
   "source": [
    "wrapper = cst.metadata.MetadataWrapper(k)\n",
    "# wrapper = cst.metadata.MetadataWrapper(k.body[0].name)\n",
    "result = wrapper.visit(NamePrinter())"
   ]
  },
  {
   "cell_type": "code",
   "execution_count": null,
   "id": "7b83a714",
   "metadata": {},
   "outputs": [],
   "source": [
    "class FunctionCollector(cst.CSTVisitor):\n",
    "    METADATA_DEPENDENCIES = (cst.metadata.PositionProvider,)\n",
    "    def __init__(self):\n",
    "        self._names: List[str] = []\n",
    "        self.names: List[str] = []\n",
    "    \n",
    "    def visit_FunctionDef(self, node: cst.FunctionDef) -> None:\n",
    "#         wrapper = cst.metadata.MetadataWrapper(node)\n",
    "#         pos = self.get_metadata(cst.metadata.PositionProvider, node).start\n",
    "#         collector = AssignCollector()\n",
    "#         wrapper.visit(collector)\n",
    "#         node.visit(collector)\n",
    "#         self._names.append((collector.names, pos.line))\n",
    "        pass\n",
    "\n",
    "    def leave_FunctionDef(self, node: cst.FunctionDef) -> None:\n",
    "        pass\n",
    "    \n",
    "    def visit_Assign(self, node: cst.FunctionDef) -> None:\n",
    "        pos = self.get_metadata(cst.metadata.PositionProvider, node).start\n",
    "        collector = ValueCollector()\n",
    "        node.value.visit(collector)\n",
    "        value_dict = {'names': collector.names, 'ints': collector.ints, 'floats': collector.floats}\n",
    "        self.names.append((node.targets[0].target.value, value_dict, pos.line))\n",
    "#         self.names.append((node.targets[0].target.value, value_dict))"
   ]
  },
  {
   "cell_type": "code",
   "execution_count": null,
   "id": "89b58765",
   "metadata": {},
   "outputs": [],
   "source": [
    "class AssignCollector(cst.CSTVisitor):\n",
    "    METADATA_DEPENDENCIES = (cst.metadata.PositionProvider,)\n",
    "    \n",
    "    def __init__(self):\n",
    "        self.names: List[str] = []\n",
    "    \n",
    "    def visit_Assign(self, node: cst.FunctionDef) -> None:\n",
    "        pos = self.get_metadata(cst.metadata.PositionProvider, node).start\n",
    "        collector = ValueCollector()\n",
    "        node.value.visit(collector)\n",
    "        value_dict = {'names': collector.names, 'ints': collector.ints, 'floats': collector.floats}\n",
    "#         self.names.append((node.targets[0].target.value, value_dict, pos.line))\n",
    "        self.names.append((node.targets[0].target.value, value_dict))"
   ]
  },
  {
   "cell_type": "code",
   "execution_count": null,
   "id": "05416d74",
   "metadata": {},
   "outputs": [],
   "source": [
    "visitor = FunctionCollector()\n",
    "wrapper = cst.metadata.MetadataWrapper(file_cst)\n",
    "jj = wrapper.visit(visitor)"
   ]
  },
  {
   "cell_type": "code",
   "execution_count": null,
   "id": "9329eeb0",
   "metadata": {},
   "outputs": [],
   "source": [
    "visitor.names"
   ]
  },
  {
   "cell_type": "code",
   "execution_count": null,
   "id": "12085fed",
   "metadata": {},
   "outputs": [],
   "source": [
    "b = pd.DataFrame(visitor.names, columns=['assigned', 'data', 'line'])\n",
    "b['assignee'] = b['data'].apply(lambda x: x['names'])\n",
    "b"
   ]
  },
  {
   "cell_type": "code",
   "execution_count": null,
   "id": "d395e1d9",
   "metadata": {},
   "outputs": [],
   "source": [
    "var_names = set(list(b['assignee'].explode().dropna().unique()) + list(b['assigned'].unique()))\n",
    "var_names"
   ]
  },
  {
   "cell_type": "code",
   "execution_count": null,
   "id": "37c5768b",
   "metadata": {},
   "outputs": [],
   "source": [
    "dg = nx.DiGraph()\n",
    "for name in var_names:\n",
    "    dg.add_node(name)\n",
    "for index, a_series in b.iterrows():\n",
    "    if a_series['assignee']:\n",
    "        for assignee in a_series['assignee']:\n",
    "            dg.add_edge(assignee, a_series['assigned'])\n",
    "nx.draw_networkx(dg)"
   ]
  },
  {
   "cell_type": "code",
   "execution_count": null,
   "id": "bc1a0b23",
   "metadata": {},
   "outputs": [],
   "source": [
    "var_name = 'll'\n",
    "ancestors = nx.ancestors(dg, var_name)\n",
    "c = b[b['assigned'].isin(ancestors.union(set([var_name])))]\n",
    "c"
   ]
  },
  {
   "cell_type": "code",
   "execution_count": null,
   "id": "3474b523",
   "metadata": {},
   "outputs": [],
   "source": [
    "lines = open(file_path, 'r').readlines()\n",
    "print(\"\".join(lines))"
   ]
  },
  {
   "cell_type": "code",
   "execution_count": null,
   "id": "27db71a3",
   "metadata": {},
   "outputs": [],
   "source": [
    "print(\"\".join(np.array(open(file_path, 'r').readlines())[c['line'].values- 1]))"
   ]
  },
  {
   "cell_type": "code",
   "execution_count": null,
   "id": "609db63c",
   "metadata": {},
   "outputs": [],
   "source": []
  },
  {
   "cell_type": "code",
   "execution_count": null,
   "id": "da4dddb4",
   "metadata": {},
   "outputs": [],
   "source": [
    "line_cst = cst.parse_module(lines[5].strip())"
   ]
  },
  {
   "cell_type": "code",
   "execution_count": null,
   "id": "541373e2",
   "metadata": {},
   "outputs": [],
   "source": [
    "line_cst"
   ]
  },
  {
   "cell_type": "code",
   "execution_count": null,
   "id": "4bcca5f5",
   "metadata": {},
   "outputs": [],
   "source": [
    "class AssignCollector(cst.CSTVisitor):   \n",
    "    def __init__(self):\n",
    "        self.names: List[str] = []\n",
    "    \n",
    "    def visit_Assign(self, node: cst.FunctionDef) -> None:\n",
    "        targets = [target.target.value for target in node.targets]\n",
    "        self.names.append(targets)"
   ]
  },
  {
   "cell_type": "code",
   "execution_count": null,
   "id": "e7c4df13",
   "metadata": {},
   "outputs": [],
   "source": [
    "collector = AssignCollector()\n",
    "res = line_cst.visit(collector)"
   ]
  },
  {
   "cell_type": "code",
   "execution_count": null,
   "id": "cd7d61aa",
   "metadata": {},
   "outputs": [],
   "source": [
    "collector.names"
   ]
  },
  {
   "cell_type": "code",
   "execution_count": null,
   "id": "00412bd7",
   "metadata": {},
   "outputs": [],
   "source": [
    "class FunctionCollector(cst.CSTVisitor):\n",
    "    METADATA_DEPENDENCIES = (cst.metadata.PositionProvider,)\n",
    "    def __init__(self):\n",
    "        self._names: List[str] = []\n",
    "        self.names: List[str] = []\n",
    "    \n",
    "    def visit_Assign(self, node: cst.FunctionDef) -> None:\n",
    "        pos = self.get_metadata(cst.metadata.PositionProvider, node).start\n",
    "        collector = ValueCollector()\n",
    "        node.value.visit(collector)\n",
    "        value_dict = {'names': collector.names, 'ints': collector.ints, 'floats': collector.floats}\n",
    "        self.names.append((node.targets[0].target.value, value_dict, pos.line))"
   ]
  },
  {
   "cell_type": "code",
   "execution_count": null,
   "id": "440561af",
   "metadata": {},
   "outputs": [],
   "source": [
    "class ValueCollector(cst.CSTVisitor):\n",
    "    def __init__(self):\n",
    "        self.names: List[str] = []\n",
    "        self.ints: List[str] = []\n",
    "        self.floats: List[str] = []\n",
    "    \n",
    "    def visit_Name(self, node: cst.FunctionDef) -> None:\n",
    "        self.names.append(node.value)\n",
    "        \n",
    "    def visit_Integer(self, node: cst.FunctionDef) -> None:\n",
    "        self.ints.append(node.value)\n",
    "        \n",
    "    def visit_Float(self, node: cst.FunctionDef) -> None:\n",
    "        self.floats.append(node.value)"
   ]
  },
  {
   "cell_type": "code",
   "execution_count": null,
   "id": "768a7057",
   "metadata": {},
   "outputs": [],
   "source": [
    "file_cst = cst.parse_module(open(file_path, 'r').read())\n",
    "visitor = FunctionCollector()\n",
    "wrapper = cst.metadata.MetadataWrapper(file_cst)\n",
    "jj = wrapper.visit(visitor)"
   ]
  },
  {
   "cell_type": "code",
   "execution_count": null,
   "id": "3ad2b01e",
   "metadata": {},
   "outputs": [],
   "source": [
    "b = pd.DataFrame(visitor.names, columns=['assigned', 'data', 'line'])\n",
    "b['assignee'] = b['data'].apply(lambda x: x['names'])\n",
    "b"
   ]
  },
  {
   "cell_type": "code",
   "execution_count": null,
   "id": "b03a2534",
   "metadata": {},
   "outputs": [],
   "source": [
    "var_names = set(list(b['assignee'].explode().dropna().unique()) + list(b['assigned'].unique()))\n",
    "var_names"
   ]
  },
  {
   "cell_type": "code",
   "execution_count": null,
   "id": "762519d7",
   "metadata": {},
   "outputs": [],
   "source": [
    "dg = nx.DiGraph()\n",
    "for name in var_names:\n",
    "    dg.add_node(name)\n",
    "for index, a_series in b.iterrows():\n",
    "    if a_series['assignee']:\n",
    "        for assignee in a_series['assignee']:\n",
    "            dg.add_edge(assignee, a_series['assigned'])\n",
    "nx.draw_networkx(dg)"
   ]
  },
  {
   "cell_type": "code",
   "execution_count": null,
   "id": "d0d75b06",
   "metadata": {},
   "outputs": [],
   "source": [
    "var_name = 'll'\n",
    "ancestors = nx.ancestors(dg, var_name)\n",
    "c = b[b['assigned'].isin(ancestors.union(set([var_name])))]\n",
    "c"
   ]
  },
  {
   "cell_type": "code",
   "execution_count": null,
   "id": "d73ff03c",
   "metadata": {},
   "outputs": [],
   "source": [
    "print(\"\".join(np.array(open(file_path, 'r').readlines())[c['line'].values- 1]))"
   ]
  },
  {
   "cell_type": "code",
   "execution_count": null,
   "id": "4a4e79cc",
   "metadata": {},
   "outputs": [],
   "source": [
    "c['line'].values- 1"
   ]
  },
  {
   "cell_type": "code",
   "execution_count": null,
   "id": "589bcf08",
   "metadata": {},
   "outputs": [],
   "source": []
  },
  {
   "cell_type": "code",
   "execution_count": null,
   "id": "f9a24a11",
   "metadata": {},
   "outputs": [],
   "source": []
  },
  {
   "cell_type": "code",
   "execution_count": null,
   "id": "90e23abb",
   "metadata": {},
   "outputs": [],
   "source": [
    "# file_cst"
   ]
  },
  {
   "cell_type": "code",
   "execution_count": null,
   "id": "daf06b16",
   "metadata": {},
   "outputs": [],
   "source": [
    "class FunctionCollector(cst.CSTVisitor):\n",
    "    METADATA_DEPENDENCIES = (cst.metadata.PositionProvider,)\n",
    "    def __init__(self):\n",
    "        self._names: List[str] = []\n",
    "        self.names: List[str] = []\n",
    "    \n",
    "    def visit_Assign(self, node: cst.FunctionDef) -> None:\n",
    "        pos = self.get_metadata(cst.metadata.PositionProvider, node).start\n",
    "        collector = ValueCollector()\n",
    "        node.value.visit(collector)\n",
    "        value_dict = {'names': collector.names, 'ints': collector.ints, 'floats': collector.floats}\n",
    "        self.names.append((node.targets[0].target.value, value_dict, pos.line))"
   ]
  },
  {
   "cell_type": "code",
   "execution_count": null,
   "id": "a1367c2d",
   "metadata": {},
   "outputs": [],
   "source": []
  },
  {
   "cell_type": "code",
   "execution_count": null,
   "id": "f1d82d36",
   "metadata": {},
   "outputs": [],
   "source": []
  },
  {
   "cell_type": "code",
   "execution_count": 9,
   "id": "8f864b2c",
   "metadata": {},
   "outputs": [
    {
     "name": "stdout",
     "output_type": "stream",
     "text": [
      "import alkh\n",
      "alkh.analyze()\n",
      "\n",
      "\n",
      "class A:\n",
      "    def __init__(self):\n",
      "        b = 8\n",
      "        pass\n",
      "\n",
      "    def run(self):\n",
      "        a = 5\n",
      "        b = a + 7 + 5.0\n",
      "        ll = a + 6.4\n",
      "        c = a + b + 3\n",
      "        d = b + c\n",
      "\n",
      "\n",
      "class B:\n",
      "    def __init__(self):\n",
      "        b = 8\n",
      "        pass\n",
      "\n",
      "    def run(self):\n",
      "        a = 5\n",
      "        b = a + 7 + 5.0\n",
      "        ll = a + 6.4\n",
      "        c = a + b + 3\n",
      "        d = b + c\n",
      "\n"
     ]
    }
   ],
   "source": [
    "print(file_content)"
   ]
  },
  {
   "cell_type": "code",
   "execution_count": 10,
   "id": "61d26469",
   "metadata": {},
   "outputs": [
    {
     "name": "stdout",
     "output_type": "stream",
     "text": [
      "<libcst.metadata.scope_provider.GlobalScope object at 0x7f029d06ec40>\n",
      "<libcst.metadata.scope_provider.ClassScope object at 0x7f029d0737c0>\n",
      "<libcst.metadata.scope_provider.FunctionScope object at 0x7f029d07b4c0>\n",
      "<libcst.metadata.scope_provider.ClassScope object at 0x7f029d073a90>\n",
      "<libcst.metadata.scope_provider.FunctionScope object at 0x7f029d073970>\n",
      "<libcst.metadata.scope_provider.FunctionScope object at 0x7f029d073490>\n",
      "<libcst.metadata.scope_provider.FunctionScope object at 0x7f029d07b5b0>\n"
     ]
    }
   ],
   "source": [
    "wrapper = cst.metadata.MetadataWrapper(cst.parse_module(file_content))\n",
    "scopes = set(wrapper.resolve(cst.metadata.ScopeProvider).values())\n",
    "for scope in scopes:\n",
    "    print(scope)"
   ]
  },
  {
   "cell_type": "code",
   "execution_count": 16,
   "id": "532563c0",
   "metadata": {},
   "outputs": [],
   "source": [
    "ranges = wrapper.resolve(cst.metadata.PositionProvider)\n",
    "file_number_of_lines = len(file_lines)"
   ]
  },
  {
   "cell_type": "code",
   "execution_count": 17,
   "id": "55eb5bbe",
   "metadata": {},
   "outputs": [],
   "source": [
    "# go over scopes, get function scopes, for each function scope get node and find call gpaph"
   ]
  },
  {
   "cell_type": "code",
   "execution_count": 18,
   "id": "6c2945aa",
   "metadata": {},
   "outputs": [
    {
     "data": {
      "text/html": [
       "<div>\n",
       "<style scoped>\n",
       "    .dataframe tbody tr th:only-of-type {\n",
       "        vertical-align: middle;\n",
       "    }\n",
       "\n",
       "    .dataframe tbody tr th {\n",
       "        vertical-align: top;\n",
       "    }\n",
       "\n",
       "    .dataframe thead th {\n",
       "        text-align: right;\n",
       "    }\n",
       "</style>\n",
       "<table border=\"1\" class=\"dataframe\">\n",
       "  <thead>\n",
       "    <tr style=\"text-align: right;\">\n",
       "      <th></th>\n",
       "      <th>scope</th>\n",
       "    </tr>\n",
       "  </thead>\n",
       "  <tbody>\n",
       "    <tr>\n",
       "      <th>0</th>\n",
       "      <td>&lt;libcst.metadata.scope_provider.GlobalScope ob...</td>\n",
       "    </tr>\n",
       "    <tr>\n",
       "      <th>1</th>\n",
       "      <td>&lt;libcst.metadata.scope_provider.ClassScope obj...</td>\n",
       "    </tr>\n",
       "    <tr>\n",
       "      <th>2</th>\n",
       "      <td>&lt;libcst.metadata.scope_provider.FunctionScope ...</td>\n",
       "    </tr>\n",
       "    <tr>\n",
       "      <th>3</th>\n",
       "      <td>&lt;libcst.metadata.scope_provider.ClassScope obj...</td>\n",
       "    </tr>\n",
       "    <tr>\n",
       "      <th>4</th>\n",
       "      <td>&lt;libcst.metadata.scope_provider.FunctionScope ...</td>\n",
       "    </tr>\n",
       "    <tr>\n",
       "      <th>5</th>\n",
       "      <td>&lt;libcst.metadata.scope_provider.FunctionScope ...</td>\n",
       "    </tr>\n",
       "    <tr>\n",
       "      <th>6</th>\n",
       "      <td>&lt;libcst.metadata.scope_provider.FunctionScope ...</td>\n",
       "    </tr>\n",
       "  </tbody>\n",
       "</table>\n",
       "</div>"
      ],
      "text/plain": [
       "                                               scope\n",
       "0  <libcst.metadata.scope_provider.GlobalScope ob...\n",
       "1  <libcst.metadata.scope_provider.ClassScope obj...\n",
       "2  <libcst.metadata.scope_provider.FunctionScope ...\n",
       "3  <libcst.metadata.scope_provider.ClassScope obj...\n",
       "4  <libcst.metadata.scope_provider.FunctionScope ...\n",
       "5  <libcst.metadata.scope_provider.FunctionScope ...\n",
       "6  <libcst.metadata.scope_provider.FunctionScope ..."
      ]
     },
     "execution_count": 18,
     "metadata": {},
     "output_type": "execute_result"
    }
   ],
   "source": [
    "a = pd.Series(list(scopes)).to_frame('scope')\n",
    "a"
   ]
  },
  {
   "cell_type": "code",
   "execution_count": 19,
   "id": "d782a904",
   "metadata": {},
   "outputs": [],
   "source": [
    "def get_range(scope, file_number_of_lines, ranges):\n",
    "    if isinstance(scope, cst.metadata.scope_provider.GlobalScope):\n",
    "        start_line_number = 1\n",
    "        end_line_number = file_number_of_lines\n",
    "        scope_name = 'global'\n",
    "    else:\n",
    "        start_line_number = ranges[scope.node].start.line\n",
    "        end_line_number = ranges[scope.node].end.line\n",
    "        scope_name = scope.name\n",
    "    scope_length = end_line_number - start_line_number + 1\n",
    "    values = [scope, start_line_number, end_line_number, scope_length, scope_name]\n",
    "    names = [\"scope\", \"start_line_number\", \"end_line_number\", \"length\", \"name\"]\n",
    "    output_series = pd.Series(values, index=names)\n",
    "    return output_series"
   ]
  },
  {
   "cell_type": "code",
   "execution_count": 20,
   "id": "314b7c29",
   "metadata": {},
   "outputs": [
    {
     "data": {
      "text/html": [
       "<div>\n",
       "<style scoped>\n",
       "    .dataframe tbody tr th:only-of-type {\n",
       "        vertical-align: middle;\n",
       "    }\n",
       "\n",
       "    .dataframe tbody tr th {\n",
       "        vertical-align: top;\n",
       "    }\n",
       "\n",
       "    .dataframe thead th {\n",
       "        text-align: right;\n",
       "    }\n",
       "</style>\n",
       "<table border=\"1\" class=\"dataframe\">\n",
       "  <thead>\n",
       "    <tr style=\"text-align: right;\">\n",
       "      <th></th>\n",
       "      <th>scope</th>\n",
       "      <th>start_line_number</th>\n",
       "      <th>end_line_number</th>\n",
       "      <th>length</th>\n",
       "      <th>name</th>\n",
       "    </tr>\n",
       "  </thead>\n",
       "  <tbody>\n",
       "    <tr>\n",
       "      <th>0</th>\n",
       "      <td>&lt;libcst.metadata.scope_provider.GlobalScope ob...</td>\n",
       "      <td>1</td>\n",
       "      <td>28</td>\n",
       "      <td>28</td>\n",
       "      <td>global</td>\n",
       "    </tr>\n",
       "    <tr>\n",
       "      <th>1</th>\n",
       "      <td>&lt;libcst.metadata.scope_provider.ClassScope obj...</td>\n",
       "      <td>5</td>\n",
       "      <td>15</td>\n",
       "      <td>11</td>\n",
       "      <td>A</td>\n",
       "    </tr>\n",
       "    <tr>\n",
       "      <th>2</th>\n",
       "      <td>&lt;libcst.metadata.scope_provider.FunctionScope ...</td>\n",
       "      <td>19</td>\n",
       "      <td>21</td>\n",
       "      <td>3</td>\n",
       "      <td>__init__</td>\n",
       "    </tr>\n",
       "    <tr>\n",
       "      <th>3</th>\n",
       "      <td>&lt;libcst.metadata.scope_provider.ClassScope obj...</td>\n",
       "      <td>18</td>\n",
       "      <td>28</td>\n",
       "      <td>11</td>\n",
       "      <td>B</td>\n",
       "    </tr>\n",
       "    <tr>\n",
       "      <th>4</th>\n",
       "      <td>&lt;libcst.metadata.scope_provider.FunctionScope ...</td>\n",
       "      <td>10</td>\n",
       "      <td>15</td>\n",
       "      <td>6</td>\n",
       "      <td>run</td>\n",
       "    </tr>\n",
       "    <tr>\n",
       "      <th>5</th>\n",
       "      <td>&lt;libcst.metadata.scope_provider.FunctionScope ...</td>\n",
       "      <td>6</td>\n",
       "      <td>8</td>\n",
       "      <td>3</td>\n",
       "      <td>__init__</td>\n",
       "    </tr>\n",
       "    <tr>\n",
       "      <th>6</th>\n",
       "      <td>&lt;libcst.metadata.scope_provider.FunctionScope ...</td>\n",
       "      <td>23</td>\n",
       "      <td>28</td>\n",
       "      <td>6</td>\n",
       "      <td>run</td>\n",
       "    </tr>\n",
       "  </tbody>\n",
       "</table>\n",
       "</div>"
      ],
      "text/plain": [
       "                                               scope  start_line_number  \\\n",
       "0  <libcst.metadata.scope_provider.GlobalScope ob...                  1   \n",
       "1  <libcst.metadata.scope_provider.ClassScope obj...                  5   \n",
       "2  <libcst.metadata.scope_provider.FunctionScope ...                 19   \n",
       "3  <libcst.metadata.scope_provider.ClassScope obj...                 18   \n",
       "4  <libcst.metadata.scope_provider.FunctionScope ...                 10   \n",
       "5  <libcst.metadata.scope_provider.FunctionScope ...                  6   \n",
       "6  <libcst.metadata.scope_provider.FunctionScope ...                 23   \n",
       "\n",
       "   end_line_number  length      name  \n",
       "0               28      28    global  \n",
       "1               15      11         A  \n",
       "2               21       3  __init__  \n",
       "3               28      11         B  \n",
       "4               15       6       run  \n",
       "5                8       3  __init__  \n",
       "6               28       6       run  "
      ]
     },
     "execution_count": 20,
     "metadata": {},
     "output_type": "execute_result"
    }
   ],
   "source": [
    "b = a[\"scope\"].apply(get_range, args=(file_number_of_lines, ranges))\n",
    "b"
   ]
  },
  {
   "cell_type": "code",
   "execution_count": 21,
   "id": "a65d453b",
   "metadata": {},
   "outputs": [],
   "source": [
    "line_number = 26"
   ]
  },
  {
   "cell_type": "code",
   "execution_count": 22,
   "id": "33ace830",
   "metadata": {},
   "outputs": [
    {
     "data": {
      "text/html": [
       "<div>\n",
       "<style scoped>\n",
       "    .dataframe tbody tr th:only-of-type {\n",
       "        vertical-align: middle;\n",
       "    }\n",
       "\n",
       "    .dataframe tbody tr th {\n",
       "        vertical-align: top;\n",
       "    }\n",
       "\n",
       "    .dataframe thead th {\n",
       "        text-align: right;\n",
       "    }\n",
       "</style>\n",
       "<table border=\"1\" class=\"dataframe\">\n",
       "  <thead>\n",
       "    <tr style=\"text-align: right;\">\n",
       "      <th></th>\n",
       "      <th>scope</th>\n",
       "      <th>start_line_number</th>\n",
       "      <th>end_line_number</th>\n",
       "      <th>length</th>\n",
       "      <th>name</th>\n",
       "    </tr>\n",
       "  </thead>\n",
       "  <tbody>\n",
       "    <tr>\n",
       "      <th>6</th>\n",
       "      <td>&lt;libcst.metadata.scope_provider.FunctionScope ...</td>\n",
       "      <td>23</td>\n",
       "      <td>28</td>\n",
       "      <td>6</td>\n",
       "      <td>run</td>\n",
       "    </tr>\n",
       "    <tr>\n",
       "      <th>3</th>\n",
       "      <td>&lt;libcst.metadata.scope_provider.ClassScope obj...</td>\n",
       "      <td>18</td>\n",
       "      <td>28</td>\n",
       "      <td>11</td>\n",
       "      <td>B</td>\n",
       "    </tr>\n",
       "    <tr>\n",
       "      <th>0</th>\n",
       "      <td>&lt;libcst.metadata.scope_provider.GlobalScope ob...</td>\n",
       "      <td>1</td>\n",
       "      <td>28</td>\n",
       "      <td>28</td>\n",
       "      <td>global</td>\n",
       "    </tr>\n",
       "  </tbody>\n",
       "</table>\n",
       "</div>"
      ],
      "text/plain": [
       "                                               scope  start_line_number  \\\n",
       "6  <libcst.metadata.scope_provider.FunctionScope ...                 23   \n",
       "3  <libcst.metadata.scope_provider.ClassScope obj...                 18   \n",
       "0  <libcst.metadata.scope_provider.GlobalScope ob...                  1   \n",
       "\n",
       "   end_line_number  length    name  \n",
       "6               28       6     run  \n",
       "3               28      11       B  \n",
       "0               28      28  global  "
      ]
     },
     "execution_count": 22,
     "metadata": {},
     "output_type": "execute_result"
    }
   ],
   "source": [
    "c = b.query(f\"start_line_number <= {line_number} and end_line_number >= {line_number}\").sort_values(\"length\")\n",
    "c"
   ]
  },
  {
   "cell_type": "code",
   "execution_count": 23,
   "id": "3694cefb",
   "metadata": {},
   "outputs": [
    {
     "data": {
      "text/plain": [
       "scope                <libcst.metadata.scope_provider.FunctionScope ...\n",
       "start_line_number                                                   23\n",
       "end_line_number                                                     28\n",
       "length                                                               6\n",
       "name                                                               run\n",
       "Name: 6, dtype: object"
      ]
     },
     "execution_count": 23,
     "metadata": {},
     "output_type": "execute_result"
    }
   ],
   "source": [
    "d = c.iloc[0]\n",
    "d"
   ]
  },
  {
   "cell_type": "code",
   "execution_count": 44,
   "id": "32a78a06",
   "metadata": {},
   "outputs": [],
   "source": [
    "def _get_call_graph_with_df(cst_node) -> (nx.DiGraph, pd.DataFrame):    \n",
    "    visitor = FunctionCollector()\n",
    "    cst_node.visit(visitor)\n",
    "    call_df = pd.DataFrame(visitor.get_info(), columns=['assigned', 'data', 'line'])\n",
    "    call_df['assigner'] = call_df['data'].apply(lambda x: x['names'])\n",
    "    di_graph = _create_di_graph_from_call_df(call_df)\n",
    "    return di_graph, call_df"
   ]
  },
  {
   "cell_type": "code",
   "execution_count": 45,
   "id": "6d61df80",
   "metadata": {},
   "outputs": [],
   "source": [
    "class FunctionCollector(cst.CSTVisitor):\n",
    "    METADATA_DEPENDENCIES = (cst.metadata.PositionProvider,)\n",
    "\n",
    "    def __init__(self):\n",
    "        super().__init__()\n",
    "        self._assign_info: List[Tuple] = []\n",
    "\n",
    "    def get_info(self):\n",
    "        return self._assign_info\n",
    "\n",
    "    def visit_Assign(self, node: cst.FunctionDef) -> None:\n",
    "        pos = ranges[node].start\n",
    "        collector = ValueCollector()\n",
    "        node.value.visit(collector)\n",
    "        value_dict = {'names': collector.names, 'ints': collector.ints, 'floats': collector.floats}\n",
    "        self._assign_info.append((node.targets[0].target.value, value_dict, pos.line))\n",
    "\n",
    "\n",
    "class ValueCollector(cst.CSTVisitor):\n",
    "    def __init__(self):\n",
    "        super().__init__()\n",
    "        self.names: List[str] = []\n",
    "        self.ints: List[str] = []\n",
    "        self.floats: List[str] = []\n",
    "\n",
    "    def visit_Name(self, node: cst.FunctionDef) -> None:\n",
    "        self.names.append(node.value)\n",
    "\n",
    "    def visit_Integer(self, node: cst.FunctionDef) -> None:\n",
    "        self.ints.append(node.value)\n",
    "\n",
    "    def visit_Float(self, node: cst.FunctionDef) -> None:\n",
    "        self.floats.append(node.value)"
   ]
  },
  {
   "cell_type": "code",
   "execution_count": 46,
   "id": "9efcdd9e",
   "metadata": {},
   "outputs": [],
   "source": [
    "def _get_all_variables_names(call_df):\n",
    "    return set(list(call_df['assigner'].explode().dropna().unique()) + list(call_df['assigned'].unique()))\n",
    "\n",
    "def _create_di_graph_from_call_df(call_df):\n",
    "    var_names = _get_all_variables_names(call_df)\n",
    "    di_graph = nx.DiGraph()\n",
    "    for name in var_names:\n",
    "        di_graph.add_node(name)\n",
    "    for index, a_series in call_df.iterrows():\n",
    "        if a_series['assigner']:\n",
    "            for assignee in a_series['assigner']:\n",
    "                di_graph.add_edge(assignee, a_series['assigned'])\n",
    "    return di_graph"
   ]
  },
  {
   "cell_type": "code",
   "execution_count": 47,
   "id": "f978b486",
   "metadata": {},
   "outputs": [
    {
     "data": {
      "text/plain": [
       "(<networkx.classes.digraph.DiGraph at 0x7f0298b8b0d0>,\n",
       "   assigned                                               data  line assigner\n",
       " 0        a         {'names': [], 'ints': ['5'], 'floats': []}    24       []\n",
       " 1        b  {'names': ['a'], 'ints': ['7'], 'floats': ['5....    25      [a]\n",
       " 2       ll    {'names': ['a'], 'ints': [], 'floats': ['6.4']}    26      [a]\n",
       " 3        c  {'names': ['a', 'b'], 'ints': ['3'], 'floats':...    27   [a, b]\n",
       " 4        d    {'names': ['b', 'c'], 'ints': [], 'floats': []}    28   [b, c])"
      ]
     },
     "execution_count": 47,
     "metadata": {},
     "output_type": "execute_result"
    }
   ],
   "source": [
    "_get_call_graph_with_df(d[\"scope\"].node)"
   ]
  },
  {
   "cell_type": "code",
   "execution_count": null,
   "id": "a7e15c8b",
   "metadata": {},
   "outputs": [],
   "source": []
  },
  {
   "cell_type": "code",
   "execution_count": null,
   "id": "1d0a46b8",
   "metadata": {},
   "outputs": [],
   "source": []
  }
 ],
 "metadata": {
  "kernelspec": {
   "display_name": "Python 3 (ipykernel)",
   "language": "python",
   "name": "python3"
  },
  "language_info": {
   "codemirror_mode": {
    "name": "ipython",
    "version": 3
   },
   "file_extension": ".py",
   "mimetype": "text/x-python",
   "name": "python",
   "nbconvert_exporter": "python",
   "pygments_lexer": "ipython3",
   "version": "3.8.3"
  }
 },
 "nbformat": 4,
 "nbformat_minor": 5
}
