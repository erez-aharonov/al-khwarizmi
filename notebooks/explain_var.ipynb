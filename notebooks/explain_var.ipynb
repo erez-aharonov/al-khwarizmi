{
 "cells": [
  {
   "cell_type": "code",
   "execution_count": 1,
   "id": "7afb1549",
   "metadata": {},
   "outputs": [],
   "source": [
    "from typing import *\n",
    "import libcst as cst\n",
    "import networkx as nx\n",
    "import pandas as pd\n",
    "import numpy as np"
   ]
  },
  {
   "cell_type": "code",
   "execution_count": 2,
   "id": "0c0cbe87",
   "metadata": {},
   "outputs": [],
   "source": [
    "from alkh import cst_utils"
   ]
  },
  {
   "cell_type": "code",
   "execution_count": 3,
   "id": "7957466a",
   "metadata": {},
   "outputs": [],
   "source": [
    "file_path = 'play.py'"
   ]
  },
  {
   "cell_type": "code",
   "execution_count": 4,
   "id": "f571ff71",
   "metadata": {},
   "outputs": [],
   "source": [
    "file_lines = open(file_path, 'r').readlines()\n",
    "file_content = open(file_path, 'r').read()\n",
    "wrapper = cst.metadata.MetadataWrapper(cst.parse_module(file_content))\n",
    "scopes = set(wrapper.resolve(cst.metadata.ScopeProvider).values())\n",
    "ranges = wrapper.resolve(cst.metadata.PositionProvider)\n",
    "file_number_of_lines = len(file_lines)"
   ]
  },
  {
   "cell_type": "code",
   "execution_count": null,
   "id": "ec2bd7fd",
   "metadata": {},
   "outputs": [],
   "source": [
    "def get_range(scope, file_number_of_lines, ranges):\n",
    "    if isinstance(scope, cst.metadata.scope_provider.GlobalScope):\n",
    "        start_line_number = 1\n",
    "        end_line_number = file_number_of_lines\n",
    "        scope_name = 'global'\n",
    "    else:\n",
    "        start_line_number = ranges[scope.node].start.line\n",
    "        end_line_number = ranges[scope.node].end.line\n",
    "        scope_name = scope.name\n",
    "    scope_length = end_line_number - start_line_number + 1\n",
    "    values = [scope, start_line_number, end_line_number, scope_length, scope_name]\n",
    "    names = [\"scope\", \"start_line_number\", \"end_line_number\", \"length\", \"name\"]\n",
    "    output_series = pd.Series(values, index=names)\n",
    "    return output_series"
   ]
  },
  {
   "cell_type": "code",
   "execution_count": null,
   "id": "be4c1f49",
   "metadata": {},
   "outputs": [],
   "source": [
    "a = pd.Series(list(scopes)).to_frame('scope')\n",
    "scopes_df = a[\"scope\"].apply(get_range, args=(file_number_of_lines, ranges))\n",
    "scopes_df[\"scope_index\"] = range(len(scopes_df))\n",
    "scopes_df"
   ]
  },
  {
   "cell_type": "code",
   "execution_count": null,
   "id": "028c1ba6",
   "metadata": {},
   "outputs": [],
   "source": [
    "def _get_call_graph_with_df(wrapper, ranges, scopes_df) -> (nx.DiGraph, pd.DataFrame):\n",
    "    ranges = wrapper.resolve(cst.metadata.PositionProvider)    \n",
    "    visitor = FunctionCollector(ranges)    \n",
    "    wrapper.visit(visitor)\n",
    "    call_df = pd.DataFrame(visitor.get_info(), columns=['assigned', 'data', 'line'])\n",
    "    call_df['assigner'] = call_df['data'].apply(lambda x: x['names'])\n",
    "    call_df[\"scope_index\"] = call_df[\"line\"].apply(get_scope_index, args=(scopes_df,))\n",
    "    call_df['hash_name'] = call_df.apply(lambda x: (x[\"assigned\"], x[\"scope_index\"]), axis=1)\n",
    "    di_graph = _create_di_graph_from_call_df(call_df)\n",
    "    return di_graph, call_df\n",
    "\n",
    "class FunctionCollector(cst.CSTVisitor):\n",
    "    METADATA_DEPENDENCIES = (cst.metadata.PositionProvider,)\n",
    "\n",
    "    def __init__(self, ranges):\n",
    "        super().__init__()\n",
    "        self._ranges = ranges\n",
    "        self._assign_info: List[Tuple] = []\n",
    "\n",
    "    def get_info(self):\n",
    "        return self._assign_info\n",
    "\n",
    "    def visit_Assign(self, node: cst.FunctionDef) -> None:\n",
    "        pos = self._ranges[node].start\n",
    "        collector = ValueCollector()\n",
    "        node.value.visit(collector)\n",
    "        value_dict = {'names': collector.names, 'ints': collector.ints, 'floats': collector.floats}\n",
    "        self._assign_info.append((node.targets[0].target.value, value_dict, pos.line))\n",
    "\n",
    "\n",
    "class ValueCollector(cst.CSTVisitor):\n",
    "    def __init__(self):\n",
    "        super().__init__()\n",
    "        self.names: List[str] = []\n",
    "        self.ints: List[str] = []\n",
    "        self.floats: List[str] = []\n",
    "\n",
    "    def visit_Name(self, node: cst.FunctionDef) -> None:\n",
    "        self.names.append(node.value)\n",
    "\n",
    "    def visit_Integer(self, node: cst.FunctionDef) -> None:\n",
    "        self.ints.append(node.value)\n",
    "\n",
    "    def visit_Float(self, node: cst.FunctionDef) -> None:\n",
    "        self.floats.append(node.value)\n",
    "\n",
    "        \n",
    "def _get_all_variables_names(call_df):\n",
    "    assigned_list = list(call_df.apply(lambda x: (x[\"assigned\"], x[\"scope_index\"]), axis=1))\n",
    "    assigners_list = list(call_df.explode(['assigner']).dropna().apply(lambda x: (x[\"assigner\"], x[\"scope_index\"]), axis=1))\n",
    "    return set(assigned_list + assigners_list)\n",
    "\n",
    "\n",
    "def _create_di_graph_from_call_df(call_df):\n",
    "    var_names = _get_all_variables_names(call_df)\n",
    "    di_graph = nx.DiGraph()\n",
    "    for name in var_names:\n",
    "        di_graph.add_node(name)\n",
    "    for index, a_series in call_df.iterrows():\n",
    "        scope_index = a_series[\"scope_index\"]\n",
    "        if a_series['assigner']:\n",
    "            for assigner in a_series['assigner']:\n",
    "                di_graph.add_edge((assigner, scope_index), (a_series['assigned'], scope_index))\n",
    "    return di_graph\n",
    "\n",
    "def get_scope_index(line_number, scopes_df):\n",
    "    c = scopes_df.query(f\"start_line_number <= {line_number} and end_line_number >= {line_number}\").sort_values(\"length\")\n",
    "    scope_index = c.iloc[0]['scope_index']\n",
    "    return scope_index"
   ]
  },
  {
   "cell_type": "code",
   "execution_count": null,
   "id": "8307206b",
   "metadata": {},
   "outputs": [],
   "source": [
    "di_graph, call_df = _get_call_graph_with_df(wrapper, ranges, scopes_df)"
   ]
  },
  {
   "cell_type": "code",
   "execution_count": null,
   "id": "241b0177",
   "metadata": {},
   "outputs": [],
   "source": [
    "call_df"
   ]
  },
  {
   "cell_type": "code",
   "execution_count": null,
   "id": "d95320f6",
   "metadata": {},
   "outputs": [],
   "source": [
    "nx.draw_networkx(di_graph)"
   ]
  },
  {
   "cell_type": "code",
   "execution_count": null,
   "id": "83bada47",
   "metadata": {},
   "outputs": [],
   "source": [
    "scopes_df"
   ]
  },
  {
   "cell_type": "code",
   "execution_count": null,
   "id": "511d3425",
   "metadata": {},
   "outputs": [],
   "source": [
    "line_number = 17"
   ]
  },
  {
   "cell_type": "code",
   "execution_count": null,
   "id": "73a69376",
   "metadata": {},
   "outputs": [],
   "source": [
    "a_series = call_df.query(f\"line == {line_number}\").iloc[0]\n",
    "a_series"
   ]
  },
  {
   "cell_type": "code",
   "execution_count": null,
   "id": "fb09e1c8",
   "metadata": {},
   "outputs": [],
   "source": [
    "graph_node_name = a_series['hash_name']\n",
    "graph_node_name"
   ]
  },
  {
   "cell_type": "code",
   "execution_count": null,
   "id": "dcdf0db6",
   "metadata": {},
   "outputs": [],
   "source": [
    "ancestors = nx.ancestors(di_graph, graph_node_name)\n",
    "ancestors"
   ]
  },
  {
   "cell_type": "code",
   "execution_count": null,
   "id": "213bbc0d",
   "metadata": {},
   "outputs": [],
   "source": [
    "call_df[call_df['hash_name'].isin(ancestors)]"
   ]
  },
  {
   "cell_type": "code",
   "execution_count": null,
   "id": "2f957fb8",
   "metadata": {},
   "outputs": [],
   "source": []
  },
  {
   "cell_type": "markdown",
   "id": "7ca746ff",
   "metadata": {},
   "source": [
    "# try3"
   ]
  },
  {
   "cell_type": "code",
   "execution_count": null,
   "id": "09d98213",
   "metadata": {},
   "outputs": [],
   "source": [
    "class FunctionCollector(cst.CSTVisitor):\n",
    "    METADATA_DEPENDENCIES = (cst.metadata.PositionProvider,)\n",
    "\n",
    "    def __init__(self, ranges):\n",
    "        super().__init__()\n",
    "        self._ranges = ranges\n",
    "        self._assign_info: List[Tuple] = []\n",
    "\n",
    "    def get_info(self):\n",
    "        return self._assign_info\n",
    "\n",
    "    def visit_Assign(self, node: cst.FunctionDef) -> None:\n",
    "        pos = self._ranges[node].start\n",
    "        collector = ValueCollector()\n",
    "        node.value.visit(collector)\n",
    "        value_dict = {'names': collector.names, 'ints': collector.ints, 'floats': collector.floats}\n",
    "        self._assign_info.append((node.targets[0].target.value, value_dict, pos.line))\n",
    "\n",
    "\n",
    "class ValueCollector(cst.CSTVisitor):\n",
    "    def __init__(self):\n",
    "        super().__init__()\n",
    "        self.names: List[str] = []\n",
    "        self.ints: List[str] = []\n",
    "        self.floats: List[str] = []\n",
    "\n",
    "    def visit_Name(self, node: cst.FunctionDef) -> None:\n",
    "        self.names.append(node.value)\n",
    "\n",
    "    def visit_Integer(self, node: cst.FunctionDef) -> None:\n",
    "        self.ints.append(node.value)\n",
    "\n",
    "    def visit_Float(self, node: cst.FunctionDef) -> None:\n",
    "        self.floats.append(node.value)"
   ]
  },
  {
   "cell_type": "code",
   "execution_count": null,
   "id": "b319e3ce",
   "metadata": {},
   "outputs": [],
   "source": [
    "class CallGraphManager:\n",
    "    def __init__(self, file_path):\n",
    "        self._call_graph, self._call_df = self._get_call_graph_with_df(file_path)\n",
    "        \n",
    "    def get_variable_affecting_lines_numbers(self, line_number: str) -> List[int]:\n",
    "        a_series = self._call_df.query(f\"line == {line_number}\").iloc[0]\n",
    "        graph_node_name = a_series['hash_name']\n",
    "        ancestors = nx.ancestors(self._call_graph, graph_node_name)       \n",
    "        ancestors_df = self._get_ancestors_call_df(ancestors, graph_node_name)\n",
    "        lines_numbers_list = self._get_lines_numbers_list(ancestors_df)\n",
    "        return lines_numbers_list\n",
    "    \n",
    "    def _get_ancestors_call_df(self, ancestors, graph_node_name):\n",
    "        return self._call_df[self._call_df['hash_name'].isin(ancestors.union({graph_node_name}))]\n",
    "    \n",
    "    @staticmethod\n",
    "    def _get_lines_numbers_list(ancestors_df: pd.DataFrame):\n",
    "        return list(ancestors_df['line'].values)\n",
    "        \n",
    "    def _get_call_graph_with_df(self, file_path: str) -> (nx.DiGraph, pd.DataFrame):\n",
    "        file_lines = open(file_path, 'r').readlines()\n",
    "        file_content = open(file_path, 'r').read()\n",
    "        wrapper = cst.metadata.MetadataWrapper(cst.parse_module(file_content))\n",
    "        scopes = set(wrapper.resolve(cst.metadata.ScopeProvider).values())\n",
    "        ranges = wrapper.resolve(cst.metadata.PositionProvider)\n",
    "        file_number_of_lines = len(file_lines)\n",
    "        \n",
    "        a = pd.Series(list(scopes)).to_frame('scope')\n",
    "        scopes_df = a[\"scope\"].apply(self._get_range, args=(file_number_of_lines, ranges))\n",
    "        scopes_df[\"scope_index\"] = range(len(scopes_df))\n",
    "        \n",
    "        self._scopes_df = scopes_df\n",
    "        self._ranges = ranges\n",
    "        \n",
    "        di_graph, call_df = self._get_call_graph_with_df_from_objects(wrapper, ranges, scopes_df)\n",
    "        return di_graph, call_df\n",
    "        \n",
    "    def _get_range(self, scope, file_number_of_lines, ranges):\n",
    "        if isinstance(scope, cst.metadata.scope_provider.GlobalScope):\n",
    "            start_line_number = 1\n",
    "            end_line_number = file_number_of_lines\n",
    "            scope_name = 'global'\n",
    "            header_end_line_number = start_line_number\n",
    "        else:\n",
    "            start_line_number = ranges[scope.node].start.line\n",
    "            end_line_number = ranges[scope.node].end.line\n",
    "            scope_name = scope.name\n",
    "            header_end_line_number = start_line_number\n",
    "            if hasattr(scope.node, 'params') and scope.node.params:\n",
    "                header_end_line_number = ranges[scope.node.params].end.line\n",
    "            if hasattr(scope.node, 'returns') and scope.node.returns:\n",
    "                header_end_line_number = ranges[scope.node.returns].end.line \n",
    "        scope_length = end_line_number - start_line_number + 1       \n",
    "        values = [scope, start_line_number, end_line_number, header_end_line_number, scope_length, scope_name]\n",
    "        names = [\"scope\", \"start_line_number\", \"end_line_number\", \"header_end_line_number\", \"length\", \"name\"]\n",
    "        output_series = pd.Series(values, index=names)\n",
    "        return output_series\n",
    "    \n",
    "    def _get_call_graph_with_df_from_objects(self, wrapper, ranges, scopes_df) -> (nx.DiGraph, pd.DataFrame):\n",
    "        ranges = wrapper.resolve(cst.metadata.PositionProvider)    \n",
    "        visitor = FunctionCollector(ranges)    \n",
    "        wrapper.visit(visitor)\n",
    "        call_df = pd.DataFrame(visitor.get_info(), columns=['assigned', 'data', 'line'])\n",
    "        call_df['assigner'] = call_df['data'].apply(lambda x: x['names'])\n",
    "        call_df[\"scope_index\"] = call_df[\"line\"].apply(self._get_scope_index, args=(scopes_df,))\n",
    "        call_df['hash_name'] = call_df.apply(lambda x: (x[\"assigned\"], x[\"scope_index\"]), axis=1)\n",
    "        di_graph = self._create_di_graph_from_call_df(call_df)\n",
    "        return di_graph, call_df\n",
    "    \n",
    "    def _get_all_variables_names(self, call_df):\n",
    "        assigned_list = list(call_df.apply(lambda x: (x[\"assigned\"], x[\"scope_index\"]), axis=1))\n",
    "        assigners_list = list(call_df.explode(['assigner']).dropna().apply(lambda x: (x[\"assigner\"], x[\"scope_index\"]), axis=1))\n",
    "        return set(assigned_list + assigners_list)\n",
    "\n",
    "\n",
    "    def _create_di_graph_from_call_df(self, call_df):\n",
    "        var_names = self._get_all_variables_names(call_df)\n",
    "        di_graph = nx.DiGraph()\n",
    "        for name in var_names:\n",
    "            di_graph.add_node(name)\n",
    "        for index, a_series in call_df.iterrows():\n",
    "            scope_index = a_series[\"scope_index\"]\n",
    "            if a_series['assigner']:\n",
    "                for assigner in a_series['assigner']:\n",
    "                    di_graph.add_edge((assigner, scope_index), (a_series['assigned'], scope_index))\n",
    "        return di_graph\n",
    "\n",
    "    def _get_scope_index(self, line_number, scopes_df):\n",
    "        c = scopes_df.query(f\"start_line_number <= {line_number} and end_line_number >= {line_number}\").sort_values(\"length\")\n",
    "        scope_index = c.iloc[0]['scope_index']\n",
    "        return scope_index"
   ]
  },
  {
   "cell_type": "code",
   "execution_count": null,
   "id": "e9a45e7c",
   "metadata": {},
   "outputs": [],
   "source": [
    "mm = CallGraphManager('play.py')"
   ]
  },
  {
   "cell_type": "code",
   "execution_count": null,
   "id": "dcd1c579",
   "metadata": {},
   "outputs": [],
   "source": [
    "mm.get_variable_affecting_lines_numbers(17)"
   ]
  },
  {
   "cell_type": "code",
   "execution_count": null,
   "id": "ee245668",
   "metadata": {},
   "outputs": [],
   "source": [
    "scopes_df = mm._scopes_df\n",
    "ranges = mm._ranges"
   ]
  },
  {
   "cell_type": "code",
   "execution_count": null,
   "id": "0090cc9a",
   "metadata": {},
   "outputs": [],
   "source": [
    "scopes_df"
   ]
  },
  {
   "cell_type": "code",
   "execution_count": null,
   "id": "14759feb",
   "metadata": {},
   "outputs": [],
   "source": [
    "c = scopes_df.query(f\"start_line_number <= {line_number} and end_line_number >= {line_number}\").sort_values(\"length\")"
   ]
  },
  {
   "cell_type": "code",
   "execution_count": null,
   "id": "356edbf2",
   "metadata": {},
   "outputs": [],
   "source": [
    "c.iloc[:-1][\"start_line_number\"].tolist()"
   ]
  },
  {
   "cell_type": "code",
   "execution_count": null,
   "id": "0538fb21",
   "metadata": {},
   "outputs": [],
   "source": [
    "c"
   ]
  },
  {
   "cell_type": "code",
   "execution_count": null,
   "id": "e1d6c426",
   "metadata": {},
   "outputs": [],
   "source": [
    "def _get_scope_hierarchy_starts_list(scopes_df):\n",
    "    c = scopes_df.query(f\"start_line_number <= {line_number} and end_line_number >= {line_number}\").sort_values(\"length\")\n",
    "    lines_numbers_list = c.iloc[:-1][\"start_line_number\"].tolist()\n",
    "    return lines_numbers_list"
   ]
  },
  {
   "cell_type": "code",
   "execution_count": null,
   "id": "68c7a098",
   "metadata": {},
   "outputs": [],
   "source": [
    "# wrapper"
   ]
  },
  {
   "cell_type": "code",
   "execution_count": null,
   "id": "4a404173",
   "metadata": {},
   "outputs": [],
   "source": [
    "scopes_df"
   ]
  },
  {
   "cell_type": "code",
   "execution_count": null,
   "id": "3218da1f",
   "metadata": {},
   "outputs": [],
   "source": [
    "scope = scopes_df.iloc[2]['scope']"
   ]
  },
  {
   "cell_type": "code",
   "execution_count": null,
   "id": "f798fb54",
   "metadata": {},
   "outputs": [],
   "source": [
    "scope.node"
   ]
  },
  {
   "cell_type": "code",
   "execution_count": null,
   "id": "a962230f",
   "metadata": {},
   "outputs": [],
   "source": [
    "scope.node.params"
   ]
  },
  {
   "cell_type": "code",
   "execution_count": null,
   "id": "7699677e",
   "metadata": {},
   "outputs": [],
   "source": [
    "ranges[scope.node.params]"
   ]
  },
  {
   "cell_type": "code",
   "execution_count": null,
   "id": "3054b695",
   "metadata": {},
   "outputs": [],
   "source": [
    "ranges[scope.node]"
   ]
  },
  {
   "cell_type": "code",
   "execution_count": null,
   "id": "d8ee0b2f",
   "metadata": {},
   "outputs": [],
   "source": [
    "ranges[scope.node.returns]"
   ]
  },
  {
   "cell_type": "code",
   "execution_count": null,
   "id": "1fc1c847",
   "metadata": {},
   "outputs": [],
   "source": [
    "hasattr(scope.node, 'returns')"
   ]
  },
  {
   "cell_type": "code",
   "execution_count": null,
   "id": "82b06826",
   "metadata": {},
   "outputs": [],
   "source": [
    "ranges[scope.node.params].end.line"
   ]
  },
  {
   "cell_type": "code",
   "execution_count": null,
   "id": "088e5111",
   "metadata": {},
   "outputs": [],
   "source": [
    "scope.node"
   ]
  },
  {
   "cell_type": "code",
   "execution_count": null,
   "id": "aa568a7a",
   "metadata": {},
   "outputs": [],
   "source": [
    "ranges[scope.node.returns]"
   ]
  },
  {
   "cell_type": "code",
   "execution_count": null,
   "id": "be41bf55",
   "metadata": {},
   "outputs": [],
   "source": [
    "scope.node.decorators"
   ]
  },
  {
   "cell_type": "code",
   "execution_count": null,
   "id": "79b61e76",
   "metadata": {},
   "outputs": [],
   "source": [
    "ranges[scope.node.decorators[0]]"
   ]
  },
  {
   "cell_type": "code",
   "execution_count": null,
   "id": "2982d012",
   "metadata": {},
   "outputs": [],
   "source": []
  },
  {
   "cell_type": "code",
   "execution_count": null,
   "id": "54e58e2b",
   "metadata": {},
   "outputs": [],
   "source": []
  },
  {
   "cell_type": "markdown",
   "id": "2c29e728",
   "metadata": {},
   "source": [
    "# self"
   ]
  },
  {
   "cell_type": "code",
   "execution_count": null,
   "id": "c86f37db",
   "metadata": {},
   "outputs": [],
   "source": [
    "# wrapper.module.body[3].body.body[1].body.body[0].body\n",
    "wrapper.module.body[3].body.body[1]"
   ]
  },
  {
   "cell_type": "code",
   "execution_count": null,
   "id": "bb67b46d",
   "metadata": {},
   "outputs": [],
   "source": [
    "# import libcst\n",
    "\n",
    "# function_def = libcst.parse_statement(\"def hello_world():\\n  print('Hello World')\")\n",
    "# print(libcst.Module([]).code_for_node(function_def))"
   ]
  },
  {
   "cell_type": "code",
   "execution_count": null,
   "id": "beeadcb4",
   "metadata": {},
   "outputs": [],
   "source": [
    "class ValueCollector(cst.CSTVisitor):\n",
    "    def __init__(self):\n",
    "        super().__init__()\n",
    "        self.names: List[Union[str, Tuple]] = []\n",
    "        self.ints: List[str] = []\n",
    "        self.floats: List[str] = []\n",
    "        self._inside_attribute = False\n",
    "\n",
    "    def visit_Name(self, node: cst.FunctionDef) -> None:\n",
    "        if not self._inside_attribute:\n",
    "            self.names.append(node.value)\n",
    "\n",
    "    def visit_Integer(self, node: cst.FunctionDef) -> None:\n",
    "        self.ints.append(node.value)\n",
    "\n",
    "    def visit_Float(self, node: cst.FunctionDef) -> None:\n",
    "        self.floats.append(node.value)\n",
    "\n",
    "    def visit_Attribute(self, node: cst.FunctionDef) -> None:\n",
    "        self._inside_attribute = True\n",
    "        self.names.append((node.value.value, node.attr.value))\n",
    "\n",
    "    def leave_Attribute(self, node: cst.FunctionDef) -> None:\n",
    "        self._inside_attribute = False"
   ]
  },
  {
   "cell_type": "code",
   "execution_count": null,
   "id": "115936cb",
   "metadata": {},
   "outputs": [],
   "source": [
    "collector = ValueCollector()"
   ]
  },
  {
   "cell_type": "code",
   "execution_count": 19,
   "id": "d385fdb9",
   "metadata": {},
   "outputs": [],
   "source": [
    "# wrapper.module.body[2].body.body[1].body.body[0].body[0].visit(collector)"
   ]
  },
  {
   "cell_type": "code",
   "execution_count": 23,
   "id": "9f368d41",
   "metadata": {},
   "outputs": [
    {
     "data": {
      "text/plain": [
       "Attribute(\n",
       "    value=Attribute(\n",
       "        value=Name(\n",
       "            value='self',\n",
       "            lpar=[],\n",
       "            rpar=[],\n",
       "        ),\n",
       "        attr=Name(\n",
       "            value='m',\n",
       "            lpar=[],\n",
       "            rpar=[],\n",
       "        ),\n",
       "        dot=Dot(\n",
       "            whitespace_before=SimpleWhitespace(\n",
       "                value='',\n",
       "            ),\n",
       "            whitespace_after=SimpleWhitespace(\n",
       "                value='',\n",
       "            ),\n",
       "        ),\n",
       "        lpar=[],\n",
       "        rpar=[],\n",
       "    ),\n",
       "    attr=Name(\n",
       "        value='c',\n",
       "        lpar=[],\n",
       "        rpar=[],\n",
       "    ),\n",
       "    dot=Dot(\n",
       "        whitespace_before=SimpleWhitespace(\n",
       "            value='',\n",
       "        ),\n",
       "        whitespace_after=SimpleWhitespace(\n",
       "            value='',\n",
       "        ),\n",
       "    ),\n",
       "    lpar=[],\n",
       "    rpar=[],\n",
       ")"
      ]
     },
     "execution_count": 23,
     "metadata": {},
     "output_type": "execute_result"
    }
   ],
   "source": [
    "wrapper.module.body[3].body.body[2].body.body[0].body[0].value.right"
   ]
  },
  {
   "cell_type": "code",
   "execution_count": null,
   "id": "aa50e3dd",
   "metadata": {},
   "outputs": [],
   "source": [
    "collector.names"
   ]
  },
  {
   "cell_type": "code",
   "execution_count": 6,
   "id": "c264ebfc",
   "metadata": {},
   "outputs": [
    {
     "name": "stdout",
     "output_type": "stream",
     "text": [
      "import alkh\n",
      "alkh.analyze()\n",
      "import pandas as pd\n",
      "\n",
      "\n",
      "class A:\n",
      "    k = 8\n",
      "    m = pd.Series({\"c\": 20})\n",
      "\n",
      "    def __init__(self):\n",
      "        b = 8 + self.k + self.m.c\n",
      "        pass\n",
      "\n",
      "    @staticmethod\n",
      "    def run(\n",
      "            n)\\\n",
      "            -> int:\n",
      "        a = 5\n",
      "        b = a + 7 + 5.0\n",
      "        ll = a + 6.4\n",
      "        c = a + b + 3\n",
      "        d = b + c\n",
      "        k = int(d * 2)\n",
      "        return k\n",
      "\n",
      "\n",
      "class B:\n",
      "    def __init__(self):\n",
      "        b = 8\n",
      "        pass\n",
      "\n",
      "    def run(self):\n",
      "        a = 5\n",
      "        b = a + 7 + 5.0\n",
      "        ll = a + 6.4\n",
      "        c = a + b + 3\n",
      "        d = b + c\n",
      "\n"
     ]
    }
   ],
   "source": [
    "print(file_content)"
   ]
  },
  {
   "cell_type": "code",
   "execution_count": 24,
   "id": "5bbb740c",
   "metadata": {},
   "outputs": [],
   "source": [
    "class ValueCollector(cst.CSTVisitor):\n",
    "    def __init__(self):\n",
    "        super().__init__()\n",
    "        self.names: List[Union[str, Tuple]] = []\n",
    "        self.ints: List[str] = []\n",
    "        self.floats: List[str] = []\n",
    "        self._inside_attribute = False\n",
    "        self._attribute_level = 0\n",
    "\n",
    "    def visit_Name(self, node: cst.FunctionDef) -> None:\n",
    "        if not self._inside_attribute:\n",
    "            self.names.append(node.value)\n",
    "\n",
    "    def visit_Integer(self, node: cst.FunctionDef) -> None:\n",
    "        self.ints.append(node.value)\n",
    "\n",
    "    def visit_Float(self, node: cst.FunctionDef) -> None:\n",
    "        self.floats.append(node.value)\n",
    "\n",
    "    def visit_Attribute(self, node: cst.FunctionDef) -> None:\n",
    "        self._inside_attribute = True\n",
    "        self.names.append((node.value.value, node.attr.value))\n",
    "        print(self._attribute_level)\n",
    "        self._attribute_level += 1\n",
    "\n",
    "    def leave_Attribute(self, node: cst.FunctionDef) -> None:\n",
    "        self._inside_attribute = False\n",
    "        print(self._attribute_level)\n",
    "        self._attribute_level -= 1        "
   ]
  },
  {
   "cell_type": "code",
   "execution_count": 25,
   "id": "3e87c36d",
   "metadata": {},
   "outputs": [
    {
     "data": {
      "text/plain": [
       "Attribute(\n",
       "    value=Attribute(\n",
       "        value=Name(\n",
       "            value='self',\n",
       "            lpar=[],\n",
       "            rpar=[],\n",
       "        ),\n",
       "        attr=Name(\n",
       "            value='m',\n",
       "            lpar=[],\n",
       "            rpar=[],\n",
       "        ),\n",
       "        dot=Dot(\n",
       "            whitespace_before=SimpleWhitespace(\n",
       "                value='',\n",
       "            ),\n",
       "            whitespace_after=SimpleWhitespace(\n",
       "                value='',\n",
       "            ),\n",
       "        ),\n",
       "        lpar=[],\n",
       "        rpar=[],\n",
       "    ),\n",
       "    attr=Name(\n",
       "        value='c',\n",
       "        lpar=[],\n",
       "        rpar=[],\n",
       "    ),\n",
       "    dot=Dot(\n",
       "        whitespace_before=SimpleWhitespace(\n",
       "            value='',\n",
       "        ),\n",
       "        whitespace_after=SimpleWhitespace(\n",
       "            value='',\n",
       "        ),\n",
       "    ),\n",
       "    lpar=[],\n",
       "    rpar=[],\n",
       ")"
      ]
     },
     "execution_count": 25,
     "metadata": {},
     "output_type": "execute_result"
    }
   ],
   "source": [
    "wrapper.module.body[3].body.body[2].body.body[0].body[0].value.right"
   ]
  },
  {
   "cell_type": "code",
   "execution_count": 26,
   "id": "2cf609d4",
   "metadata": {},
   "outputs": [],
   "source": [
    "collector = ValueCollector()"
   ]
  },
  {
   "cell_type": "code",
   "execution_count": 27,
   "id": "fde4539c",
   "metadata": {},
   "outputs": [
    {
     "name": "stdout",
     "output_type": "stream",
     "text": [
      "0\n",
      "1\n",
      "2\n",
      "1\n"
     ]
    },
    {
     "data": {
      "text/plain": [
       "Attribute(\n",
       "    value=Attribute(\n",
       "        value=Name(\n",
       "            value='self',\n",
       "            lpar=[],\n",
       "            rpar=[],\n",
       "        ),\n",
       "        attr=Name(\n",
       "            value='m',\n",
       "            lpar=[],\n",
       "            rpar=[],\n",
       "        ),\n",
       "        dot=Dot(\n",
       "            whitespace_before=SimpleWhitespace(\n",
       "                value='',\n",
       "            ),\n",
       "            whitespace_after=SimpleWhitespace(\n",
       "                value='',\n",
       "            ),\n",
       "        ),\n",
       "        lpar=[],\n",
       "        rpar=[],\n",
       "    ),\n",
       "    attr=Name(\n",
       "        value='c',\n",
       "        lpar=[],\n",
       "        rpar=[],\n",
       "    ),\n",
       "    dot=Dot(\n",
       "        whitespace_before=SimpleWhitespace(\n",
       "            value='',\n",
       "        ),\n",
       "        whitespace_after=SimpleWhitespace(\n",
       "            value='',\n",
       "        ),\n",
       "    ),\n",
       "    lpar=[],\n",
       "    rpar=[],\n",
       ")"
      ]
     },
     "execution_count": 27,
     "metadata": {},
     "output_type": "execute_result"
    }
   ],
   "source": [
    "wrapper.module.body[3].body.body[2].body.body[0].body[0].value.right.visit(collector)"
   ]
  },
  {
   "cell_type": "code",
   "execution_count": null,
   "id": "06085012",
   "metadata": {},
   "outputs": [],
   "source": []
  }
 ],
 "metadata": {
  "kernelspec": {
   "display_name": "Python 3 (ipykernel)",
   "language": "python",
   "name": "python3"
  },
  "language_info": {
   "codemirror_mode": {
    "name": "ipython",
    "version": 3
   },
   "file_extension": ".py",
   "mimetype": "text/x-python",
   "name": "python",
   "nbconvert_exporter": "python",
   "pygments_lexer": "ipython3",
   "version": "3.8.3"
  }
 },
 "nbformat": 4,
 "nbformat_minor": 5
}
