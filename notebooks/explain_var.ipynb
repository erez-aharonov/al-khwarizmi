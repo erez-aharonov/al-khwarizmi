{
 "cells": [
  {
   "cell_type": "code",
   "execution_count": 1,
   "id": "c47217f5",
   "metadata": {},
   "outputs": [],
   "source": [
    "from typing import *\n",
    "import libcst as cst\n",
    "import networkx as nx\n",
    "import pandas as pd\n",
    "import numpy as np"
   ]
  },
  {
   "cell_type": "code",
   "execution_count": 2,
   "id": "48c42e91",
   "metadata": {},
   "outputs": [],
   "source": [
    "from alkh import cst_utils"
   ]
  },
  {
   "cell_type": "code",
   "execution_count": 3,
   "id": "877f24c4",
   "metadata": {},
   "outputs": [],
   "source": [
    "file_path = 'play.py'"
   ]
  },
  {
   "cell_type": "code",
   "execution_count": 4,
   "id": "57d37b1b",
   "metadata": {},
   "outputs": [],
   "source": [
    "file_lines = open(file_path, 'r').readlines()\n",
    "file_content = open(file_path, 'r').read()\n",
    "wrapper = cst.metadata.MetadataWrapper(cst.parse_module(file_content))\n",
    "scopes = set(wrapper.resolve(cst.metadata.ScopeProvider).values())\n",
    "ranges = wrapper.resolve(cst.metadata.PositionProvider)\n",
    "file_number_of_lines = len(file_lines)"
   ]
  },
  {
   "cell_type": "code",
   "execution_count": null,
   "id": "6e73e888",
   "metadata": {},
   "outputs": [],
   "source": [
    "def get_range(scope, file_number_of_lines, ranges):\n",
    "    if isinstance(scope, cst.metadata.scope_provider.GlobalScope):\n",
    "        start_line_number = 1\n",
    "        end_line_number = file_number_of_lines\n",
    "        scope_name = 'global'\n",
    "    else:\n",
    "        start_line_number = ranges[scope.node].start.line\n",
    "        end_line_number = ranges[scope.node].end.line\n",
    "        scope_name = scope.name\n",
    "    scope_length = end_line_number - start_line_number + 1\n",
    "    values = [scope, start_line_number, end_line_number, scope_length, scope_name]\n",
    "    names = [\"scope\", \"start_line_number\", \"end_line_number\", \"length\", \"name\"]\n",
    "    output_series = pd.Series(values, index=names)\n",
    "    return output_series"
   ]
  },
  {
   "cell_type": "code",
   "execution_count": null,
   "id": "3b969f59",
   "metadata": {},
   "outputs": [],
   "source": [
    "a = pd.Series(list(scopes)).to_frame('scope')\n",
    "scopes_df = a[\"scope\"].apply(get_range, args=(file_number_of_lines, ranges))\n",
    "scopes_df[\"scope_index\"] = range(len(scopes_df))\n",
    "scopes_df"
   ]
  },
  {
   "cell_type": "code",
   "execution_count": null,
   "id": "8191447a",
   "metadata": {},
   "outputs": [],
   "source": [
    "def _get_call_graph_with_df(wrapper, ranges, scopes_df) -> (nx.DiGraph, pd.DataFrame):\n",
    "    ranges = wrapper.resolve(cst.metadata.PositionProvider)    \n",
    "    visitor = FunctionCollector(ranges)    \n",
    "    wrapper.visit(visitor)\n",
    "    call_df = pd.DataFrame(visitor.get_info(), columns=['assigned', 'data', 'line'])\n",
    "    call_df['assigner'] = call_df['data'].apply(lambda x: x['names'])\n",
    "    call_df[\"scope_index\"] = call_df[\"line\"].apply(get_scope_index, args=(scopes_df,))\n",
    "    call_df['hash_name'] = call_df.apply(lambda x: (x[\"assigned\"], x[\"scope_index\"]), axis=1)\n",
    "    di_graph = _create_di_graph_from_call_df(call_df)\n",
    "    return di_graph, call_df\n",
    "\n",
    "class FunctionCollector(cst.CSTVisitor):\n",
    "    METADATA_DEPENDENCIES = (cst.metadata.PositionProvider,)\n",
    "\n",
    "    def __init__(self, ranges):\n",
    "        super().__init__()\n",
    "        self._ranges = ranges\n",
    "        self._assign_info: List[Tuple] = []\n",
    "\n",
    "    def get_info(self):\n",
    "        return self._assign_info\n",
    "\n",
    "    def visit_Assign(self, node: cst.FunctionDef) -> None:\n",
    "        pos = self._ranges[node].start\n",
    "        collector = ValueCollector()\n",
    "        node.value.visit(collector)\n",
    "        value_dict = {'names': collector.names, 'ints': collector.ints, 'floats': collector.floats}\n",
    "        self._assign_info.append((node.targets[0].target.value, value_dict, pos.line))\n",
    "\n",
    "\n",
    "class ValueCollector(cst.CSTVisitor):\n",
    "    def __init__(self):\n",
    "        super().__init__()\n",
    "        self.names: List[str] = []\n",
    "        self.ints: List[str] = []\n",
    "        self.floats: List[str] = []\n",
    "\n",
    "    def visit_Name(self, node: cst.FunctionDef) -> None:\n",
    "        self.names.append(node.value)\n",
    "\n",
    "    def visit_Integer(self, node: cst.FunctionDef) -> None:\n",
    "        self.ints.append(node.value)\n",
    "\n",
    "    def visit_Float(self, node: cst.FunctionDef) -> None:\n",
    "        self.floats.append(node.value)\n",
    "\n",
    "        \n",
    "def _get_all_variables_names(call_df):\n",
    "    assigned_list = list(call_df.apply(lambda x: (x[\"assigned\"], x[\"scope_index\"]), axis=1))\n",
    "    assigners_list = list(call_df.explode(['assigner']).dropna().apply(lambda x: (x[\"assigner\"], x[\"scope_index\"]), axis=1))\n",
    "    return set(assigned_list + assigners_list)\n",
    "\n",
    "\n",
    "def _create_di_graph_from_call_df(call_df):\n",
    "    var_names = _get_all_variables_names(call_df)\n",
    "    di_graph = nx.DiGraph()\n",
    "    for name in var_names:\n",
    "        di_graph.add_node(name)\n",
    "    for index, a_series in call_df.iterrows():\n",
    "        scope_index = a_series[\"scope_index\"]\n",
    "        if a_series['assigner']:\n",
    "            for assigner in a_series['assigner']:\n",
    "                di_graph.add_edge((assigner, scope_index), (a_series['assigned'], scope_index))\n",
    "    return di_graph\n",
    "\n",
    "def get_scope_index(line_number, scopes_df):\n",
    "    c = scopes_df.query(f\"start_line_number <= {line_number} and end_line_number >= {line_number}\").sort_values(\"length\")\n",
    "    scope_index = c.iloc[0]['scope_index']\n",
    "    return scope_index"
   ]
  },
  {
   "cell_type": "code",
   "execution_count": null,
   "id": "afeb8b2a",
   "metadata": {},
   "outputs": [],
   "source": [
    "di_graph, call_df = _get_call_graph_with_df(wrapper, ranges, scopes_df)"
   ]
  },
  {
   "cell_type": "code",
   "execution_count": null,
   "id": "79c30b12",
   "metadata": {},
   "outputs": [],
   "source": [
    "call_df"
   ]
  },
  {
   "cell_type": "code",
   "execution_count": null,
   "id": "eaeda724",
   "metadata": {},
   "outputs": [],
   "source": [
    "nx.draw_networkx(di_graph)"
   ]
  },
  {
   "cell_type": "code",
   "execution_count": null,
   "id": "b3f50c32",
   "metadata": {},
   "outputs": [],
   "source": [
    "scopes_df"
   ]
  },
  {
   "cell_type": "code",
   "execution_count": null,
   "id": "9dcff5d2",
   "metadata": {},
   "outputs": [],
   "source": [
    "line_number = 17"
   ]
  },
  {
   "cell_type": "code",
   "execution_count": null,
   "id": "bda727a1",
   "metadata": {},
   "outputs": [],
   "source": [
    "a_series = call_df.query(f\"line == {line_number}\").iloc[0]\n",
    "a_series"
   ]
  },
  {
   "cell_type": "code",
   "execution_count": null,
   "id": "f7bc852d",
   "metadata": {},
   "outputs": [],
   "source": [
    "graph_node_name = a_series['hash_name']\n",
    "graph_node_name"
   ]
  },
  {
   "cell_type": "code",
   "execution_count": null,
   "id": "2750ff5d",
   "metadata": {},
   "outputs": [],
   "source": [
    "ancestors = nx.ancestors(di_graph, graph_node_name)\n",
    "ancestors"
   ]
  },
  {
   "cell_type": "code",
   "execution_count": null,
   "id": "cfb64d61",
   "metadata": {},
   "outputs": [],
   "source": [
    "call_df[call_df['hash_name'].isin(ancestors)]"
   ]
  },
  {
   "cell_type": "code",
   "execution_count": null,
   "id": "82eba715",
   "metadata": {},
   "outputs": [],
   "source": []
  },
  {
   "cell_type": "markdown",
   "id": "46f765f1",
   "metadata": {},
   "source": [
    "# try3"
   ]
  },
  {
   "cell_type": "code",
   "execution_count": null,
   "id": "bc2d38d0",
   "metadata": {},
   "outputs": [],
   "source": [
    "class FunctionCollector(cst.CSTVisitor):\n",
    "    METADATA_DEPENDENCIES = (cst.metadata.PositionProvider,)\n",
    "\n",
    "    def __init__(self, ranges):\n",
    "        super().__init__()\n",
    "        self._ranges = ranges\n",
    "        self._assign_info: List[Tuple] = []\n",
    "\n",
    "    def get_info(self):\n",
    "        return self._assign_info\n",
    "\n",
    "    def visit_Assign(self, node: cst.FunctionDef) -> None:\n",
    "        pos = self._ranges[node].start\n",
    "        collector = ValueCollector()\n",
    "        node.value.visit(collector)\n",
    "        value_dict = {'names': collector.names, 'ints': collector.ints, 'floats': collector.floats}\n",
    "        self._assign_info.append((node.targets[0].target.value, value_dict, pos.line))\n",
    "\n",
    "\n",
    "class ValueCollector(cst.CSTVisitor):\n",
    "    def __init__(self):\n",
    "        super().__init__()\n",
    "        self.names: List[str] = []\n",
    "        self.ints: List[str] = []\n",
    "        self.floats: List[str] = []\n",
    "\n",
    "    def visit_Name(self, node: cst.FunctionDef) -> None:\n",
    "        self.names.append(node.value)\n",
    "\n",
    "    def visit_Integer(self, node: cst.FunctionDef) -> None:\n",
    "        self.ints.append(node.value)\n",
    "\n",
    "    def visit_Float(self, node: cst.FunctionDef) -> None:\n",
    "        self.floats.append(node.value)"
   ]
  },
  {
   "cell_type": "code",
   "execution_count": null,
   "id": "c43f2154",
   "metadata": {},
   "outputs": [],
   "source": [
    "class CallGraphManager:\n",
    "    def __init__(self, file_path):\n",
    "        self._call_graph, self._call_df = self._get_call_graph_with_df(file_path)\n",
    "        \n",
    "    def get_variable_affecting_lines_numbers(self, line_number: str) -> List[int]:\n",
    "        a_series = self._call_df.query(f\"line == {line_number}\").iloc[0]\n",
    "        graph_node_name = a_series['hash_name']\n",
    "        ancestors = nx.ancestors(self._call_graph, graph_node_name)       \n",
    "        ancestors_df = self._get_ancestors_call_df(ancestors, graph_node_name)\n",
    "        lines_numbers_list = self._get_lines_numbers_list(ancestors_df)\n",
    "        return lines_numbers_list\n",
    "    \n",
    "    def _get_ancestors_call_df(self, ancestors, graph_node_name):\n",
    "        return self._call_df[self._call_df['hash_name'].isin(ancestors.union({graph_node_name}))]\n",
    "    \n",
    "    @staticmethod\n",
    "    def _get_lines_numbers_list(ancestors_df: pd.DataFrame):\n",
    "        return list(ancestors_df['line'].values)\n",
    "        \n",
    "    def _get_call_graph_with_df(self, file_path: str) -> (nx.DiGraph, pd.DataFrame):\n",
    "        file_lines = open(file_path, 'r').readlines()\n",
    "        file_content = open(file_path, 'r').read()\n",
    "        wrapper = cst.metadata.MetadataWrapper(cst.parse_module(file_content))\n",
    "        scopes = set(wrapper.resolve(cst.metadata.ScopeProvider).values())\n",
    "        ranges = wrapper.resolve(cst.metadata.PositionProvider)\n",
    "        file_number_of_lines = len(file_lines)\n",
    "        \n",
    "        a = pd.Series(list(scopes)).to_frame('scope')\n",
    "        scopes_df = a[\"scope\"].apply(self._get_range, args=(file_number_of_lines, ranges))\n",
    "        scopes_df[\"scope_index\"] = range(len(scopes_df))\n",
    "        \n",
    "        self._scopes_df = scopes_df\n",
    "        self._ranges = ranges\n",
    "        \n",
    "        di_graph, call_df = self._get_call_graph_with_df_from_objects(wrapper, ranges, scopes_df)\n",
    "        return di_graph, call_df\n",
    "        \n",
    "    def _get_range(self, scope, file_number_of_lines, ranges):\n",
    "        if isinstance(scope, cst.metadata.scope_provider.GlobalScope):\n",
    "            start_line_number = 1\n",
    "            end_line_number = file_number_of_lines\n",
    "            scope_name = 'global'\n",
    "            header_end_line_number = start_line_number\n",
    "        else:\n",
    "            start_line_number = ranges[scope.node].start.line\n",
    "            end_line_number = ranges[scope.node].end.line\n",
    "            scope_name = scope.name\n",
    "            header_end_line_number = start_line_number\n",
    "            if hasattr(scope.node, 'params') and scope.node.params:\n",
    "                header_end_line_number = ranges[scope.node.params].end.line\n",
    "            if hasattr(scope.node, 'returns') and scope.node.returns:\n",
    "                header_end_line_number = ranges[scope.node.returns].end.line \n",
    "        scope_length = end_line_number - start_line_number + 1       \n",
    "        values = [scope, start_line_number, end_line_number, header_end_line_number, scope_length, scope_name]\n",
    "        names = [\"scope\", \"start_line_number\", \"end_line_number\", \"header_end_line_number\", \"length\", \"name\"]\n",
    "        output_series = pd.Series(values, index=names)\n",
    "        return output_series\n",
    "    \n",
    "    def _get_call_graph_with_df_from_objects(self, wrapper, ranges, scopes_df) -> (nx.DiGraph, pd.DataFrame):\n",
    "        ranges = wrapper.resolve(cst.metadata.PositionProvider)    \n",
    "        visitor = FunctionCollector(ranges)    \n",
    "        wrapper.visit(visitor)\n",
    "        call_df = pd.DataFrame(visitor.get_info(), columns=['assigned', 'data', 'line'])\n",
    "        call_df['assigner'] = call_df['data'].apply(lambda x: x['names'])\n",
    "        call_df[\"scope_index\"] = call_df[\"line\"].apply(self._get_scope_index, args=(scopes_df,))\n",
    "        call_df['hash_name'] = call_df.apply(lambda x: (x[\"assigned\"], x[\"scope_index\"]), axis=1)\n",
    "        di_graph = self._create_di_graph_from_call_df(call_df)\n",
    "        return di_graph, call_df\n",
    "    \n",
    "    def _get_all_variables_names(self, call_df):\n",
    "        assigned_list = list(call_df.apply(lambda x: (x[\"assigned\"], x[\"scope_index\"]), axis=1))\n",
    "        assigners_list = list(call_df.explode(['assigner']).dropna().apply(lambda x: (x[\"assigner\"], x[\"scope_index\"]), axis=1))\n",
    "        return set(assigned_list + assigners_list)\n",
    "\n",
    "\n",
    "    def _create_di_graph_from_call_df(self, call_df):\n",
    "        var_names = self._get_all_variables_names(call_df)\n",
    "        di_graph = nx.DiGraph()\n",
    "        for name in var_names:\n",
    "            di_graph.add_node(name)\n",
    "        for index, a_series in call_df.iterrows():\n",
    "            scope_index = a_series[\"scope_index\"]\n",
    "            if a_series['assigner']:\n",
    "                for assigner in a_series['assigner']:\n",
    "                    di_graph.add_edge((assigner, scope_index), (a_series['assigned'], scope_index))\n",
    "        return di_graph\n",
    "\n",
    "    def _get_scope_index(self, line_number, scopes_df):\n",
    "        c = scopes_df.query(f\"start_line_number <= {line_number} and end_line_number >= {line_number}\").sort_values(\"length\")\n",
    "        scope_index = c.iloc[0]['scope_index']\n",
    "        return scope_index"
   ]
  },
  {
   "cell_type": "code",
   "execution_count": null,
   "id": "2bdc3c3d",
   "metadata": {},
   "outputs": [],
   "source": [
    "mm = CallGraphManager('play.py')"
   ]
  },
  {
   "cell_type": "code",
   "execution_count": null,
   "id": "483564f4",
   "metadata": {},
   "outputs": [],
   "source": [
    "mm.get_variable_affecting_lines_numbers(17)"
   ]
  },
  {
   "cell_type": "code",
   "execution_count": null,
   "id": "2f2d4513",
   "metadata": {},
   "outputs": [],
   "source": [
    "scopes_df = mm._scopes_df\n",
    "ranges = mm._ranges"
   ]
  },
  {
   "cell_type": "code",
   "execution_count": null,
   "id": "bdd20ca2",
   "metadata": {},
   "outputs": [],
   "source": [
    "scopes_df"
   ]
  },
  {
   "cell_type": "code",
   "execution_count": null,
   "id": "265914d8",
   "metadata": {},
   "outputs": [],
   "source": [
    "c = scopes_df.query(f\"start_line_number <= {line_number} and end_line_number >= {line_number}\").sort_values(\"length\")"
   ]
  },
  {
   "cell_type": "code",
   "execution_count": null,
   "id": "b530d5e2",
   "metadata": {},
   "outputs": [],
   "source": [
    "c.iloc[:-1][\"start_line_number\"].tolist()"
   ]
  },
  {
   "cell_type": "code",
   "execution_count": null,
   "id": "2bdef2b9",
   "metadata": {},
   "outputs": [],
   "source": [
    "c"
   ]
  },
  {
   "cell_type": "code",
   "execution_count": null,
   "id": "8b3258bf",
   "metadata": {},
   "outputs": [],
   "source": [
    "def _get_scope_hierarchy_starts_list(scopes_df):\n",
    "    c = scopes_df.query(f\"start_line_number <= {line_number} and end_line_number >= {line_number}\").sort_values(\"length\")\n",
    "    lines_numbers_list = c.iloc[:-1][\"start_line_number\"].tolist()\n",
    "    return lines_numbers_list"
   ]
  },
  {
   "cell_type": "code",
   "execution_count": null,
   "id": "97a5817d",
   "metadata": {},
   "outputs": [],
   "source": [
    "# wrapper"
   ]
  },
  {
   "cell_type": "code",
   "execution_count": null,
   "id": "10a499cd",
   "metadata": {},
   "outputs": [],
   "source": [
    "scopes_df"
   ]
  },
  {
   "cell_type": "code",
   "execution_count": null,
   "id": "a59a2114",
   "metadata": {},
   "outputs": [],
   "source": [
    "scope = scopes_df.iloc[2]['scope']"
   ]
  },
  {
   "cell_type": "code",
   "execution_count": null,
   "id": "af6f5be3",
   "metadata": {},
   "outputs": [],
   "source": [
    "scope.node"
   ]
  },
  {
   "cell_type": "code",
   "execution_count": null,
   "id": "bfd69bc1",
   "metadata": {},
   "outputs": [],
   "source": [
    "scope.node.params"
   ]
  },
  {
   "cell_type": "code",
   "execution_count": null,
   "id": "a08a7f89",
   "metadata": {},
   "outputs": [],
   "source": [
    "ranges[scope.node.params]"
   ]
  },
  {
   "cell_type": "code",
   "execution_count": null,
   "id": "0bff609b",
   "metadata": {},
   "outputs": [],
   "source": [
    "ranges[scope.node]"
   ]
  },
  {
   "cell_type": "code",
   "execution_count": null,
   "id": "bbabcaf1",
   "metadata": {},
   "outputs": [],
   "source": [
    "ranges[scope.node.returns]"
   ]
  },
  {
   "cell_type": "code",
   "execution_count": null,
   "id": "a9c086c9",
   "metadata": {},
   "outputs": [],
   "source": [
    "hasattr(scope.node, 'returns')"
   ]
  },
  {
   "cell_type": "code",
   "execution_count": null,
   "id": "4858d1ff",
   "metadata": {},
   "outputs": [],
   "source": [
    "ranges[scope.node.params].end.line"
   ]
  },
  {
   "cell_type": "code",
   "execution_count": null,
   "id": "84b18e62",
   "metadata": {},
   "outputs": [],
   "source": [
    "scope.node"
   ]
  },
  {
   "cell_type": "code",
   "execution_count": null,
   "id": "998aa8e9",
   "metadata": {},
   "outputs": [],
   "source": [
    "ranges[scope.node.returns]"
   ]
  },
  {
   "cell_type": "code",
   "execution_count": null,
   "id": "cecf3458",
   "metadata": {},
   "outputs": [],
   "source": [
    "scope.node.decorators"
   ]
  },
  {
   "cell_type": "code",
   "execution_count": null,
   "id": "f01ae6fd",
   "metadata": {},
   "outputs": [],
   "source": [
    "ranges[scope.node.decorators[0]]"
   ]
  },
  {
   "cell_type": "code",
   "execution_count": null,
   "id": "6abe0bd1",
   "metadata": {},
   "outputs": [],
   "source": []
  },
  {
   "cell_type": "code",
   "execution_count": null,
   "id": "3d4a2d8e",
   "metadata": {},
   "outputs": [],
   "source": []
  },
  {
   "cell_type": "markdown",
   "id": "9d8b6fb7",
   "metadata": {},
   "source": [
    "# self"
   ]
  },
  {
   "cell_type": "code",
   "execution_count": 5,
   "id": "e3ff5f39",
   "metadata": {},
   "outputs": [
    {
     "data": {
      "text/plain": [
       "SimpleStatementLine(\n",
       "    body=[\n",
       "        Assign(\n",
       "            targets=[\n",
       "                AssignTarget(\n",
       "                    target=Name(\n",
       "                        value='m',\n",
       "                        lpar=[],\n",
       "                        rpar=[],\n",
       "                    ),\n",
       "                    whitespace_before_equal=SimpleWhitespace(\n",
       "                        value=' ',\n",
       "                    ),\n",
       "                    whitespace_after_equal=SimpleWhitespace(\n",
       "                        value=' ',\n",
       "                    ),\n",
       "                ),\n",
       "            ],\n",
       "            value=Call(\n",
       "                func=Attribute(\n",
       "                    value=Name(\n",
       "                        value='pd',\n",
       "                        lpar=[],\n",
       "                        rpar=[],\n",
       "                    ),\n",
       "                    attr=Name(\n",
       "                        value='Series',\n",
       "                        lpar=[],\n",
       "                        rpar=[],\n",
       "                    ),\n",
       "                    dot=Dot(\n",
       "                        whitespace_before=SimpleWhitespace(\n",
       "                            value='',\n",
       "                        ),\n",
       "                        whitespace_after=SimpleWhitespace(\n",
       "                            value='',\n",
       "                        ),\n",
       "                    ),\n",
       "                    lpar=[],\n",
       "                    rpar=[],\n",
       "                ),\n",
       "                args=[\n",
       "                    Arg(\n",
       "                        value=Dict(\n",
       "                            elements=[\n",
       "                                DictElement(\n",
       "                                    key=SimpleString(\n",
       "                                        value='\"c\"',\n",
       "                                        lpar=[],\n",
       "                                        rpar=[],\n",
       "                                    ),\n",
       "                                    value=Integer(\n",
       "                                        value='20',\n",
       "                                        lpar=[],\n",
       "                                        rpar=[],\n",
       "                                    ),\n",
       "                                    comma=MaybeSentinel.DEFAULT,\n",
       "                                    whitespace_before_colon=SimpleWhitespace(\n",
       "                                        value='',\n",
       "                                    ),\n",
       "                                    whitespace_after_colon=SimpleWhitespace(\n",
       "                                        value=' ',\n",
       "                                    ),\n",
       "                                ),\n",
       "                            ],\n",
       "                            lbrace=LeftCurlyBrace(\n",
       "                                whitespace_after=SimpleWhitespace(\n",
       "                                    value='',\n",
       "                                ),\n",
       "                            ),\n",
       "                            rbrace=RightCurlyBrace(\n",
       "                                whitespace_before=SimpleWhitespace(\n",
       "                                    value='',\n",
       "                                ),\n",
       "                            ),\n",
       "                            lpar=[],\n",
       "                            rpar=[],\n",
       "                        ),\n",
       "                        keyword=None,\n",
       "                        equal=MaybeSentinel.DEFAULT,\n",
       "                        comma=MaybeSentinel.DEFAULT,\n",
       "                        star='',\n",
       "                        whitespace_after_star=SimpleWhitespace(\n",
       "                            value='',\n",
       "                        ),\n",
       "                        whitespace_after_arg=SimpleWhitespace(\n",
       "                            value='',\n",
       "                        ),\n",
       "                    ),\n",
       "                ],\n",
       "                lpar=[],\n",
       "                rpar=[],\n",
       "                whitespace_after_func=SimpleWhitespace(\n",
       "                    value='',\n",
       "                ),\n",
       "                whitespace_before_args=SimpleWhitespace(\n",
       "                    value='',\n",
       "                ),\n",
       "            ),\n",
       "            semicolon=MaybeSentinel.DEFAULT,\n",
       "        ),\n",
       "    ],\n",
       "    leading_lines=[],\n",
       "    trailing_whitespace=TrailingWhitespace(\n",
       "        whitespace=SimpleWhitespace(\n",
       "            value='',\n",
       "        ),\n",
       "        comment=None,\n",
       "        newline=Newline(\n",
       "            value=None,\n",
       "        ),\n",
       "    ),\n",
       ")"
      ]
     },
     "execution_count": 5,
     "metadata": {},
     "output_type": "execute_result"
    }
   ],
   "source": [
    "# wrapper.module.body[3].body.body[1].body.body[0].body\n",
    "wrapper.module.body[3].body.body[1]"
   ]
  },
  {
   "cell_type": "code",
   "execution_count": null,
   "id": "4ac64f89",
   "metadata": {},
   "outputs": [],
   "source": [
    "# import libcst\n",
    "\n",
    "# function_def = libcst.parse_statement(\"def hello_world():\\n  print('Hello World')\")\n",
    "# print(libcst.Module([]).code_for_node(function_def))"
   ]
  },
  {
   "cell_type": "code",
   "execution_count": 6,
   "id": "f83a2c0e",
   "metadata": {},
   "outputs": [],
   "source": [
    "class ValueCollector(cst.CSTVisitor):\n",
    "    def __init__(self):\n",
    "        super().__init__()\n",
    "        self.names: List[Union[str, Tuple]] = []\n",
    "        self.ints: List[str] = []\n",
    "        self.floats: List[str] = []\n",
    "        self._inside_attribute = False\n",
    "\n",
    "    def visit_Name(self, node: cst.FunctionDef) -> None:\n",
    "        if not self._inside_attribute:\n",
    "            self.names.append(node.value)\n",
    "\n",
    "    def visit_Integer(self, node: cst.FunctionDef) -> None:\n",
    "        self.ints.append(node.value)\n",
    "\n",
    "    def visit_Float(self, node: cst.FunctionDef) -> None:\n",
    "        self.floats.append(node.value)\n",
    "\n",
    "    def visit_Attribute(self, node: cst.FunctionDef) -> None:\n",
    "        self._inside_attribute = True\n",
    "        self.names.append((node.value.value, node.attr.value))\n",
    "\n",
    "    def leave_Attribute(self, node: cst.FunctionDef) -> None:\n",
    "        self._inside_attribute = False"
   ]
  },
  {
   "cell_type": "code",
   "execution_count": 7,
   "id": "c16b2c8b",
   "metadata": {},
   "outputs": [],
   "source": [
    "collector = ValueCollector()"
   ]
  },
  {
   "cell_type": "code",
   "execution_count": 8,
   "id": "efca19c7",
   "metadata": {},
   "outputs": [],
   "source": [
    "# wrapper.module.body[2].body.body[1].body.body[0].body[0].visit(collector)"
   ]
  },
  {
   "cell_type": "code",
   "execution_count": 10,
   "id": "8529b6d3",
   "metadata": {},
   "outputs": [
    {
     "data": {
      "text/plain": [
       "[]"
      ]
     },
     "execution_count": 10,
     "metadata": {},
     "output_type": "execute_result"
    }
   ],
   "source": [
    "collector.names"
   ]
  },
  {
   "cell_type": "code",
   "execution_count": 11,
   "id": "b762f631",
   "metadata": {},
   "outputs": [
    {
     "name": "stdout",
     "output_type": "stream",
     "text": [
      "import alkh\n",
      "alkh.analyze()\n",
      "import pandas as pd\n",
      "\n",
      "\n",
      "class A:\n",
      "    k = 8\n",
      "    m = pd.Series({\"c\": 20})\n",
      "\n",
      "    def __init__(self):\n",
      "        self.k, ll = 9, 10\n",
      "        b, mm = 8 + self.k + self.m.c, self.k\n",
      "        pass\n",
      "\n",
      "    @staticmethod\n",
      "    def run(\n",
      "            n)\\\n",
      "            -> int:\n",
      "        a = 5\n",
      "        b = a + 7 + 5.0\n",
      "        ll = a + 6.4\n",
      "        c = a + b + 3\n",
      "        d = b + c\n",
      "        k = int(d * 2)\n",
      "        return k\n",
      "\n",
      "\n",
      "class B:\n",
      "    def __init__(self):\n",
      "        b = 8\n",
      "        pass\n",
      "\n",
      "    def run(self):\n",
      "        a = 5\n",
      "        b = a + 7 + 5.0\n",
      "        ll = a + 6.4\n",
      "        c = a + b + 3\n",
      "        d = b + c\n",
      "\n"
     ]
    }
   ],
   "source": [
    "print(file_content)"
   ]
  },
  {
   "cell_type": "code",
   "execution_count": 12,
   "id": "84ba9826",
   "metadata": {},
   "outputs": [],
   "source": [
    "class ValueCollector(cst.CSTVisitor):\n",
    "    def __init__(self):\n",
    "        super().__init__()\n",
    "        self.names: List[Union[str, Tuple]] = []\n",
    "        self.ints: List[str] = []\n",
    "        self.floats: List[str] = []\n",
    "        self._attribute_level = 0\n",
    "\n",
    "    def visit_Name(self, node: cst.FunctionDef) -> None:\n",
    "        if self._attribute_level == 0:\n",
    "            self.names.append([node.value])\n",
    "\n",
    "    def visit_Integer(self, node: cst.FunctionDef) -> None:\n",
    "        self.ints.append(node.value)\n",
    "\n",
    "    def visit_Float(self, node: cst.FunctionDef) -> None:\n",
    "        self.floats.append(node.value)\n",
    "\n",
    "    def visit_Attribute(self, node: cst.FunctionDef) -> None:\n",
    "        self._attribute_level += 1\n",
    "\n",
    "    def leave_Attribute(self, node: cst.FunctionDef) -> None:\n",
    "        if isinstance(node.value, cst._nodes.expression.Name):\n",
    "            self.names.append([node.value.value, node.attr.value])\n",
    "        else:\n",
    "            self.names[len(self.names) - 1].append(node.attr.value)\n",
    "        self._attribute_level -= 1"
   ]
  },
  {
   "cell_type": "code",
   "execution_count": 21,
   "id": "5335ecd3",
   "metadata": {},
   "outputs": [],
   "source": [
    "# wrapper.module.body[3].body.body[2].body.body[1].body[0].value"
   ]
  },
  {
   "cell_type": "code",
   "execution_count": 22,
   "id": "b4620491",
   "metadata": {},
   "outputs": [],
   "source": [
    "# a = wrapper.module.body[3].body.body[2].body.body[1].body[0].value.right\n",
    "# a"
   ]
  },
  {
   "cell_type": "code",
   "execution_count": 23,
   "id": "71609d24",
   "metadata": {},
   "outputs": [],
   "source": [
    "collector = ValueCollector()"
   ]
  },
  {
   "cell_type": "code",
   "execution_count": 24,
   "id": "a67b9ba9",
   "metadata": {},
   "outputs": [
    {
     "ename": "AttributeError",
     "evalue": "'Tuple' object has no attribute 'right'",
     "output_type": "error",
     "traceback": [
      "\u001b[0;31m---------------------------------------------------------------------------\u001b[0m",
      "\u001b[0;31mAttributeError\u001b[0m                            Traceback (most recent call last)",
      "Input \u001b[0;32mIn [24]\u001b[0m, in \u001b[0;36m<cell line: 1>\u001b[0;34m()\u001b[0m\n\u001b[0;32m----> 1\u001b[0m k \u001b[38;5;241m=\u001b[39m \u001b[43mwrapper\u001b[49m\u001b[38;5;241;43m.\u001b[39;49m\u001b[43mmodule\u001b[49m\u001b[38;5;241;43m.\u001b[39;49m\u001b[43mbody\u001b[49m\u001b[43m[\u001b[49m\u001b[38;5;241;43m3\u001b[39;49m\u001b[43m]\u001b[49m\u001b[38;5;241;43m.\u001b[39;49m\u001b[43mbody\u001b[49m\u001b[38;5;241;43m.\u001b[39;49m\u001b[43mbody\u001b[49m\u001b[43m[\u001b[49m\u001b[38;5;241;43m2\u001b[39;49m\u001b[43m]\u001b[49m\u001b[38;5;241;43m.\u001b[39;49m\u001b[43mbody\u001b[49m\u001b[38;5;241;43m.\u001b[39;49m\u001b[43mbody\u001b[49m\u001b[43m[\u001b[49m\u001b[38;5;241;43m0\u001b[39;49m\u001b[43m]\u001b[49m\u001b[38;5;241;43m.\u001b[39;49m\u001b[43mbody\u001b[49m\u001b[43m[\u001b[49m\u001b[38;5;241;43m0\u001b[39;49m\u001b[43m]\u001b[49m\u001b[38;5;241;43m.\u001b[39;49m\u001b[43mvalue\u001b[49m\u001b[38;5;241;43m.\u001b[39;49m\u001b[43mright\u001b[49m\u001b[38;5;241m.\u001b[39mvisit(collector)\n",
      "\u001b[0;31mAttributeError\u001b[0m: 'Tuple' object has no attribute 'right'"
     ]
    }
   ],
   "source": [
    "k = wrapper.module.body[3].body.body[2].body.body[0].body[0].value.right.visit(collector)"
   ]
  },
  {
   "cell_type": "code",
   "execution_count": null,
   "id": "9dcec48a",
   "metadata": {},
   "outputs": [],
   "source": [
    "type(a.value.value)"
   ]
  },
  {
   "cell_type": "code",
   "execution_count": null,
   "id": "e2a2702c",
   "metadata": {},
   "outputs": [],
   "source": [
    "type(a.value)"
   ]
  },
  {
   "cell_type": "code",
   "execution_count": null,
   "id": "7120e8fd",
   "metadata": {},
   "outputs": [],
   "source": [
    "collector.names"
   ]
  },
  {
   "cell_type": "code",
   "execution_count": null,
   "id": "d2a89098",
   "metadata": {},
   "outputs": [],
   "source": []
  },
  {
   "cell_type": "code",
   "execution_count": 27,
   "id": "b4b4747a",
   "metadata": {},
   "outputs": [
    {
     "data": {
      "text/plain": [
       "[['b'], ['mm'], ['self', 'k'], ['self', 'm', 'c'], ['self', 'k']]"
      ]
     },
     "execution_count": 27,
     "metadata": {},
     "output_type": "execute_result"
    }
   ],
   "source": [
    "collector = ValueCollector()\n",
    "k = wrapper.module.body[3].body.body[2].body.body[1].body[0].visit(collector)\n",
    "collector.names"
   ]
  },
  {
   "cell_type": "code",
   "execution_count": 26,
   "id": "cc5a48ec",
   "metadata": {},
   "outputs": [
    {
     "data": {
      "text/plain": [
       "[['alkh'],\n",
       " ['alkh', 'analyze'],\n",
       " ['pandas'],\n",
       " ['pd'],\n",
       " ['A'],\n",
       " ['k'],\n",
       " ['m'],\n",
       " ['pd', 'Series'],\n",
       " ['__init__'],\n",
       " ['self'],\n",
       " ['self', 'k'],\n",
       " ['ll'],\n",
       " ['b'],\n",
       " ['mm'],\n",
       " ['self', 'k'],\n",
       " ['self', 'm', 'c'],\n",
       " ['self', 'k'],\n",
       " ['staticmethod'],\n",
       " ['run'],\n",
       " ['n'],\n",
       " ['int'],\n",
       " ['a'],\n",
       " ['b'],\n",
       " ['a'],\n",
       " ['ll'],\n",
       " ['a'],\n",
       " ['c'],\n",
       " ['a'],\n",
       " ['b'],\n",
       " ['d'],\n",
       " ['b'],\n",
       " ['c'],\n",
       " ['k'],\n",
       " ['int'],\n",
       " ['d'],\n",
       " ['k'],\n",
       " ['B'],\n",
       " ['__init__'],\n",
       " ['self'],\n",
       " ['b'],\n",
       " ['run'],\n",
       " ['self'],\n",
       " ['a'],\n",
       " ['b'],\n",
       " ['a'],\n",
       " ['ll'],\n",
       " ['a'],\n",
       " ['c'],\n",
       " ['a'],\n",
       " ['b'],\n",
       " ['d'],\n",
       " ['b'],\n",
       " ['c']]"
      ]
     },
     "execution_count": 26,
     "metadata": {},
     "output_type": "execute_result"
    }
   ],
   "source": [
    "collector = ValueCollector()\n",
    "k = wrapper.visit(collector)\n",
    "collector.names"
   ]
  },
  {
   "cell_type": "code",
   "execution_count": 29,
   "id": "bcc5aa90",
   "metadata": {},
   "outputs": [
    {
     "data": {
      "text/plain": [
       "[6, 15, 16, 17, 18, 19, 20, 22]"
      ]
     },
     "execution_count": 29,
     "metadata": {},
     "output_type": "execute_result"
    }
   ],
   "source": [
    "from alkh.cst_utils import CallGraphManager\n",
    "\n",
    "file_path = '/mnt/dev/open_source_projects/alkh/notebooks/play.py'\n",
    "line_number = 22\n",
    "call_graph_manager = CallGraphManager(file_path)\n",
    "call_graph_manager.get_variable_affecting_lines_numbers(line_number)"
   ]
  },
  {
   "cell_type": "code",
   "execution_count": null,
   "id": "6a4bbe32",
   "metadata": {},
   "outputs": [],
   "source": []
  },
  {
   "cell_type": "code",
   "execution_count": null,
   "id": "b74b3a4f",
   "metadata": {},
   "outputs": [],
   "source": []
  },
  {
   "cell_type": "code",
   "execution_count": 44,
   "id": "f0dbc10c",
   "metadata": {},
   "outputs": [
    {
     "data": {
      "text/plain": [
       "SimpleStatementLine(\n",
       "    body=[\n",
       "        Assign(\n",
       "            targets=[\n",
       "                AssignTarget(\n",
       "                    target=Tuple(\n",
       "                        elements=[\n",
       "                            Element(\n",
       "                                value=Name(\n",
       "                                    value='b',\n",
       "                                    lpar=[],\n",
       "                                    rpar=[],\n",
       "                                ),\n",
       "                                comma=Comma(\n",
       "                                    whitespace_before=SimpleWhitespace(\n",
       "                                        value='',\n",
       "                                    ),\n",
       "                                    whitespace_after=SimpleWhitespace(\n",
       "                                        value=' ',\n",
       "                                    ),\n",
       "                                ),\n",
       "                            ),\n",
       "                            Element(\n",
       "                                value=Name(\n",
       "                                    value='mm',\n",
       "                                    lpar=[],\n",
       "                                    rpar=[],\n",
       "                                ),\n",
       "                                comma=MaybeSentinel.DEFAULT,\n",
       "                            ),\n",
       "                        ],\n",
       "                        lpar=[],\n",
       "                        rpar=[],\n",
       "                    ),\n",
       "                    whitespace_before_equal=SimpleWhitespace(\n",
       "                        value=' ',\n",
       "                    ),\n",
       "                    whitespace_after_equal=SimpleWhitespace(\n",
       "                        value=' ',\n",
       "                    ),\n",
       "                ),\n",
       "            ],\n",
       "            value=Tuple(\n",
       "                elements=[\n",
       "                    Element(\n",
       "                        value=BinaryOperation(\n",
       "                            left=BinaryOperation(\n",
       "                                left=Integer(\n",
       "                                    value='8',\n",
       "                                    lpar=[],\n",
       "                                    rpar=[],\n",
       "                                ),\n",
       "                                operator=Add(\n",
       "                                    whitespace_before=SimpleWhitespace(\n",
       "                                        value=' ',\n",
       "                                    ),\n",
       "                                    whitespace_after=SimpleWhitespace(\n",
       "                                        value=' ',\n",
       "                                    ),\n",
       "                                ),\n",
       "                                right=Attribute(\n",
       "                                    value=Name(\n",
       "                                        value='self',\n",
       "                                        lpar=[],\n",
       "                                        rpar=[],\n",
       "                                    ),\n",
       "                                    attr=Name(\n",
       "                                        value='k',\n",
       "                                        lpar=[],\n",
       "                                        rpar=[],\n",
       "                                    ),\n",
       "                                    dot=Dot(\n",
       "                                        whitespace_before=SimpleWhitespace(\n",
       "                                            value='',\n",
       "                                        ),\n",
       "                                        whitespace_after=SimpleWhitespace(\n",
       "                                            value='',\n",
       "                                        ),\n",
       "                                    ),\n",
       "                                    lpar=[],\n",
       "                                    rpar=[],\n",
       "                                ),\n",
       "                                lpar=[],\n",
       "                                rpar=[],\n",
       "                            ),\n",
       "                            operator=Add(\n",
       "                                whitespace_before=SimpleWhitespace(\n",
       "                                    value=' ',\n",
       "                                ),\n",
       "                                whitespace_after=SimpleWhitespace(\n",
       "                                    value=' ',\n",
       "                                ),\n",
       "                            ),\n",
       "                            right=Attribute(\n",
       "                                value=Attribute(\n",
       "                                    value=Name(\n",
       "                                        value='self',\n",
       "                                        lpar=[],\n",
       "                                        rpar=[],\n",
       "                                    ),\n",
       "                                    attr=Name(\n",
       "                                        value='m',\n",
       "                                        lpar=[],\n",
       "                                        rpar=[],\n",
       "                                    ),\n",
       "                                    dot=Dot(\n",
       "                                        whitespace_before=SimpleWhitespace(\n",
       "                                            value='',\n",
       "                                        ),\n",
       "                                        whitespace_after=SimpleWhitespace(\n",
       "                                            value='',\n",
       "                                        ),\n",
       "                                    ),\n",
       "                                    lpar=[],\n",
       "                                    rpar=[],\n",
       "                                ),\n",
       "                                attr=Name(\n",
       "                                    value='c',\n",
       "                                    lpar=[],\n",
       "                                    rpar=[],\n",
       "                                ),\n",
       "                                dot=Dot(\n",
       "                                    whitespace_before=SimpleWhitespace(\n",
       "                                        value='',\n",
       "                                    ),\n",
       "                                    whitespace_after=SimpleWhitespace(\n",
       "                                        value='',\n",
       "                                    ),\n",
       "                                ),\n",
       "                                lpar=[],\n",
       "                                rpar=[],\n",
       "                            ),\n",
       "                            lpar=[],\n",
       "                            rpar=[],\n",
       "                        ),\n",
       "                        comma=Comma(\n",
       "                            whitespace_before=SimpleWhitespace(\n",
       "                                value='',\n",
       "                            ),\n",
       "                            whitespace_after=SimpleWhitespace(\n",
       "                                value=' ',\n",
       "                            ),\n",
       "                        ),\n",
       "                    ),\n",
       "                    Element(\n",
       "                        value=Attribute(\n",
       "                            value=Name(\n",
       "                                value='self',\n",
       "                                lpar=[],\n",
       "                                rpar=[],\n",
       "                            ),\n",
       "                            attr=Name(\n",
       "                                value='k',\n",
       "                                lpar=[],\n",
       "                                rpar=[],\n",
       "                            ),\n",
       "                            dot=Dot(\n",
       "                                whitespace_before=SimpleWhitespace(\n",
       "                                    value='',\n",
       "                                ),\n",
       "                                whitespace_after=SimpleWhitespace(\n",
       "                                    value='',\n",
       "                                ),\n",
       "                            ),\n",
       "                            lpar=[],\n",
       "                            rpar=[],\n",
       "                        ),\n",
       "                        comma=MaybeSentinel.DEFAULT,\n",
       "                    ),\n",
       "                ],\n",
       "                lpar=[],\n",
       "                rpar=[],\n",
       "            ),\n",
       "            semicolon=MaybeSentinel.DEFAULT,\n",
       "        ),\n",
       "    ],\n",
       "    leading_lines=[],\n",
       "    trailing_whitespace=TrailingWhitespace(\n",
       "        whitespace=SimpleWhitespace(\n",
       "            value='',\n",
       "        ),\n",
       "        comment=None,\n",
       "        newline=Newline(\n",
       "            value=None,\n",
       "        ),\n",
       "    ),\n",
       ")"
      ]
     },
     "execution_count": 44,
     "metadata": {},
     "output_type": "execute_result"
    }
   ],
   "source": [
    "wrapper.module.body[3].body.body[2].body.body[1]"
   ]
  },
  {
   "cell_type": "code",
   "execution_count": null,
   "id": "7197bd0f",
   "metadata": {},
   "outputs": [],
   "source": []
  }
 ],
 "metadata": {
  "kernelspec": {
   "display_name": "Python 3 (ipykernel)",
   "language": "python",
   "name": "python3"
  },
  "language_info": {
   "codemirror_mode": {
    "name": "ipython",
    "version": 3
   },
   "file_extension": ".py",
   "mimetype": "text/x-python",
   "name": "python",
   "nbconvert_exporter": "python",
   "pygments_lexer": "ipython3",
   "version": "3.8.3"
  }
 },
 "nbformat": 4,
 "nbformat_minor": 5
}
