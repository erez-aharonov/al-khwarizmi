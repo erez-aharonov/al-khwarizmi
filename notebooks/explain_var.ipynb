{
 "cells": [
  {
   "cell_type": "code",
   "execution_count": 13,
   "id": "cf46a15d",
   "metadata": {},
   "outputs": [],
   "source": [
    "from typing import *\n",
    "import libcst as cst\n",
    "import networkx as nx\n",
    "import pandas as pd\n",
    "import numpy as np"
   ]
  },
  {
   "cell_type": "code",
   "execution_count": 78,
   "id": "005bcbd4",
   "metadata": {},
   "outputs": [
    {
     "data": {
      "text/plain": [
       "'2.8.5'"
      ]
     },
     "execution_count": 78,
     "metadata": {},
     "output_type": "execute_result"
    }
   ],
   "source": [
    "nx.__version__"
   ]
  },
  {
   "cell_type": "code",
   "execution_count": 65,
   "id": "1a3cbdce",
   "metadata": {},
   "outputs": [],
   "source": [
    "file_path = 'play.py'"
   ]
  },
  {
   "cell_type": "code",
   "execution_count": 66,
   "id": "08e819c4",
   "metadata": {},
   "outputs": [],
   "source": [
    "line_number = 9\n",
    "var_name = 'd'"
   ]
  },
  {
   "cell_type": "code",
   "execution_count": 67,
   "id": "8a1797c0",
   "metadata": {},
   "outputs": [],
   "source": [
    "file_lines = open(file_path, 'r').readlines()"
   ]
  },
  {
   "cell_type": "code",
   "execution_count": 68,
   "id": "fe48f080",
   "metadata": {},
   "outputs": [],
   "source": [
    "file_cst = cst.parse_module(open(file_path, 'r').read())"
   ]
  },
  {
   "cell_type": "code",
   "execution_count": 69,
   "id": "663857b2",
   "metadata": {},
   "outputs": [
    {
     "data": {
      "text/plain": [
       "['class A:\\n',\n",
       " '    def __init__(self):\\n',\n",
       " '        pass\\n',\n",
       " '\\n',\n",
       " '    def run(self):\\n',\n",
       " '        a = 5\\n',\n",
       " '        b = a + 7 + 5.0\\n',\n",
       " '        ll = a + 6.4\\n',\n",
       " '        c = a + b + 3\\n',\n",
       " '        d = b + c\\n']"
      ]
     },
     "execution_count": 69,
     "metadata": {},
     "output_type": "execute_result"
    }
   ],
   "source": [
    "file_lines"
   ]
  },
  {
   "cell_type": "code",
   "execution_count": 70,
   "id": "f97e5231",
   "metadata": {},
   "outputs": [],
   "source": [
    "# file_cst"
   ]
  },
  {
   "cell_type": "code",
   "execution_count": 141,
   "id": "874ae818",
   "metadata": {},
   "outputs": [],
   "source": [
    "class FunctionCollector(cst.CSTVisitor):\n",
    "    def __init__(self):\n",
    "        self._names: List[str] = []\n",
    "    \n",
    "    def visit_FunctionDef(self, node: cst.FunctionDef) -> None:\n",
    "#         wrapper = cst.metadata.MetadataWrapper(node)\n",
    "        collector = AssignCollector()\n",
    "#         wrapper.visit(collector)\n",
    "        node.visit(collector)\n",
    "        self._names.append(collector.names)\n",
    "        pass\n",
    "\n",
    "    def leave_FunctionDef(self, node: cst.FunctionDef) -> None:\n",
    "        pass"
   ]
  },
  {
   "cell_type": "code",
   "execution_count": 145,
   "id": "48e3fad0",
   "metadata": {},
   "outputs": [],
   "source": [
    "class AssignCollector(cst.CSTVisitor):\n",
    "#     METADATA_DEPENDENCIES = (cst.metadata.PositionProvider,)\n",
    "    \n",
    "    def __init__(self):\n",
    "        self.names: List[str] = []\n",
    "    \n",
    "    def visit_Assign(self, node: cst.FunctionDef) -> None:\n",
    "#         pos = self.get_metadata(cst.metadata.PositionProvider, node).start\n",
    "        collector = ValueCollector()\n",
    "        node.value.visit(collector)\n",
    "        value_dict = {'names': collector.names, 'ints': collector.ints, 'floats': collector.floats}\n",
    "#         self.names.append((node.targets[0].target.value, value_dict, pos.line))\n",
    "        self.names.append((node.targets[0].target.value, value_dict))"
   ]
  },
  {
   "cell_type": "code",
   "execution_count": 146,
   "id": "56388b6a",
   "metadata": {},
   "outputs": [],
   "source": [
    "class ValueCollector(cst.CSTVisitor):\n",
    "    def __init__(self):\n",
    "        self.names: List[str] = []\n",
    "        self.ints: List[str] = []\n",
    "        self.floats: List[str] = []\n",
    "    \n",
    "    def visit_Name(self, node: cst.FunctionDef) -> None:\n",
    "        self.names.append(node.value)\n",
    "        \n",
    "    def visit_Integer(self, node: cst.FunctionDef) -> None:\n",
    "        self.ints.append(node.value)\n",
    "        \n",
    "    def visit_Float(self, node: cst.FunctionDef) -> None:\n",
    "        self.floats.append(node.value)"
   ]
  },
  {
   "cell_type": "code",
   "execution_count": 187,
   "id": "7fa6a504",
   "metadata": {},
   "outputs": [],
   "source": [
    "visitor = FunctionCollector()\n",
    "# file_cst.visit(visitor)"
   ]
  },
  {
   "cell_type": "code",
   "execution_count": 148,
   "id": "8fba80c4",
   "metadata": {},
   "outputs": [
    {
     "data": {
      "text/plain": [
       "[[],\n",
       " [('a', {'names': [], 'ints': ['5'], 'floats': []}),\n",
       "  ('b', {'names': ['a'], 'ints': ['7'], 'floats': ['5.0']}),\n",
       "  ('ll', {'names': ['a'], 'ints': [], 'floats': ['6.4']}),\n",
       "  ('c', {'names': ['a', 'b'], 'ints': ['3'], 'floats': []}),\n",
       "  ('d', {'names': ['b', 'c'], 'ints': [], 'floats': []})]]"
      ]
     },
     "execution_count": 148,
     "metadata": {},
     "output_type": "execute_result"
    }
   ],
   "source": [
    "visitor._names"
   ]
  },
  {
   "cell_type": "code",
   "execution_count": 79,
   "id": "cc2d4e62",
   "metadata": {},
   "outputs": [
    {
     "data": {
      "text/plain": [
       "[('a', {'names': [], 'ints': ['5'], 'floats': []}),\n",
       " ('b', {'names': ['a'], 'ints': ['7'], 'floats': ['5.0']}),\n",
       " ('ll', {'names': ['a'], 'ints': [], 'floats': ['6.4']}),\n",
       " ('c', {'names': ['a', 'b'], 'ints': ['3'], 'floats': []}),\n",
       " ('d', {'names': ['b', 'c'], 'ints': [], 'floats': []})]"
      ]
     },
     "execution_count": 79,
     "metadata": {},
     "output_type": "execute_result"
    }
   ],
   "source": [
    "a = visitor._names[1]\n",
    "a"
   ]
  },
  {
   "cell_type": "code",
   "execution_count": null,
   "id": "933a215d",
   "metadata": {},
   "outputs": [],
   "source": []
  },
  {
   "cell_type": "code",
   "execution_count": 83,
   "id": "6bb077dc",
   "metadata": {},
   "outputs": [
    {
     "data": {
      "text/html": [
       "<div>\n",
       "<style scoped>\n",
       "    .dataframe tbody tr th:only-of-type {\n",
       "        vertical-align: middle;\n",
       "    }\n",
       "\n",
       "    .dataframe tbody tr th {\n",
       "        vertical-align: top;\n",
       "    }\n",
       "\n",
       "    .dataframe thead th {\n",
       "        text-align: right;\n",
       "    }\n",
       "</style>\n",
       "<table border=\"1\" class=\"dataframe\">\n",
       "  <thead>\n",
       "    <tr style=\"text-align: right;\">\n",
       "      <th></th>\n",
       "      <th>assigned</th>\n",
       "      <th>data</th>\n",
       "    </tr>\n",
       "  </thead>\n",
       "  <tbody>\n",
       "    <tr>\n",
       "      <th>0</th>\n",
       "      <td>a</td>\n",
       "      <td>{'names': [], 'ints': ['5'], 'floats': []}</td>\n",
       "    </tr>\n",
       "    <tr>\n",
       "      <th>1</th>\n",
       "      <td>b</td>\n",
       "      <td>{'names': ['a'], 'ints': ['7'], 'floats': ['5....</td>\n",
       "    </tr>\n",
       "    <tr>\n",
       "      <th>2</th>\n",
       "      <td>ll</td>\n",
       "      <td>{'names': ['a'], 'ints': [], 'floats': ['6.4']}</td>\n",
       "    </tr>\n",
       "    <tr>\n",
       "      <th>3</th>\n",
       "      <td>c</td>\n",
       "      <td>{'names': ['a', 'b'], 'ints': ['3'], 'floats':...</td>\n",
       "    </tr>\n",
       "    <tr>\n",
       "      <th>4</th>\n",
       "      <td>d</td>\n",
       "      <td>{'names': ['b', 'c'], 'ints': [], 'floats': []}</td>\n",
       "    </tr>\n",
       "  </tbody>\n",
       "</table>\n",
       "</div>"
      ],
      "text/plain": [
       "  assigned                                               data\n",
       "0        a         {'names': [], 'ints': ['5'], 'floats': []}\n",
       "1        b  {'names': ['a'], 'ints': ['7'], 'floats': ['5....\n",
       "2       ll    {'names': ['a'], 'ints': [], 'floats': ['6.4']}\n",
       "3        c  {'names': ['a', 'b'], 'ints': ['3'], 'floats':...\n",
       "4        d    {'names': ['b', 'c'], 'ints': [], 'floats': []}"
      ]
     },
     "execution_count": 83,
     "metadata": {},
     "output_type": "execute_result"
    }
   ],
   "source": [
    "b = pd.DataFrame(a, columns=['assigned', 'data'])\n",
    "b"
   ]
  },
  {
   "cell_type": "code",
   "execution_count": 85,
   "id": "502d1747",
   "metadata": {},
   "outputs": [],
   "source": [
    "b['assignee'] = b['data'].apply(lambda x: x['names'])"
   ]
  },
  {
   "cell_type": "code",
   "execution_count": 86,
   "id": "b6b0a089",
   "metadata": {},
   "outputs": [
    {
     "data": {
      "text/html": [
       "<div>\n",
       "<style scoped>\n",
       "    .dataframe tbody tr th:only-of-type {\n",
       "        vertical-align: middle;\n",
       "    }\n",
       "\n",
       "    .dataframe tbody tr th {\n",
       "        vertical-align: top;\n",
       "    }\n",
       "\n",
       "    .dataframe thead th {\n",
       "        text-align: right;\n",
       "    }\n",
       "</style>\n",
       "<table border=\"1\" class=\"dataframe\">\n",
       "  <thead>\n",
       "    <tr style=\"text-align: right;\">\n",
       "      <th></th>\n",
       "      <th>assigned</th>\n",
       "      <th>data</th>\n",
       "      <th>assignee</th>\n",
       "    </tr>\n",
       "  </thead>\n",
       "  <tbody>\n",
       "    <tr>\n",
       "      <th>0</th>\n",
       "      <td>a</td>\n",
       "      <td>{'names': [], 'ints': ['5'], 'floats': []}</td>\n",
       "      <td>[]</td>\n",
       "    </tr>\n",
       "    <tr>\n",
       "      <th>1</th>\n",
       "      <td>b</td>\n",
       "      <td>{'names': ['a'], 'ints': ['7'], 'floats': ['5....</td>\n",
       "      <td>[a]</td>\n",
       "    </tr>\n",
       "    <tr>\n",
       "      <th>2</th>\n",
       "      <td>ll</td>\n",
       "      <td>{'names': ['a'], 'ints': [], 'floats': ['6.4']}</td>\n",
       "      <td>[a]</td>\n",
       "    </tr>\n",
       "    <tr>\n",
       "      <th>3</th>\n",
       "      <td>c</td>\n",
       "      <td>{'names': ['a', 'b'], 'ints': ['3'], 'floats':...</td>\n",
       "      <td>[a, b]</td>\n",
       "    </tr>\n",
       "    <tr>\n",
       "      <th>4</th>\n",
       "      <td>d</td>\n",
       "      <td>{'names': ['b', 'c'], 'ints': [], 'floats': []}</td>\n",
       "      <td>[b, c]</td>\n",
       "    </tr>\n",
       "  </tbody>\n",
       "</table>\n",
       "</div>"
      ],
      "text/plain": [
       "  assigned                                               data assignee\n",
       "0        a         {'names': [], 'ints': ['5'], 'floats': []}       []\n",
       "1        b  {'names': ['a'], 'ints': ['7'], 'floats': ['5....      [a]\n",
       "2       ll    {'names': ['a'], 'ints': [], 'floats': ['6.4']}      [a]\n",
       "3        c  {'names': ['a', 'b'], 'ints': ['3'], 'floats':...   [a, b]\n",
       "4        d    {'names': ['b', 'c'], 'ints': [], 'floats': []}   [b, c]"
      ]
     },
     "execution_count": 86,
     "metadata": {},
     "output_type": "execute_result"
    }
   ],
   "source": [
    "b"
   ]
  },
  {
   "cell_type": "code",
   "execution_count": 111,
   "id": "2e401a07",
   "metadata": {},
   "outputs": [],
   "source": [
    "dg = nx.DiGraph()"
   ]
  },
  {
   "cell_type": "code",
   "execution_count": 112,
   "id": "5c184e8a",
   "metadata": {},
   "outputs": [
    {
     "data": {
      "text/plain": [
       "{'a', 'b', 'c', 'd', 'll'}"
      ]
     },
     "execution_count": 112,
     "metadata": {},
     "output_type": "execute_result"
    }
   ],
   "source": [
    "var_names = set(list(b['assignee'].explode().dropna().unique()) + list(b['assigned'].unique()))\n",
    "var_names"
   ]
  },
  {
   "cell_type": "code",
   "execution_count": 113,
   "id": "58c10b6c",
   "metadata": {},
   "outputs": [],
   "source": [
    "for name in var_names:\n",
    "    dg.add_node(name)"
   ]
  },
  {
   "cell_type": "code",
   "execution_count": 114,
   "id": "506b28d8",
   "metadata": {},
   "outputs": [],
   "source": [
    "for index, a_series in b.iterrows():\n",
    "    if a_series['assignee']:\n",
    "        for assignee in a_series['assignee']:\n",
    "            dg.add_edge(assignee, a_series['assigned'])"
   ]
  },
  {
   "cell_type": "code",
   "execution_count": 115,
   "id": "07565d15",
   "metadata": {},
   "outputs": [
    {
     "data": {
      "text/plain": [
       "<networkx.classes.digraph.DiGraph at 0x7fd420064520>"
      ]
     },
     "execution_count": 115,
     "metadata": {},
     "output_type": "execute_result"
    }
   ],
   "source": [
    "dg"
   ]
  },
  {
   "cell_type": "code",
   "execution_count": 117,
   "id": "ec9daecc",
   "metadata": {},
   "outputs": [
    {
     "data": {
      "image/png": "[encoded data removed]",
      "text/plain": [
       "<Figure size 432x288 with 1 Axes>"
      ]
     },
     "metadata": {},
     "output_type": "display_data"
    }
   ],
   "source": [
    "nx.draw_networkx(dg)"
   ]
  },
  {
   "cell_type": "code",
   "execution_count": 124,
   "id": "0f838d0f",
   "metadata": {},
   "outputs": [],
   "source": [
    "ancestors = nx.ancestors(dg, 'd')"
   ]
  },
  {
   "cell_type": "code",
   "execution_count": 126,
   "id": "fb5a20f0",
   "metadata": {},
   "outputs": [
    {
     "data": {
      "text/html": [
       "<div>\n",
       "<style scoped>\n",
       "    .dataframe tbody tr th:only-of-type {\n",
       "        vertical-align: middle;\n",
       "    }\n",
       "\n",
       "    .dataframe tbody tr th {\n",
       "        vertical-align: top;\n",
       "    }\n",
       "\n",
       "    .dataframe thead th {\n",
       "        text-align: right;\n",
       "    }\n",
       "</style>\n",
       "<table border=\"1\" class=\"dataframe\">\n",
       "  <thead>\n",
       "    <tr style=\"text-align: right;\">\n",
       "      <th></th>\n",
       "      <th>assigned</th>\n",
       "      <th>data</th>\n",
       "      <th>assignee</th>\n",
       "    </tr>\n",
       "  </thead>\n",
       "  <tbody>\n",
       "    <tr>\n",
       "      <th>0</th>\n",
       "      <td>a</td>\n",
       "      <td>{'names': [], 'ints': ['5'], 'floats': []}</td>\n",
       "      <td>[]</td>\n",
       "    </tr>\n",
       "    <tr>\n",
       "      <th>1</th>\n",
       "      <td>b</td>\n",
       "      <td>{'names': ['a'], 'ints': ['7'], 'floats': ['5....</td>\n",
       "      <td>[a]</td>\n",
       "    </tr>\n",
       "    <tr>\n",
       "      <th>3</th>\n",
       "      <td>c</td>\n",
       "      <td>{'names': ['a', 'b'], 'ints': ['3'], 'floats':...</td>\n",
       "      <td>[a, b]</td>\n",
       "    </tr>\n",
       "  </tbody>\n",
       "</table>\n",
       "</div>"
      ],
      "text/plain": [
       "  assigned                                               data assignee\n",
       "0        a         {'names': [], 'ints': ['5'], 'floats': []}       []\n",
       "1        b  {'names': ['a'], 'ints': ['7'], 'floats': ['5....      [a]\n",
       "3        c  {'names': ['a', 'b'], 'ints': ['3'], 'floats':...   [a, b]"
      ]
     },
     "execution_count": 126,
     "metadata": {},
     "output_type": "execute_result"
    }
   ],
   "source": [
    "b[b['assigned'].isin(ancestors)]"
   ]
  },
  {
   "cell_type": "code",
   "execution_count": 129,
   "id": "0f67c9c9",
   "metadata": {},
   "outputs": [
    {
     "name": "stdout",
     "output_type": "stream",
     "text": [
      "class A:\n",
      "    def __init__(self):\n",
      "        pass\n",
      "\n",
      "    def run(self):\n",
      "        a = 5\n",
      "        b = a + 7 + 5.0\n",
      "        ll = a + 6.4\n",
      "        c = a + b + 3\n",
      "        d = b + c\n",
      "\n"
     ]
    }
   ],
   "source": [
    "print(file_cst.code)"
   ]
  },
  {
   "cell_type": "code",
   "execution_count": 153,
   "id": "51f02bca",
   "metadata": {},
   "outputs": [],
   "source": [
    "class NamePrinter(cst.CSTVisitor):\n",
    "    METADATA_DEPENDENCIES = (cst.metadata.PositionProvider,)\n",
    "\n",
    "    def visit_Name(self, node: cst.Name) -> None:\n",
    "        pos = self.get_metadata(cst.metadata.PositionProvider, node).start\n",
    "        print(f\"{node.value} found at line {pos.line}, column {pos.column}\")"
   ]
  },
  {
   "cell_type": "code",
   "execution_count": 154,
   "id": "5d2e2a92",
   "metadata": {},
   "outputs": [
    {
     "name": "stdout",
     "output_type": "stream",
     "text": [
      "x found at line 1, column 0\n"
     ]
    }
   ],
   "source": [
    "wrapper = cst.metadata.MetadataWrapper(cst.parse_module(\"x = 1\"))\n",
    "result = wrapper.visit(NamePrinter())"
   ]
  },
  {
   "cell_type": "code",
   "execution_count": 155,
   "id": "2a21be47",
   "metadata": {},
   "outputs": [
    {
     "name": "stdout",
     "output_type": "stream",
     "text": [
      "A found at line 1, column 6\n",
      "__init__ found at line 2, column 8\n",
      "self found at line 2, column 17\n",
      "run found at line 5, column 8\n",
      "self found at line 5, column 12\n",
      "a found at line 6, column 8\n",
      "b found at line 7, column 8\n",
      "a found at line 7, column 12\n",
      "ll found at line 8, column 8\n",
      "a found at line 8, column 13\n",
      "c found at line 9, column 8\n",
      "a found at line 9, column 12\n",
      "b found at line 9, column 16\n",
      "d found at line 10, column 8\n",
      "b found at line 10, column 12\n",
      "c found at line 10, column 16\n"
     ]
    }
   ],
   "source": [
    "wrapper = cst.metadata.MetadataWrapper(cst.parse_module(open(file_path, 'r').read()))\n",
    "result = wrapper.visit(NamePrinter())"
   ]
  },
  {
   "cell_type": "code",
   "execution_count": 156,
   "id": "c0908a5b",
   "metadata": {},
   "outputs": [],
   "source": [
    "k = cst.parse_module(open(file_path, 'r').read())"
   ]
  },
  {
   "cell_type": "code",
   "execution_count": 167,
   "id": "6644e8d7",
   "metadata": {},
   "outputs": [],
   "source": [
    "# k.body[0]"
   ]
  },
  {
   "cell_type": "code",
   "execution_count": 166,
   "id": "553d0288",
   "metadata": {},
   "outputs": [
    {
     "name": "stdout",
     "output_type": "stream",
     "text": [
      "A found at line 1, column 6\n",
      "__init__ found at line 2, column 8\n",
      "self found at line 2, column 17\n",
      "run found at line 5, column 8\n",
      "self found at line 5, column 12\n",
      "a found at line 6, column 8\n",
      "b found at line 7, column 8\n",
      "a found at line 7, column 12\n",
      "ll found at line 8, column 8\n",
      "a found at line 8, column 13\n",
      "c found at line 9, column 8\n",
      "a found at line 9, column 12\n",
      "b found at line 9, column 16\n",
      "d found at line 10, column 8\n",
      "b found at line 10, column 12\n",
      "c found at line 10, column 16\n"
     ]
    }
   ],
   "source": [
    "wrapper = cst.metadata.MetadataWrapper(k)\n",
    "# wrapper = cst.metadata.MetadataWrapper(k.body[0].name)\n",
    "result = wrapper.visit(NamePrinter())"
   ]
  },
  {
   "cell_type": "code",
   "execution_count": 183,
   "id": "c62a89c5",
   "metadata": {},
   "outputs": [],
   "source": [
    "class FunctionCollector(cst.CSTVisitor):\n",
    "    METADATA_DEPENDENCIES = (cst.metadata.PositionProvider,)\n",
    "    def __init__(self):\n",
    "        self._names: List[str] = []\n",
    "        self.names: List[str] = []\n",
    "    \n",
    "    def visit_FunctionDef(self, node: cst.FunctionDef) -> None:\n",
    "#         wrapper = cst.metadata.MetadataWrapper(node)\n",
    "#         pos = self.get_metadata(cst.metadata.PositionProvider, node).start\n",
    "#         collector = AssignCollector()\n",
    "#         wrapper.visit(collector)\n",
    "#         node.visit(collector)\n",
    "#         self._names.append((collector.names, pos.line))\n",
    "        pass\n",
    "\n",
    "    def leave_FunctionDef(self, node: cst.FunctionDef) -> None:\n",
    "        pass\n",
    "    \n",
    "    def visit_Assign(self, node: cst.FunctionDef) -> None:\n",
    "        pos = self.get_metadata(cst.metadata.PositionProvider, node).start\n",
    "        collector = ValueCollector()\n",
    "        node.value.visit(collector)\n",
    "        value_dict = {'names': collector.names, 'ints': collector.ints, 'floats': collector.floats}\n",
    "        self.names.append((node.targets[0].target.value, value_dict, pos.line))\n",
    "#         self.names.append((node.targets[0].target.value, value_dict))"
   ]
  },
  {
   "cell_type": "code",
   "execution_count": 184,
   "id": "2d5f892a",
   "metadata": {},
   "outputs": [],
   "source": [
    "class AssignCollector(cst.CSTVisitor):\n",
    "    METADATA_DEPENDENCIES = (cst.metadata.PositionProvider,)\n",
    "    \n",
    "    def __init__(self):\n",
    "        self.names: List[str] = []\n",
    "    \n",
    "    def visit_Assign(self, node: cst.FunctionDef) -> None:\n",
    "        pos = self.get_metadata(cst.metadata.PositionProvider, node).start\n",
    "        collector = ValueCollector()\n",
    "        node.value.visit(collector)\n",
    "        value_dict = {'names': collector.names, 'ints': collector.ints, 'floats': collector.floats}\n",
    "#         self.names.append((node.targets[0].target.value, value_dict, pos.line))\n",
    "        self.names.append((node.targets[0].target.value, value_dict))"
   ]
  },
  {
   "cell_type": "code",
   "execution_count": 191,
   "id": "681ae65c",
   "metadata": {},
   "outputs": [],
   "source": [
    "visitor = FunctionCollector()\n",
    "wrapper = cst.metadata.MetadataWrapper(file_cst)\n",
    "jj = wrapper.visit(visitor)"
   ]
  },
  {
   "cell_type": "code",
   "execution_count": 192,
   "id": "373a3c3b",
   "metadata": {},
   "outputs": [
    {
     "data": {
      "text/plain": [
       "[('a', {'names': [], 'ints': ['5'], 'floats': []}, 6),\n",
       " ('b', {'names': ['a'], 'ints': ['7'], 'floats': ['5.0']}, 7),\n",
       " ('ll', {'names': ['a'], 'ints': [], 'floats': ['6.4']}, 8),\n",
       " ('c', {'names': ['a', 'b'], 'ints': ['3'], 'floats': []}, 9),\n",
       " ('d', {'names': ['b', 'c'], 'ints': [], 'floats': []}, 10)]"
      ]
     },
     "execution_count": 192,
     "metadata": {},
     "output_type": "execute_result"
    }
   ],
   "source": [
    "visitor.names"
   ]
  },
  {
   "cell_type": "code",
   "execution_count": 194,
   "id": "d15e15f4",
   "metadata": {},
   "outputs": [
    {
     "data": {
      "text/html": [
       "<div>\n",
       "<style scoped>\n",
       "    .dataframe tbody tr th:only-of-type {\n",
       "        vertical-align: middle;\n",
       "    }\n",
       "\n",
       "    .dataframe tbody tr th {\n",
       "        vertical-align: top;\n",
       "    }\n",
       "\n",
       "    .dataframe thead th {\n",
       "        text-align: right;\n",
       "    }\n",
       "</style>\n",
       "<table border=\"1\" class=\"dataframe\">\n",
       "  <thead>\n",
       "    <tr style=\"text-align: right;\">\n",
       "      <th></th>\n",
       "      <th>assigned</th>\n",
       "      <th>data</th>\n",
       "      <th>line</th>\n",
       "      <th>assignee</th>\n",
       "    </tr>\n",
       "  </thead>\n",
       "  <tbody>\n",
       "    <tr>\n",
       "      <th>0</th>\n",
       "      <td>a</td>\n",
       "      <td>{'names': [], 'ints': ['5'], 'floats': []}</td>\n",
       "      <td>6</td>\n",
       "      <td>[]</td>\n",
       "    </tr>\n",
       "    <tr>\n",
       "      <th>1</th>\n",
       "      <td>b</td>\n",
       "      <td>{'names': ['a'], 'ints': ['7'], 'floats': ['5....</td>\n",
       "      <td>7</td>\n",
       "      <td>[a]</td>\n",
       "    </tr>\n",
       "    <tr>\n",
       "      <th>2</th>\n",
       "      <td>ll</td>\n",
       "      <td>{'names': ['a'], 'ints': [], 'floats': ['6.4']}</td>\n",
       "      <td>8</td>\n",
       "      <td>[a]</td>\n",
       "    </tr>\n",
       "    <tr>\n",
       "      <th>3</th>\n",
       "      <td>c</td>\n",
       "      <td>{'names': ['a', 'b'], 'ints': ['3'], 'floats':...</td>\n",
       "      <td>9</td>\n",
       "      <td>[a, b]</td>\n",
       "    </tr>\n",
       "    <tr>\n",
       "      <th>4</th>\n",
       "      <td>d</td>\n",
       "      <td>{'names': ['b', 'c'], 'ints': [], 'floats': []}</td>\n",
       "      <td>10</td>\n",
       "      <td>[b, c]</td>\n",
       "    </tr>\n",
       "  </tbody>\n",
       "</table>\n",
       "</div>"
      ],
      "text/plain": [
       "  assigned                                               data  line assignee\n",
       "0        a         {'names': [], 'ints': ['5'], 'floats': []}     6       []\n",
       "1        b  {'names': ['a'], 'ints': ['7'], 'floats': ['5....     7      [a]\n",
       "2       ll    {'names': ['a'], 'ints': [], 'floats': ['6.4']}     8      [a]\n",
       "3        c  {'names': ['a', 'b'], 'ints': ['3'], 'floats':...     9   [a, b]\n",
       "4        d    {'names': ['b', 'c'], 'ints': [], 'floats': []}    10   [b, c]"
      ]
     },
     "execution_count": 194,
     "metadata": {},
     "output_type": "execute_result"
    }
   ],
   "source": [
    "b = pd.DataFrame(visitor.names, columns=['assigned', 'data', 'line'])\n",
    "b['assignee'] = b['data'].apply(lambda x: x['names'])\n",
    "b"
   ]
  },
  {
   "cell_type": "code",
   "execution_count": 196,
   "id": "f8cf12b4",
   "metadata": {},
   "outputs": [
    {
     "data": {
      "text/plain": [
       "{'a', 'b', 'c', 'd', 'll'}"
      ]
     },
     "execution_count": 196,
     "metadata": {},
     "output_type": "execute_result"
    }
   ],
   "source": [
    "var_names = set(list(b['assignee'].explode().dropna().unique()) + list(b['assigned'].unique()))\n",
    "var_names"
   ]
  },
  {
   "cell_type": "code",
   "execution_count": 199,
   "id": "12978684",
   "metadata": {},
   "outputs": [
    {
     "data": {
      "image/png": "[encoded data removed]",
      "text/plain": [
       "<Figure size 432x288 with 1 Axes>"
      ]
     },
     "metadata": {},
     "output_type": "display_data"
    }
   ],
   "source": [
    "dg = nx.DiGraph()\n",
    "for name in var_names:\n",
    "    dg.add_node(name)\n",
    "for index, a_series in b.iterrows():\n",
    "    if a_series['assignee']:\n",
    "        for assignee in a_series['assignee']:\n",
    "            dg.add_edge(assignee, a_series['assigned'])\n",
    "nx.draw_networkx(dg)"
   ]
  },
  {
   "cell_type": "code",
   "execution_count": 249,
   "id": "003eb52e",
   "metadata": {},
   "outputs": [
    {
     "data": {
      "text/html": [
       "<div>\n",
       "<style scoped>\n",
       "    .dataframe tbody tr th:only-of-type {\n",
       "        vertical-align: middle;\n",
       "    }\n",
       "\n",
       "    .dataframe tbody tr th {\n",
       "        vertical-align: top;\n",
       "    }\n",
       "\n",
       "    .dataframe thead th {\n",
       "        text-align: right;\n",
       "    }\n",
       "</style>\n",
       "<table border=\"1\" class=\"dataframe\">\n",
       "  <thead>\n",
       "    <tr style=\"text-align: right;\">\n",
       "      <th></th>\n",
       "      <th>assigned</th>\n",
       "      <th>data</th>\n",
       "      <th>line</th>\n",
       "      <th>assignee</th>\n",
       "    </tr>\n",
       "  </thead>\n",
       "  <tbody>\n",
       "    <tr>\n",
       "      <th>0</th>\n",
       "      <td>a</td>\n",
       "      <td>{'names': [], 'ints': ['5'], 'floats': []}</td>\n",
       "      <td>6</td>\n",
       "      <td>[]</td>\n",
       "    </tr>\n",
       "    <tr>\n",
       "      <th>2</th>\n",
       "      <td>ll</td>\n",
       "      <td>{'names': ['a'], 'ints': [], 'floats': ['6.4']}</td>\n",
       "      <td>8</td>\n",
       "      <td>[a]</td>\n",
       "    </tr>\n",
       "  </tbody>\n",
       "</table>\n",
       "</div>"
      ],
      "text/plain": [
       "  assigned                                             data  line assignee\n",
       "0        a       {'names': [], 'ints': ['5'], 'floats': []}     6       []\n",
       "2       ll  {'names': ['a'], 'ints': [], 'floats': ['6.4']}     8      [a]"
      ]
     },
     "execution_count": 249,
     "metadata": {},
     "output_type": "execute_result"
    }
   ],
   "source": [
    "var_name = 'll'\n",
    "ancestors = nx.ancestors(dg, var_name)\n",
    "c = b[b['assigned'].isin(ancestors.union(set([var_name])))]\n",
    "c"
   ]
  },
  {
   "cell_type": "code",
   "execution_count": 246,
   "id": "e758391c",
   "metadata": {},
   "outputs": [
    {
     "name": "stdout",
     "output_type": "stream",
     "text": [
      "class A:\n",
      "    def __init__(self):\n",
      "        pass\n",
      "\n",
      "    def run(self):\n",
      "        a = 5\n",
      "        b = a + 7 + 5.0\n",
      "        ll = a + 6.4\n",
      "        c = a + b + 3\n",
      "        d = b + c\n",
      "\n"
     ]
    }
   ],
   "source": [
    "lines = open(file_path, 'r').readlines()\n",
    "print(\"\".join(lines))"
   ]
  },
  {
   "cell_type": "code",
   "execution_count": 250,
   "id": "9d0d7bb8",
   "metadata": {},
   "outputs": [
    {
     "name": "stdout",
     "output_type": "stream",
     "text": [
      "        a = 5\n",
      "        ll = a + 6.4\n",
      "\n"
     ]
    }
   ],
   "source": [
    "print(\"\".join(np.array(open(file_path, 'r').readlines())[c['line'].values- 1]))"
   ]
  },
  {
   "cell_type": "code",
   "execution_count": null,
   "id": "c411fd4e",
   "metadata": {},
   "outputs": [],
   "source": []
  },
  {
   "cell_type": "code",
   "execution_count": 16,
   "id": "85801d2d",
   "metadata": {},
   "outputs": [],
   "source": [
    "line_cst = cst.parse_module(lines[5].strip())"
   ]
  },
  {
   "cell_type": "code",
   "execution_count": 17,
   "id": "39a50c0a",
   "metadata": {},
   "outputs": [
    {
     "data": {
      "text/plain": [
       "Module(\n",
       "    body=[\n",
       "        SimpleStatementLine(\n",
       "            body=[\n",
       "                Assign(\n",
       "                    targets=[\n",
       "                        AssignTarget(\n",
       "                            target=Name(\n",
       "                                value='a',\n",
       "                                lpar=[],\n",
       "                                rpar=[],\n",
       "                            ),\n",
       "                            whitespace_before_equal=SimpleWhitespace(\n",
       "                                value=' ',\n",
       "                            ),\n",
       "                            whitespace_after_equal=SimpleWhitespace(\n",
       "                                value=' ',\n",
       "                            ),\n",
       "                        ),\n",
       "                    ],\n",
       "                    value=Integer(\n",
       "                        value='5',\n",
       "                        lpar=[],\n",
       "                        rpar=[],\n",
       "                    ),\n",
       "                    semicolon=MaybeSentinel.DEFAULT,\n",
       "                ),\n",
       "            ],\n",
       "            leading_lines=[],\n",
       "            trailing_whitespace=TrailingWhitespace(\n",
       "                whitespace=SimpleWhitespace(\n",
       "                    value='',\n",
       "                ),\n",
       "                comment=None,\n",
       "                newline=Newline(\n",
       "                    value=None,\n",
       "                ),\n",
       "            ),\n",
       "        ),\n",
       "    ],\n",
       "    header=[],\n",
       "    footer=[],\n",
       "    encoding='utf-8',\n",
       "    default_indent='    ',\n",
       "    default_newline='\\n',\n",
       "    has_trailing_newline=False,\n",
       ")"
      ]
     },
     "execution_count": 17,
     "metadata": {},
     "output_type": "execute_result"
    }
   ],
   "source": [
    "line_cst"
   ]
  },
  {
   "cell_type": "code",
   "execution_count": 18,
   "id": "11ca54cb",
   "metadata": {},
   "outputs": [],
   "source": [
    "class AssignCollector(cst.CSTVisitor):   \n",
    "    def __init__(self):\n",
    "        self.names: List[str] = []\n",
    "    \n",
    "    def visit_Assign(self, node: cst.FunctionDef) -> None:\n",
    "        targets = [target.target.value for target in node.targets]\n",
    "        self.names.append(targets)"
   ]
  },
  {
   "cell_type": "code",
   "execution_count": 20,
   "id": "dbb67fa8",
   "metadata": {},
   "outputs": [],
   "source": [
    "collector = AssignCollector()\n",
    "res = line_cst.visit(collector)"
   ]
  },
  {
   "cell_type": "code",
   "execution_count": 21,
   "id": "1928294c",
   "metadata": {},
   "outputs": [
    {
     "data": {
      "text/plain": [
       "[['a']]"
      ]
     },
     "execution_count": 21,
     "metadata": {},
     "output_type": "execute_result"
    }
   ],
   "source": [
    "collector.names"
   ]
  },
  {
   "cell_type": "code",
   "execution_count": 22,
   "id": "3cfda630",
   "metadata": {},
   "outputs": [],
   "source": [
    "class FunctionCollector(cst.CSTVisitor):\n",
    "    METADATA_DEPENDENCIES = (cst.metadata.PositionProvider,)\n",
    "    def __init__(self):\n",
    "        self._names: List[str] = []\n",
    "        self.names: List[str] = []\n",
    "    \n",
    "    def visit_Assign(self, node: cst.FunctionDef) -> None:\n",
    "        pos = self.get_metadata(cst.metadata.PositionProvider, node).start\n",
    "        collector = ValueCollector()\n",
    "        node.value.visit(collector)\n",
    "        value_dict = {'names': collector.names, 'ints': collector.ints, 'floats': collector.floats}\n",
    "        self.names.append((node.targets[0].target.value, value_dict, pos.line))"
   ]
  },
  {
   "cell_type": "code",
   "execution_count": 23,
   "id": "2bacca98",
   "metadata": {},
   "outputs": [],
   "source": [
    "class ValueCollector(cst.CSTVisitor):\n",
    "    def __init__(self):\n",
    "        self.names: List[str] = []\n",
    "        self.ints: List[str] = []\n",
    "        self.floats: List[str] = []\n",
    "    \n",
    "    def visit_Name(self, node: cst.FunctionDef) -> None:\n",
    "        self.names.append(node.value)\n",
    "        \n",
    "    def visit_Integer(self, node: cst.FunctionDef) -> None:\n",
    "        self.ints.append(node.value)\n",
    "        \n",
    "    def visit_Float(self, node: cst.FunctionDef) -> None:\n",
    "        self.floats.append(node.value)"
   ]
  },
  {
   "cell_type": "code",
   "execution_count": 25,
   "id": "5e2ab33b",
   "metadata": {},
   "outputs": [],
   "source": [
    "file_cst = cst.parse_module(open(file_path, 'r').read())\n",
    "visitor = FunctionCollector()\n",
    "wrapper = cst.metadata.MetadataWrapper(file_cst)\n",
    "jj = wrapper.visit(visitor)"
   ]
  },
  {
   "cell_type": "code",
   "execution_count": 26,
   "id": "bfb6884c",
   "metadata": {},
   "outputs": [
    {
     "data": {
      "text/html": [
       "<div>\n",
       "<style scoped>\n",
       "    .dataframe tbody tr th:only-of-type {\n",
       "        vertical-align: middle;\n",
       "    }\n",
       "\n",
       "    .dataframe tbody tr th {\n",
       "        vertical-align: top;\n",
       "    }\n",
       "\n",
       "    .dataframe thead th {\n",
       "        text-align: right;\n",
       "    }\n",
       "</style>\n",
       "<table border=\"1\" class=\"dataframe\">\n",
       "  <thead>\n",
       "    <tr style=\"text-align: right;\">\n",
       "      <th></th>\n",
       "      <th>assigned</th>\n",
       "      <th>data</th>\n",
       "      <th>line</th>\n",
       "      <th>assignee</th>\n",
       "    </tr>\n",
       "  </thead>\n",
       "  <tbody>\n",
       "    <tr>\n",
       "      <th>0</th>\n",
       "      <td>a</td>\n",
       "      <td>{'names': [], 'ints': ['5'], 'floats': []}</td>\n",
       "      <td>6</td>\n",
       "      <td>[]</td>\n",
       "    </tr>\n",
       "    <tr>\n",
       "      <th>1</th>\n",
       "      <td>b</td>\n",
       "      <td>{'names': ['a'], 'ints': ['7'], 'floats': ['5....</td>\n",
       "      <td>7</td>\n",
       "      <td>[a]</td>\n",
       "    </tr>\n",
       "    <tr>\n",
       "      <th>2</th>\n",
       "      <td>ll</td>\n",
       "      <td>{'names': ['a'], 'ints': [], 'floats': ['6.4']}</td>\n",
       "      <td>8</td>\n",
       "      <td>[a]</td>\n",
       "    </tr>\n",
       "    <tr>\n",
       "      <th>3</th>\n",
       "      <td>c</td>\n",
       "      <td>{'names': ['a', 'b'], 'ints': ['3'], 'floats':...</td>\n",
       "      <td>9</td>\n",
       "      <td>[a, b]</td>\n",
       "    </tr>\n",
       "    <tr>\n",
       "      <th>4</th>\n",
       "      <td>d</td>\n",
       "      <td>{'names': ['b', 'c'], 'ints': [], 'floats': []}</td>\n",
       "      <td>10</td>\n",
       "      <td>[b, c]</td>\n",
       "    </tr>\n",
       "  </tbody>\n",
       "</table>\n",
       "</div>"
      ],
      "text/plain": [
       "  assigned                                               data  line assignee\n",
       "0        a         {'names': [], 'ints': ['5'], 'floats': []}     6       []\n",
       "1        b  {'names': ['a'], 'ints': ['7'], 'floats': ['5....     7      [a]\n",
       "2       ll    {'names': ['a'], 'ints': [], 'floats': ['6.4']}     8      [a]\n",
       "3        c  {'names': ['a', 'b'], 'ints': ['3'], 'floats':...     9   [a, b]\n",
       "4        d    {'names': ['b', 'c'], 'ints': [], 'floats': []}    10   [b, c]"
      ]
     },
     "execution_count": 26,
     "metadata": {},
     "output_type": "execute_result"
    }
   ],
   "source": [
    "b = pd.DataFrame(visitor.names, columns=['assigned', 'data', 'line'])\n",
    "b['assignee'] = b['data'].apply(lambda x: x['names'])\n",
    "b"
   ]
  },
  {
   "cell_type": "code",
   "execution_count": 27,
   "id": "7e6e69c6",
   "metadata": {},
   "outputs": [
    {
     "data": {
      "text/plain": [
       "{'a', 'b', 'c', 'd', 'll'}"
      ]
     },
     "execution_count": 27,
     "metadata": {},
     "output_type": "execute_result"
    }
   ],
   "source": [
    "var_names = set(list(b['assignee'].explode().dropna().unique()) + list(b['assigned'].unique()))\n",
    "var_names"
   ]
  },
  {
   "cell_type": "code",
   "execution_count": 28,
   "id": "b091e0b2",
   "metadata": {},
   "outputs": [
    {
     "data": {
      "image/png": "[encoded data removed]",
      "text/plain": [
       "<Figure size 432x288 with 1 Axes>"
      ]
     },
     "metadata": {},
     "output_type": "display_data"
    }
   ],
   "source": [
    "dg = nx.DiGraph()\n",
    "for name in var_names:\n",
    "    dg.add_node(name)\n",
    "for index, a_series in b.iterrows():\n",
    "    if a_series['assignee']:\n",
    "        for assignee in a_series['assignee']:\n",
    "            dg.add_edge(assignee, a_series['assigned'])\n",
    "nx.draw_networkx(dg)"
   ]
  },
  {
   "cell_type": "code",
   "execution_count": 29,
   "id": "f2627ffd",
   "metadata": {},
   "outputs": [
    {
     "data": {
      "text/html": [
       "<div>\n",
       "<style scoped>\n",
       "    .dataframe tbody tr th:only-of-type {\n",
       "        vertical-align: middle;\n",
       "    }\n",
       "\n",
       "    .dataframe tbody tr th {\n",
       "        vertical-align: top;\n",
       "    }\n",
       "\n",
       "    .dataframe thead th {\n",
       "        text-align: right;\n",
       "    }\n",
       "</style>\n",
       "<table border=\"1\" class=\"dataframe\">\n",
       "  <thead>\n",
       "    <tr style=\"text-align: right;\">\n",
       "      <th></th>\n",
       "      <th>assigned</th>\n",
       "      <th>data</th>\n",
       "      <th>line</th>\n",
       "      <th>assignee</th>\n",
       "    </tr>\n",
       "  </thead>\n",
       "  <tbody>\n",
       "    <tr>\n",
       "      <th>0</th>\n",
       "      <td>a</td>\n",
       "      <td>{'names': [], 'ints': ['5'], 'floats': []}</td>\n",
       "      <td>6</td>\n",
       "      <td>[]</td>\n",
       "    </tr>\n",
       "    <tr>\n",
       "      <th>2</th>\n",
       "      <td>ll</td>\n",
       "      <td>{'names': ['a'], 'ints': [], 'floats': ['6.4']}</td>\n",
       "      <td>8</td>\n",
       "      <td>[a]</td>\n",
       "    </tr>\n",
       "  </tbody>\n",
       "</table>\n",
       "</div>"
      ],
      "text/plain": [
       "  assigned                                             data  line assignee\n",
       "0        a       {'names': [], 'ints': ['5'], 'floats': []}     6       []\n",
       "2       ll  {'names': ['a'], 'ints': [], 'floats': ['6.4']}     8      [a]"
      ]
     },
     "execution_count": 29,
     "metadata": {},
     "output_type": "execute_result"
    }
   ],
   "source": [
    "var_name = 'll'\n",
    "ancestors = nx.ancestors(dg, var_name)\n",
    "c = b[b['assigned'].isin(ancestors.union(set([var_name])))]\n",
    "c"
   ]
  },
  {
   "cell_type": "code",
   "execution_count": 30,
   "id": "336450ca",
   "metadata": {},
   "outputs": [
    {
     "name": "stdout",
     "output_type": "stream",
     "text": [
      "        a = 5\n",
      "        ll = a + 6.4\n",
      "\n"
     ]
    }
   ],
   "source": [
    "print(\"\".join(np.array(open(file_path, 'r').readlines())[c['line'].values- 1]))"
   ]
  },
  {
   "cell_type": "code",
   "execution_count": 31,
   "id": "3b477718",
   "metadata": {},
   "outputs": [
    {
     "data": {
      "text/plain": [
       "array([5, 7])"
      ]
     },
     "execution_count": 31,
     "metadata": {},
     "output_type": "execute_result"
    }
   ],
   "source": [
    "c['line'].values- 1"
   ]
  },
  {
   "cell_type": "code",
   "execution_count": null,
   "id": "a6549524",
   "metadata": {},
   "outputs": [],
   "source": []
  }
 ],
 "metadata": {
  "kernelspec": {
   "display_name": "Python 3 (ipykernel)",
   "language": "python",
   "name": "python3"
  },
  "language_info": {
   "codemirror_mode": {
    "name": "ipython",
    "version": 3
   },
   "file_extension": ".py",
   "mimetype": "text/x-python",
   "name": "python",
   "nbconvert_exporter": "python",
   "pygments_lexer": "ipython3",
   "version": "3.8.3"
  }
 },
 "nbformat": 4,
 "nbformat_minor": 5
}
